{
 "cells": [
  {
   "cell_type": "markdown",
   "metadata": {},
   "source": [
    "# Curso MAT281 (2021)\n",
    "\n",
    "> Blog del curso MAT281 (2021)\n",
    "\n",
    "- toc: true \n",
    "- badges: false\n",
    "- comments: true\n",
    "- categories: [jupyter]\n",
    "- image: images/course.png"
   ]
  },
  {
   "cell_type": "markdown",
   "metadata": {},
   "source": [
    "# Descripción de la Asignatura\n",
    "<a href=\"https://faam.gitlab.io/mat281/\"> <img alt=\"Link a la Documentación\" src=\"https://img.shields.io/badge/docs-link-brightgreen\" align = \"left\"> </a>\n",
    "\n",
    "\n",
    "<a href=\"https://gitlab.com/FAAM/mat281/-/commits/master\"> <img alt=\"Link a la Documentación\" src=\"https://gitlab.com/FAAM/mat281/badges/master/pipeline.svg\" align = \"left\"> </a> \n",
    "\n",
    "\n",
    "<a href=\"https://mybinder.org/v2/gl/FAAM%2Fmat281/HEAD\"> <img alt=\"Link a la Documentación\" src=\"https://mybinder.org/badge_logo.svg\" align = \"left\"> </a> \n",
    "\n"
   ]
  },
  {
   "cell_type": "markdown",
   "metadata": {},
   "source": []
  },
  {
   "cell_type": "markdown",
   "metadata": {},
   "source": [
    "Curso enfocado a cubrir aspectos básicos del mundo de data science, principalmente en el data analysis."
   ]
  },
  {
   "cell_type": "markdown",
   "metadata": {},
   "source": [
    "# Topicos\n",
    "\n",
    "* Toolkit básico:\n",
    "    * IDE (Integrated Development Environment)\n",
    "    * Git-Gihub/Gitlab\n",
    "    * Ambientes virtuales\n",
    "    * Jupyter Notebook\n",
    "    * Repaso Python\n",
    "    \n",
    "* Computación científica:\n",
    "    * CPython (Introducción)\n",
    "    * Numpy, Scipy, Sympy\n",
    "    \n",
    "* Manipulación de datos (lo meteria en analisis exploratorio)\n",
    "    * Introducción base de datos\n",
    "    * Pandas (Módulos básicos, groupby, merge, pivot, etc.)\n",
    "    * Sqlalchemy (syntax básica en SQL)\n",
    "    \n",
    "* Visualización de datos:\n",
    "    * Introducción\n",
    "    * Visualización Imperativa, Declarativa, Interactiva\n",
    "    \n",
    "* Análisis exploratorio de datos\n",
    "    * Introducción\n",
    "    * Casos Aplicados\n",
    "    \n",
    "* Machine Learning\n",
    "    * Análisis Supervisado\n",
    "    * Análisis No Supervisado\n",
    "    * Análisis Overfitting\n",
    "    * Series Temporales (Introducción)"
   ]
  }
 ],
 "metadata": {
  "kernelspec": {
   "display_name": "Python 3 (ipykernel)",
   "language": "python",
   "name": "python3"
  },
  "language_info": {
   "codemirror_mode": {
    "name": "ipython",
    "version": 3
   },
   "file_extension": ".py",
   "mimetype": "text/x-python",
   "name": "python",
   "nbconvert_exporter": "python",
   "pygments_lexer": "ipython3",
   "version": "3.8.10"
  },
  "varInspector": {
   "cols": {
    "lenName": 16,
    "lenType": 16,
    "lenVar": 40
   },
   "kernels_config": {
    "python": {
     "delete_cmd_postfix": "",
     "delete_cmd_prefix": "del ",
     "library": "var_list.py",
     "varRefreshCmd": "print(var_dic_list())"
    },
    "r": {
     "delete_cmd_postfix": ") ",
     "delete_cmd_prefix": "rm(",
     "library": "var_list.r",
     "varRefreshCmd": "cat(var_dic_list()) "
    }
   },
   "types_to_exclude": [
    "module",
    "function",
    "builtin_function_or_method",
    "instance",
    "_Feature"
   ],
   "window_display": false
  }
 },
 "nbformat": 4,
 "nbformat_minor": 4
}
