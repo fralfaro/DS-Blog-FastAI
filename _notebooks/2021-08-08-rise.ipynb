{
 "cells": [
  {
   "cell_type": "markdown",
   "id": "81f14e65",
   "metadata": {},
   "source": [
    "# Jupyter Noteboook\n",
    "> Framework para Data Scientist.\n",
    "\n",
    "- toc: true \n",
    "- badges: false\n",
    "- comments: true\n",
    "- categories: [jupyter]\n",
    "- image: images/rise.png"
   ]
  },
  {
   "cell_type": "markdown",
   "id": "6c23772e",
   "metadata": {},
   "source": [
    "# Introducción\n",
    "\n",
    "[RISE](https://rise.readthedocs.io/en/stable/) es una extensión a los jupyter notebooks que permite transformar tus notebooks en presentaciones interactivas. \n",
    "\n",
    "Toda las celdas pueden editarse y ejecutarse directamente, **durante** la presentación. Esto es práctico si necesitas corregir un error en una celda de texto. Más importante aún, puedes ejecutar código directamente en el kernel. En una misma diapositiva puedes tener múltiples celdas y elegir cuál ejecutar, o corregir el texto y volver a ejecutar."
   ]
  }
 ],
 "metadata": {
  "kernelspec": {
   "display_name": "Python 3 (ipykernel)",
   "language": "python",
   "name": "python3"
  },
  "language_info": {
   "codemirror_mode": {
    "name": "ipython",
    "version": 3
   },
   "file_extension": ".py",
   "mimetype": "text/x-python",
   "name": "python",
   "nbconvert_exporter": "python",
   "pygments_lexer": "ipython3",
   "version": "3.8.10"
  }
 },
 "nbformat": 4,
 "nbformat_minor": 5
}
