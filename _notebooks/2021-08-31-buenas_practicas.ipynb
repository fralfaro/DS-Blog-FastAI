{
 "cells": [
  {
   "cell_type": "markdown",
   "id": "6fcb61d6",
   "metadata": {},
   "source": [
    "# Buenas Prácticas\n",
    "> Buenas prácticas de codificación en Python.\n",
    "\n",
    "- toc: true \n",
    "- badges: false\n",
    "- comments: true\n",
    "- categories: [PEP8, Documentation, TDD]\n",
    "- image: images/python.png"
   ]
  },
  {
   "cell_type": "markdown",
   "id": "df94aa88",
   "metadata": {},
   "source": [
    "# Introducción\n",
    "\n",
    "Una pregunta que surgue a menudo cuando uno se encuentra programando es saber cuál es la forma correcta de programar. La respuesta es que **no existe** la forma correcta de programar (ya sea en Python o cualquier otro lenguaje), sin embargo, existen estandares dentro del mundo de la programación, con el fin de hacer el código más legible, sencillo de entender y ayudar a encontrar posibles errores.\n",
    "\n",
    "En esta sección se mostrará algunos conceptos sencillos que te ayudarán a mejorar tus skills en el desarrollo de software (con Python).\n",
    "\n"
   ]
  },
  {
   "cell_type": "markdown",
   "id": "3a3a24a7",
   "metadata": {},
   "source": [
    "# Estilo de codificación: PEP8 \n",
    "\n",
    "El [PEP8](https://www.python.org/dev/peps/pep-0008/) es un estilo de codificación que proporciona convenciones de codificación para el código Python que comprende la biblioteca estándar en la distribución principal de Python.\n",
    "\n",
    "Algunos aspectos importantes:\n",
    "\n",
    "* El PEP8 y el [PEP 257](https://www.python.org/dev/peps/pep-0257/) (Docstring Conventions) fueron adaptados del ensayo original de la Guía de estilo Python de Guido, con algunas adiciones de la guía de estilo de Barry.\n",
    "\n",
    "* Esta guía de estilo evoluciona con el tiempo a medida que se identifican convenciones adicionales y las convenciones pasadas se vuelven obsoletas debido a cambios en el propio lenguaje. \n",
    "\n",
    "* Muchos proyectos tienen sus propias pautas de estilo de codificación. En caso de conflicto, dichas guías específicas del proyecto tienen prioridad para ese proyecto.\n",
    "\n",
    "Basados en el PEP8 y algunas buenas prácticas del diseño de software, veamos ejemplo para poder escribir de mejor forma nuestros códigos.\n",
    "\n",
    "## Variables\n",
    "Cuando sea posible, define variables con nombres que tengan algún sentido o que puedas identificar fácilmente, no importa que sean más largas. Por ejemplo, en un programa podríamos escribir:"
   ]
  },
  {
   "cell_type": "code",
   "execution_count": 1,
   "id": "8a1fed49",
   "metadata": {},
   "outputs": [
    {
     "name": "stdout",
     "output_type": "stream",
     "text": [
      "El area es 35.0\n"
     ]
    }
   ],
   "source": [
    "a = 10.  \n",
    "b = 3.5 \n",
    "print(f\"El area es {a*b}\" )"
   ]
  },
  {
   "cell_type": "markdown",
   "id": "103de137",
   "metadata": {},
   "source": [
    "pero, ¿qué significan `a` y  `b`? lo sabemos por el comentario (bien hecho), pero si más adelante nos encontramos con esas variables, tendremos que recordar cual es cual. Es mejor usar nombres con significado:"
   ]
  },
  {
   "cell_type": "code",
   "execution_count": 2,
   "id": "fc6dbaf0",
   "metadata": {},
   "outputs": [
    {
     "name": "stdout",
     "output_type": "stream",
     "text": [
      "El area es 35.0\n"
     ]
    }
   ],
   "source": [
    "altura = 10.  \n",
    "base = 3.5 \n",
    "print(f\"El area es {a*b}\" )"
   ]
  },
  {
   "cell_type": "markdown",
   "id": "916c0e5c",
   "metadata": {},
   "source": [
    "De hecho podemos usar el nombre para dar más información sobre la variable:\n",
    "\n",
    "```python\n",
    "velocidad_metros_segundo = 12.5\n",
    "angulo_radianes = 1.3\n",
    "```"
   ]
  },
  {
   "cell_type": "markdown",
   "id": "c5a616c5",
   "metadata": {},
   "source": [
    "## Lineas de códigos\n",
    "\n",
    "Las líneas de codigo no deben ser muy largas, como mucho 72 caracteres. Si se tiene una línea larga, se puede cortar con una barra invertida (`\\`) y continuar en la siguiente línea:"
   ]
  },
  {
   "cell_type": "code",
   "execution_count": 3,
   "id": "2b74218c",
   "metadata": {},
   "outputs": [
    {
     "name": "stdout",
     "output_type": "stream",
     "text": [
      "Esta es una frase muy larga, se puede cortar con un        y seguir en la línea inferior.\n"
     ]
    }
   ],
   "source": [
    "print(\"Esta es una frase muy larga, se puede cortar con un \\\n",
    "       y seguir en la línea inferior.\")"
   ]
  },
  {
   "cell_type": "markdown",
   "id": "4c3ff38e",
   "metadata": {},
   "source": [
    "## Comentarios\n",
    "\n",
    "Los comentarios son muy importantes al escribir un programa. Describen lo que está sucediendo dentro de un programa, para que una persona que mira el código fuente no tenga dificultades para descifrarlo.\n"
   ]
  },
  {
   "cell_type": "code",
   "execution_count": 4,
   "id": "2f553da5",
   "metadata": {},
   "outputs": [
    {
     "name": "stdout",
     "output_type": "stream",
     "text": [
      "Hola\n"
     ]
    }
   ],
   "source": [
    "#\n",
    "# esto es un comentario\n",
    "print('Hola')"
   ]
  },
  {
   "cell_type": "markdown",
   "id": "5241c46a",
   "metadata": {},
   "source": [
    "También podemos tener comentarios multilíneas:"
   ]
  },
  {
   "cell_type": "code",
   "execution_count": 5,
   "id": "e1ae0027",
   "metadata": {},
   "outputs": [],
   "source": [
    "#\n",
    "# Este es un comentario largo\n",
    "# y se extiende\n",
    "# a varias líneas"
   ]
  },
  {
   "cell_type": "markdown",
   "id": "499adf46",
   "metadata": {},
   "source": [
    "## Importaciones\n",
    "Las importaciones generalmente deben estar en líneas separadas:"
   ]
  },
  {
   "cell_type": "code",
   "execution_count": 6,
   "id": "fc21c0c5",
   "metadata": {},
   "outputs": [],
   "source": [
    "#\n",
    "# no:\n",
    "import sys, os"
   ]
  },
  {
   "cell_type": "code",
   "execution_count": 7,
   "id": "23f55052",
   "metadata": {},
   "outputs": [],
   "source": [
    "#\n",
    "# si:\n",
    "import os\n",
    "import sys"
   ]
  },
  {
   "cell_type": "markdown",
   "id": "7bc2cb54",
   "metadata": {},
   "source": [
    "## Comparaciones\n",
    "\n",
    "Existen varias formas de hacer comparaciones de objetos (principalmente en el uso del `bucle if`), acá se dejan alguna recomendaciones:\n",
    "\n",
    "```python\n",
    "# no\n",
    "if greeting == True:\n",
    "\n",
    "# no\n",
    "if greeting is True:\n",
    "\n",
    "```\n"
   ]
  },
  {
   "cell_type": "markdown",
   "id": "ffc84dcb",
   "metadata": {},
   "source": [
    "```python\n",
    "# si\n",
    "if greeting:\n",
    "```"
   ]
  },
  {
   "cell_type": "markdown",
   "id": "8474fdae",
   "metadata": {},
   "source": [
    "## Identación\n",
    "\n",
    "Dentro de paréntesis, corchetes o llaves, no dejar espacios inmediatamente dentro de ellos:"
   ]
  },
  {
   "cell_type": "code",
   "execution_count": 8,
   "id": "e83d002e",
   "metadata": {},
   "outputs": [],
   "source": [
    "#\n",
    "# no\n",
    "lista_01 = [1, 2, 3,4, 5, 6,7, 8, 9,]"
   ]
  },
  {
   "cell_type": "code",
   "execution_count": 9,
   "id": "aec7f244",
   "metadata": {},
   "outputs": [],
   "source": [
    "#\n",
    "# si \n",
    "lista_01 = [\n",
    "    1, 2, 3,\n",
    "    4, 5, 6,\n",
    "    7, 8, 9, \n",
    "]"
   ]
  },
  {
   "cell_type": "markdown",
   "id": "b59b1d5d",
   "metadata": {},
   "source": [
    "Aunque en Python se pueden hacer varias declaraciones en una línea, se recomienda hacer sólo una en cada línea:\n"
   ]
  },
  {
   "cell_type": "code",
   "execution_count": 10,
   "id": "833c648a",
   "metadata": {},
   "outputs": [],
   "source": [
    "#\n",
    "# no\n",
    "a = 10; b = 20"
   ]
  },
  {
   "cell_type": "code",
   "execution_count": 11,
   "id": "2dd21669",
   "metadata": {},
   "outputs": [],
   "source": [
    "#\n",
    "# si\n",
    "a = 10\n",
    "b = 20  "
   ]
  },
  {
   "cell_type": "markdown",
   "id": "7c3d609b",
   "metadata": {},
   "source": [
    "Cuando se trabaja con lista, conjuntos y/o tuplas se recomienda poner en cada línea sus argumentos.\n"
   ]
  },
  {
   "cell_type": "code",
   "execution_count": 12,
   "id": "d3a99bf9",
   "metadata": {},
   "outputs": [],
   "source": [
    "#\n",
    "# no\n",
    "lista = [(1, 'hola'),(2, 'mundo'),]  "
   ]
  },
  {
   "cell_type": "code",
   "execution_count": 13,
   "id": "cf9a6e62",
   "metadata": {},
   "outputs": [],
   "source": [
    "#\n",
    "# si\n",
    "lista = [\n",
    "    (1, 'hola'),\n",
    "    (2, 'mundo'),\n",
    "]"
   ]
  },
  {
   "cell_type": "markdown",
   "id": "08dcaecd",
   "metadata": {},
   "source": [
    "Lo anterior se puede extender para funciones con muchos argumentos"
   ]
  },
  {
   "cell_type": "code",
   "execution_count": 14,
   "id": "8f3c72b3",
   "metadata": {},
   "outputs": [],
   "source": [
    "#\n",
    "# no\n",
    "def funcion_01(x1,x2,x3,x4):\n",
    "    print(x1,x2,x3,x4)\n",
    "    \n",
    "def funcion_02(\n",
    "    x1,x2,x3,x4):\n",
    "    print(x1,x2,x3,x4)"
   ]
  },
  {
   "cell_type": "code",
   "execution_count": 15,
   "id": "5ed85867",
   "metadata": {},
   "outputs": [],
   "source": [
    "#\n",
    "# si\n",
    "def funcion_01(x1,x2,\n",
    "               x3,x4):\n",
    "    \n",
    "    print(x1,x2,x3,x4)\n",
    "    \n",
    "def funcion_02(\n",
    "        x1,x2,\n",
    "        x3,x4):\n",
    "    \n",
    "    print(x1,x2,x3,x4)"
   ]
  },
  {
   "cell_type": "markdown",
   "id": "2a5e3618",
   "metadata": {},
   "source": [
    "## Operadores binarios\n",
    "\n",
    "Un tema interesante es corresponde a la identación respecto a los operadores binarios, acá se muestra la forma correcta de hacerlo:"
   ]
  },
  {
   "cell_type": "markdown",
   "id": "66f677a6",
   "metadata": {},
   "source": [
    "```python\n",
    "# no\n",
    "income = (gross_wages +\n",
    "          taxable_interest +\n",
    "          (dividends - qualified_dividends) -\n",
    "          ira_deduction -\n",
    "          student_loan_interest)\n",
    "```"
   ]
  },
  {
   "cell_type": "markdown",
   "id": "4e2c54c5",
   "metadata": {},
   "source": [
    "```python\n",
    "# si\n",
    "income = (gross_wages\n",
    "          + taxable_interest\n",
    "          + (dividends - qualified_dividends)\n",
    "          - ira_deduction\n",
    "          - student_loan_interest)\n",
    "```"
   ]
  },
  {
   "cell_type": "markdown",
   "id": "41c08d66",
   "metadata": {},
   "source": [
    "## Manipulación de listas\n",
    "\n",
    "Aunque combinar iterables con elementos de control de flujo para manipular listas es muy sencillo con Python, hay métodos específicos más eficientes para hacer lo mismo. Pensemos el fitrado de datos de una lista:"
   ]
  },
  {
   "cell_type": "code",
   "execution_count": 16,
   "id": "99912b2f",
   "metadata": {},
   "outputs": [
    {
     "name": "stdout",
     "output_type": "stream",
     "text": [
      "positivos: [2, 1, 7]\n"
     ]
    }
   ],
   "source": [
    "#\n",
    "# Seleccionar los números positivos\n",
    "numeros = [-3, 2, 1, -8, -2, 7]\n",
    "positivos = []\n",
    "for i in numeros:\n",
    "    if i > 0:\n",
    "        positivos.append(i)\n",
    "        \n",
    "print(f\"positivos: {positivos}\")"
   ]
  },
  {
   "cell_type": "markdown",
   "id": "30bada47",
   "metadata": {},
   "source": [
    "Aunque técnicamente es correcto, es más eficiente hacer [List Comprehension](https://docs.python.org/3/tutorial/datastructures.html):\n"
   ]
  },
  {
   "cell_type": "code",
   "execution_count": 17,
   "id": "51a0df8c",
   "metadata": {},
   "outputs": [
    {
     "name": "stdout",
     "output_type": "stream",
     "text": [
      "positivos: [2, 1, 7]\n"
     ]
    }
   ],
   "source": [
    "#\n",
    "# comprension de lista\n",
    "numeros = [-3, 2, 1, -8, -2, 7]\n",
    "positivos = [i for i in numeros if i > 0] # List Comprehension\n",
    "print(f\"positivos: {positivos}\")"
   ]
  },
  {
   "cell_type": "markdown",
   "id": "5fa69456",
   "metadata": {},
   "source": [
    "## Especificar tipo de error\n",
    "\n",
    "Cuando se ocupa `try/except`, es necesario especificar el tipo de error que se está cometiendo.\n",
    "\n"
   ]
  },
  {
   "cell_type": "code",
   "execution_count": 18,
   "id": "10f46dd9",
   "metadata": {},
   "outputs": [],
   "source": [
    "#\n",
    "# importar librerias\n",
    "import sys"
   ]
  },
  {
   "cell_type": "code",
   "execution_count": 19,
   "id": "d90e218c",
   "metadata": {},
   "outputs": [
    {
     "name": "stdout",
     "output_type": "stream",
     "text": [
      "Oops! ocurrio un <class 'ZeroDivisionError'>\n"
     ]
    }
   ],
   "source": [
    "#\n",
    "# no\n",
    "try:\n",
    "    r = 1/0\n",
    "except:\n",
    "    print(\"Oops! ocurrio un\",sys.exc_info()[0])"
   ]
  },
  {
   "cell_type": "code",
   "execution_count": 20,
   "id": "d96ab855",
   "metadata": {},
   "outputs": [
    {
     "name": "stdout",
     "output_type": "stream",
     "text": [
      "Oops! ocurrio un <class 'ZeroDivisionError'>\n"
     ]
    }
   ],
   "source": [
    "#\n",
    "# si\n",
    "try:\n",
    "    r = 1/0\n",
    "except ZeroDivisionError:\n",
    "    print(\"Oops! ocurrio un\",sys.exc_info()[0])"
   ]
  },
  {
   "cell_type": "markdown",
   "id": "d9e25297",
   "metadata": {},
   "source": [
    "## Explicitar dependencias de una función\n",
    "\n",
    "Siempre es mejor definir las variables dentro de una función y no dejar variables globales."
   ]
  },
  {
   "cell_type": "code",
   "execution_count": 21,
   "id": "95d6b447",
   "metadata": {},
   "outputs": [],
   "source": [
    "#\n",
    "# no\n",
    "valor = 5\n",
    "\n",
    "def funcion_01(variable):\n",
    "    return 2*variable + valor"
   ]
  },
  {
   "cell_type": "code",
   "execution_count": 22,
   "id": "e4bcccae",
   "metadata": {},
   "outputs": [
    {
     "data": {
      "text/plain": [
       "9"
      ]
     },
     "execution_count": 22,
     "metadata": {},
     "output_type": "execute_result"
    }
   ],
   "source": [
    "funcion_01(2)"
   ]
  },
  {
   "cell_type": "code",
   "execution_count": 23,
   "id": "4a65a401",
   "metadata": {},
   "outputs": [],
   "source": [
    "#\n",
    "# si\n",
    "def funcion_01(variable,valor):\n",
    "    return 2*variable + valor"
   ]
  },
  {
   "cell_type": "code",
   "execution_count": 24,
   "id": "cc6dc4db",
   "metadata": {},
   "outputs": [
    {
     "data": {
      "text/plain": [
       "9"
      ]
     },
     "execution_count": 24,
     "metadata": {},
     "output_type": "execute_result"
    }
   ],
   "source": [
    "funcion_01(2,5)"
   ]
  },
  {
   "cell_type": "markdown",
   "id": "27e6cec8",
   "metadata": {},
   "source": [
    "## Dynamic/Static typing \n",
    "\n",
    "Con Python 3 se puede especificar el tipo de parámetro y el tipo de retorno de una función (usando la notación [PEP484](https://www.python.org/dev/peps/pep-0484/) y [PEP526](https://www.python.org/dev/peps/pep-0526/). Se definen dos conceptos claves:\n",
    "\n",
    "* **Escritura  dinámica**: no se especifican los atributos de los inputs ni de los ouputs\n",
    "* **Escritura  estática**: se especifican los atributos de los inputs y los ouputs"
   ]
  },
  {
   "cell_type": "code",
   "execution_count": 25,
   "id": "898e6410",
   "metadata": {},
   "outputs": [],
   "source": [
    "#\n",
    "# escritura dinámica\n",
    "def suma(x,y):\n",
    "    return x+y"
   ]
  },
  {
   "cell_type": "code",
   "execution_count": 26,
   "id": "ebe57d5f",
   "metadata": {},
   "outputs": [
    {
     "name": "stdout",
     "output_type": "stream",
     "text": [
      "3\n"
     ]
    }
   ],
   "source": [
    "print(suma(1,2))"
   ]
  },
  {
   "cell_type": "code",
   "execution_count": 27,
   "id": "e83b8aff",
   "metadata": {},
   "outputs": [],
   "source": [
    "#\n",
    "# escritura estatica\n",
    "def suma(x:float,\n",
    "         y:float)->float:\n",
    "    return x+y"
   ]
  },
  {
   "cell_type": "code",
   "execution_count": 28,
   "id": "b7bf0dd5",
   "metadata": {},
   "outputs": [
    {
     "name": "stdout",
     "output_type": "stream",
     "text": [
      "3\n"
     ]
    }
   ],
   "source": [
    "print(suma(1,2))"
   ]
  },
  {
   "cell_type": "markdown",
   "id": "3296a443",
   "metadata": {},
   "source": [
    "Para la escritura estática, si bien se especifica el tipo de atributo (tanto de los inputs o outputs), la función puede recibir otros tipos de atributos."
   ]
  },
  {
   "cell_type": "code",
   "execution_count": 29,
   "id": "2863523d",
   "metadata": {},
   "outputs": [
    {
     "name": "stdout",
     "output_type": "stream",
     "text": [
      "hola mundo\n"
     ]
    }
   ],
   "source": [
    "print(suma(\"hola\",\" mundo\"))"
   ]
  },
  {
   "cell_type": "markdown",
   "id": "16b0daf6",
   "metadata": {},
   "source": [
    "Para validar los tipos de datos son los correctos, se deben ocupar librerías especializadas en la validación de datos (por ejemplo: [pydantic](https://pydantic-docs.helpmanual.io/))."
   ]
  },
  {
   "cell_type": "markdown",
   "id": "082bd76e",
   "metadata": {},
   "source": [
    "## Librerías\n",
    "\n",
    "Existen librerías que pueden ayudar a corregir errores de escrituras en tú código (también conocido como **Análisis Estático**), por ejemplo:\n",
    "\n",
    "* [black](https://github.com/psf/black): El formateador de código inflexible.\n",
    "* [flake8](https://flake8.pycqa.org/en/latest/): La herramienta para aplicar la guía de estilo PEP8.\n",
    "* [mypy](https://mypy.readthedocs.io/en/stable/):  Mypy es un verificador de tipo estático para Python 3."
   ]
  },
  {
   "cell_type": "markdown",
   "id": "d4262004",
   "metadata": {},
   "source": [
    "# Documentación \n",
    "\n",
    "Casi tan importante como la escritura de código, es su correcta documentación, una parte fundamental de cualquier programa que a menudo se infravalora o simplemente se ignora. Aparte de los comentarios entre el código explicando cómo funciona, el elemento básico de documentación de Python es el Docstring o cadena de documentación, que ya hemos visto. Simplemente es una cadena de texto con triple comillas que se coloca justo después de la definición de función o clase que sirve de documentación a ese elemento."
   ]
  },
  {
   "cell_type": "code",
   "execution_count": 30,
   "id": "d6adeb85",
   "metadata": {},
   "outputs": [],
   "source": [
    "def potencia(x, y):\n",
    "    \"\"\"\n",
    "    Calcula la potencia arbitraria de un numero\n",
    "    \"\"\"\n",
    "    return x**y"
   ]
  },
  {
   "cell_type": "code",
   "execution_count": 31,
   "id": "ac0da9d6",
   "metadata": {},
   "outputs": [
    {
     "data": {
      "text/plain": [
       "'\\n    Calcula la potencia arbitraria de un numero\\n    '"
      ]
     },
     "execution_count": 31,
     "metadata": {},
     "output_type": "execute_result"
    }
   ],
   "source": [
    "# Acceso a la documentación\n",
    "potencia.__doc__"
   ]
  },
  {
   "cell_type": "code",
   "execution_count": 32,
   "id": "1cd7b74a",
   "metadata": {},
   "outputs": [
    {
     "name": "stdout",
     "output_type": "stream",
     "text": [
      "Help on function potencia in module __main__:\n",
      "\n",
      "potencia(x, y)\n",
      "    Calcula la potencia arbitraria de un numero\n",
      "\n"
     ]
    }
   ],
   "source": [
    "# Acceso a la documentación\n",
    "help(potencia)"
   ]
  },
  {
   "cell_type": "markdown",
   "id": "ac5d03b8",
   "metadata": {},
   "source": [
    "Lo correcto es detallar lo mejor posible en el *Docstring* qué hace y cómo se usa la función o clase y los parámetros que necesita. Se recomienda usar el estilo de documentación del software de documentación [sphinx](https://www.sphinx-doc.org/en/master/), que emplea [reStructuredText](https://docutils.sourceforge.io/rst.html) como lenguaje de marcado.\n",
    "\n",
    "Veamos un ejemplo de una función bien documentada:"
   ]
  },
  {
   "cell_type": "code",
   "execution_count": 33,
   "id": "6dd84d67",
   "metadata": {},
   "outputs": [],
   "source": [
    "def potencia(x, y):\n",
    "    \"\"\"\n",
    "    Calcula la potencia arbitraria de un numero\n",
    "\n",
    "    :param x: base\n",
    "    :param y: exponente\n",
    "    :return:  potencia de un numero\n",
    "    :ejemplos:\n",
    "    \n",
    "    >>> potencia(2, 1)\n",
    "    2\n",
    "    >>> potencia(3, 2)\n",
    "    9\n",
    "    \"\"\"\n",
    "\n",
    "    return x**y"
   ]
  },
  {
   "cell_type": "code",
   "execution_count": 34,
   "id": "d930f887",
   "metadata": {},
   "outputs": [
    {
     "data": {
      "text/plain": [
       "'\\n    Calcula la potencia arbitraria de un numero\\n\\n    :param x: base\\n    :param y: exponente\\n    :return:  potencia de un numero\\n    :ejemplos:\\n    \\n    >>> potencia(2, 1)\\n    2\\n    >>> potencia(3, 2)\\n    9\\n    '"
      ]
     },
     "execution_count": 34,
     "metadata": {},
     "output_type": "execute_result"
    }
   ],
   "source": [
    "# Acceso a la documentación\n",
    "potencia.__doc__"
   ]
  },
  {
   "cell_type": "code",
   "execution_count": 35,
   "id": "f06c4f92",
   "metadata": {},
   "outputs": [
    {
     "name": "stdout",
     "output_type": "stream",
     "text": [
      "Help on function potencia in module __main__:\n",
      "\n",
      "potencia(x, y)\n",
      "    Calcula la potencia arbitraria de un numero\n",
      "    \n",
      "    :param x: base\n",
      "    :param y: exponente\n",
      "    :return:  potencia de un numero\n",
      "    :ejemplos:\n",
      "    \n",
      "    >>> potencia(2, 1)\n",
      "    2\n",
      "    >>> potencia(3, 2)\n",
      "    9\n",
      "\n"
     ]
    }
   ],
   "source": [
    "# Acceso a la documentación\n",
    "help(potencia)"
   ]
  },
  {
   "cell_type": "markdown",
   "id": "302b9f69",
   "metadata": {},
   "source": [
    "Existen varias formas de documentar tus funciones, las principales encontradas en la literatura son:\n",
    "  * [Google docstrings](https://github.com/google/styleguide/blob/gh-pages/pyguide.md#38-comments-and-docstrings): forma de documentación recomendada por Google..\n",
    "  * [reStructured Text](http://docutils.sourceforge.net/rst.html): estándar oficial de documentación de Python; No es apto para principiantes, pero tiene muchas funciones.\n",
    "  * [NumPy/SciPy docstrings](https://numpydoc.readthedocs.io/en/latest/format.html): combinación de NumPy de *reStructured* y *Google Docstrings*."
   ]
  },
  {
   "cell_type": "markdown",
   "id": "c264aa32",
   "metadata": {},
   "source": [
    "# TDD: Test Driven Development\n",
    "\n",
    "En palabras simples, el desarrollo guiado por pruebas pone las pruebas en el corazón de nuestro trabajo. En su forma más simple consiste en un proceso iterativo de 3 fases:\n",
    "\n",
    "![](../images/python/tdd.png)\n",
    "\n",
    "\n",
    "\n",
    "- **Red**: Escribe un test que ponga a prueba una nueva funcionalidad y asegurate de que el test falla\n",
    "- **Green**: Escribe el código mínimo necesario para pasar ese test\n",
    "- **Refactor**: Refactoriza de ser necesario"
   ]
  },
  {
   "cell_type": "markdown",
   "id": "a819033b",
   "metadata": {},
   "source": [
    "A modo de ejemplo, vamos a testear la función `paridad`, que determina si un número natural es par o no.\n",
    "\n",
    "Lo primero que se debe hacer es crear el test, para ello se ocupará la librería [pytest](https://docs.pytest.org/en/6.2.x/). \n",
    "\n",
    "> **Nota**: No es necesario conocer previamente la librería `pytest` para entender el ejemplo.\n",
    "\n",
    "```python\n",
    "@pytest.mark.parametrize(\n",
    "    \"number, expected\",\n",
    "    [\n",
    "        (2, 'par'),\n",
    "])\n",
    "def test_paridad(number, expected):\n",
    "    assert paridad(number) == expected\n",
    "```\n",
    "\n",
    "El test nos dice que si el input es el número `2`, la función `paridad` devuelve el output `'par'`. Cómo aún no hemos escrito la función, el test fallará (**fase red**).\n",
    "\n",
    "```\n",
    "========= test session starts ============================================ \n",
    "platform linux -- Python 3.8.10, pytest-6.2.4, py-1.10.0, pluggy-0.13.1\n",
    "rootdir: /home/fralfaro/PycharmProjects/ds_blog\n",
    "plugins: anyio-3.3.0\n",
    "collected 1 item                                                                                                                                                                          \n",
    "\n",
    "temp/test_funcion.py F                                              [100%]\n",
    "========= 1 failed in 0.14s  ===============================================\n",
    "```\n",
    "\n",
    "Ahora, se escribe la función `paridad` (**fase green**):\n",
    "\n",
    "```python\n",
    "def paridad(n:int)->str:\n",
    "    \"\"\"\n",
    "    Determina si un numero natural es par o no.\n",
    "    \n",
    "    :param n: numero entero\n",
    "    :return: 'par' si es el numero es par; 'impar' en otro caso\n",
    "    \"\"\"\n",
    "    return 'par' if n%2==0 else 'impar'\n",
    "```\n",
    "\n",
    "Volvemos a correr el test:\n",
    "\n",
    "```\n",
    "========= test session starts ============================================ \n",
    "platform linux -- Python 3.8.10, pytest-6.2.4, py-1.10.0, pluggy-0.13.1\n",
    "rootdir: /home/fralfaro/PycharmProjects/ds_blog\n",
    "plugins: anyio-3.3.0\n",
    "collected 1 item                                                                                                                                                                          \n",
    "\n",
    "temp/test_funcion.py .                                              [100%]\n",
    "========= 1 passed in 0.06s  ===============================================\n",
    "```\n",
    "\n",
    "Hemos cometido un descuido a proposito, no hemos testeado el caso si el número fuese impar, por lo cual reescribimos el test (**fase refactor**)\n",
    "\n",
    "```python\n",
    "@pytest.mark.parametrize(\n",
    "    \"number, expected\",\n",
    "    [\n",
    "        (2, 'par'),\n",
    "        (3, 'impar'),\n",
    "])\n",
    "def test_paridad(number, expected):\n",
    "    assert paridad(number) == expected\n",
    "```\n",
    "\n",
    "y corremos nuevamente los test:\n",
    "\n",
    "```\n",
    "========= test session starts ============================================ \n",
    "platform linux -- Python 3.8.10, pytest-6.2.4, py-1.10.0, pluggy-0.13.1\n",
    "rootdir: /home/fralfaro/PycharmProjects/ds_blog\n",
    "plugins: anyio-3.3.0\n",
    "collected 2 items                                                                                                                                                                          \n",
    "\n",
    "temp/test_funcion.py ..                                              [100%]\n",
    "========= 2 passed in 0.06s  ===============================================\n",
    "```\n",
    "\n",
    "Listo, nuestra función `paridad` ha sido testeado correctamente!. "
   ]
  },
  {
   "cell_type": "markdown",
   "id": "2d0a4ea7",
   "metadata": {},
   "source": [
    "Acá listamos algunas librerías de TDD en Python:\n",
    "\n",
    "- [unittest](https://docs.python.org/3/library/unittest.html): Módulo dentro de la librería estándar de Python. Permite realizar tests unitarios, de integración y end to end.\n",
    "- [doctest](https://docs.python.org/3/library/doctest.html): Permite realizar test de la documentación del código (ejemplos: [Numpy](http://www.numpy.org/) o [Pandas](https://pandas.pydata.org/)).\n",
    "- [pytest](https://docs.pytest.org/en/latest/): Librería de testing ampliamente usada en proyectos nuevos de Python.\n",
    "- [nose](https://nose.readthedocs.io/en/latest/): Librería que extiende unittest para hacerlo más simple.\n",
    "- [coverage](https://coverage.readthedocs.io/en/v4.5.x/): Herramienta para medir la [cobertura de código](https://es.wikipedia.org/wiki/Cobertura_de_c%C3%B3digo) de los proyectos.\n",
    "- [tox](https://tox.readthedocs.io/en/latest/): Herramienta para facilitar el test de una librería en diferentes versiones e intérpretes de Python.\n",
    "- [hypothesis](https://hypothesis.readthedocs.io/en/latest/): Librería para escribir tests vía reglas que ayuda a encontrar casos borde.\n",
    "- [behave](https://behave.readthedocs.io/en/latest/): Permite utilizar [Behavior Driven Development](https://es.wikipedia.org/wiki/Desarrollo_guiado_por_comportamiento), un proceso de desarrollo derivado del TDD."
   ]
  },
  {
   "cell_type": "markdown",
   "id": "fbcdf263",
   "metadata": {},
   "source": [
    "# Más consejos\n",
    "\n",
    "## Entender programación multiparadigma\n",
    "\n",
    "Python al ser multiparadigma, nos da una amplia gama de posibilidades de diseñar nuestros códigos. Dentro de estos se destacan:\n",
    " \n",
    "* [Programación orientada a objetos (OOP)](https://en.wikipedia.org/wiki/Object-oriented_programming)\n",
    "* [Programación funcional](https://en.wikipedia.org/wiki/Functional_programming#:~:text=In%20computer%20science%2C%20functional%20programming,by%20applying%20and%20composing%20functions.&text=When%20a%20pure%20function%20is,state%20or%20other%20side%20effects.)\n",
    "\n",
    "Cuándo ocupar uno o la otra, va a depender de cómo queremos abordar una determinada problemática, puesto que en la mayoría de los casos, se puede pasar de un paradigma a o otro (incluso mezclarlos de ser necesario).\n",
    "\n",
    "## Principio S.O.L.I.D\n",
    "\n",
    "En ingeniería de software, [SOLID](https://es.wikipedia.org/wiki/SOLID) (Single responsibility, Open-closed, Liskov substitution, Interface segregation and Dependency inversion) es un acrónimo mnemónico introducido por **Robert C. Martin** a comienzos de la década del 2000 que representa cinco principios básicos de la programación orientada a objetos y el diseño. Cuando estos principios se aplican en conjunto es más probable que un desarrollador cree un sistema que sea fácil de mantener y ampliar con el tiempo.\n",
    "\n",
    "En el siguiente [link](https://medium.com/@vubon.roy/solid-principles-with-python-examples-10e1f3d91259) se deja una guía para poder entender estos conceptos en python.\n",
    "\n",
    "## Patrones de diseño\n",
    "\n",
    "Los [patrones de diseño](https://en.wikipedia.org/wiki/Software_design_pattern) son la base para la búsqueda de soluciones a problemas comunes en el desarrollo de software y otros ámbitos referentes al diseño de interacción o interfaces.\n",
    "\n",
    "> Un patrón de diseño es una solución a un problema de diseño.\n",
    "\n",
    "\n",
    "Se destacan tres tipos de patrones de diseños:\n",
    "\n",
    "* **Comportamiento**\n",
    "* **Creacionales**\n",
    "* **Estructurales**\n",
    "\n",
    "\n",
    "En el siguiente [link](https://refactoring.guru/design-patterns/python) se deja una guía para poder entender estos conceptos en python.\n",
    "\n",
    "## Lecturas recomendadas\n",
    "\n",
    "* **The Clean Coder: A Code Of Conduct For Professional Programmers** *Robert C. Martin* (2011)\n",
    "* **Clean Code: A Handbook of Agile Software** - *Robert C. Martin* (2009).\n",
    "* **Working effectively with legacy code** *Michael C. Feathers* (2004)\n",
    "* **Refactoring** *Martin Fowler* (1999)\n",
    "* **The Pragmatic Programmer** *Thomas Hunt* (1999)\n",
    " \n",
    " "
   ]
  }
 ],
 "metadata": {
  "kernelspec": {
   "display_name": "Python 3 (ipykernel)",
   "language": "python",
   "name": "python3"
  },
  "language_info": {
   "codemirror_mode": {
    "name": "ipython",
    "version": 3
   },
   "file_extension": ".py",
   "mimetype": "text/x-python",
   "name": "python",
   "nbconvert_exporter": "python",
   "pygments_lexer": "ipython3",
   "version": "3.8.10"
  }
 },
 "nbformat": 4,
 "nbformat_minor": 5
}
