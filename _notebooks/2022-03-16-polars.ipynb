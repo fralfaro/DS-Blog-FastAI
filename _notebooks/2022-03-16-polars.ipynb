{
 "cells": [
  {
   "cell_type": "markdown",
   "id": "938640e1",
   "metadata": {},
   "source": [
    "# Polars\n",
    "> DataFrames increíblemente rápidos en Rust, Python y Node.js.\n",
    "\n",
    "- toc: true \n",
    "- badges: false\n",
    "- comments: true\n",
    "- categories: [python]\n",
    "- image: images/polars.PNG"
   ]
  },
  {
   "cell_type": "markdown",
   "id": "6e316a83",
   "metadata": {},
   "source": [
    "# Introducción\n",
    "\n",
    "[Polars](https://github.com/pola-rs/polars) es una librería de DataFrames increíblemente rápida implementada en [Rust](https://github.com/rust-lang/rust) utilizando [Arrow Columnar Format](https://arrow.apache.org/docs/format/Columnar.html) de Apache como modelo de memoria.\n",
    "\n",
    "\n",
    "* Lazy | eager execution\n",
    "* Multi-threaded\n",
    "* SIMD (Single Instruction, Multiple Data)\n",
    "* Query optimization\n",
    "* Powerful expression API\n",
    "* Rust | Python | ...\n",
    "\n",
    "Esta sección tiene como objetivos presentarle *Polars* a través de ejemplos y comparándolo con otras soluciones.\n",
    "\n",
    "> **Nota**: Si usted no esta familiarizado con la manipulación de datos en Python, se recomienda partir leyendo sobre la librería de [Pandas](https://pandas.pydata.org/docs/). También, se deja como referencia el curso de [Manipulación de Datos](https://gitlab.com/FAAM/python_data_manipulation)."
   ]
  }
 ],
 "metadata": {
  "kernelspec": {
   "display_name": "Python 3 (ipykernel)",
   "language": "python",
   "name": "python3"
  },
  "language_info": {
   "codemirror_mode": {
    "name": "ipython",
    "version": 3
   },
   "file_extension": ".py",
   "mimetype": "text/x-python",
   "name": "python",
   "nbconvert_exporter": "python",
   "pygments_lexer": "ipython3",
   "version": "3.8.10"
  }
 },
 "nbformat": 4,
 "nbformat_minor": 5
}
