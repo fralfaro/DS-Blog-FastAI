{
 "cells": [
  {
   "cell_type": "markdown",
   "id": "938640e1",
   "metadata": {},
   "source": [
    "# Polars\n",
    "> DataFrames increíblemente rápidos en Rust, Python y Node.js.\n",
    "\n",
    "- toc: true \n",
    "- badges: false\n",
    "- comments: true\n",
    "- categories: [python]\n",
    "- image: images/polars.PNG"
   ]
  },
  {
   "cell_type": "markdown",
   "id": "6e316a83",
   "metadata": {},
   "source": [
    "# Introducción\n",
    "\n",
    "[Polars](https://github.com/pola-rs/polars) es una librería de DataFrames increíblemente rápida implementada en [Rust](https://github.com/rust-lang/rust) utilizando [Arrow Columnar Format](https://arrow.apache.org/docs/format/Columnar.html) de Apache como modelo de memoria.\n",
    "\n",
    "\n",
    "* Lazy | eager execution\n",
    "* Multi-threaded\n",
    "* SIMD (Single Instruction, Multiple Data)\n",
    "* Query optimization\n",
    "* Powerful expression API\n",
    "* Rust | Python | ...\n",
    "\n",
    "Esta sección tiene como objetivos presentarle *Polars* a través de ejemplos y comparándolo con otras soluciones.\n",
    "\n",
    "> **Nota**: Si usted no esta familiarizado con la manipulación de datos en Python, se recomienda partir leyendo sobre la librería de [Pandas](https://pandas.pydata.org/docs/). También, se deja como referencia el curso de [Manipulación de Datos](https://gitlab.com/FAAM/python_data_manipulation)."
   ]
  },
  {
   "cell_type": "markdown",
   "id": "f7496868",
   "metadata": {},
   "source": [
    "# Primeros Pasos\n",
    "\n",
    "## Instalación\n",
    "\n",
    "Para instalar **Polars**, necesitará usar la línea de comando. Si ha instalado Anaconda, puede usar:\n",
    "\n",
    "```\n",
    "conda install -c conda-forge polars\n",
    "```\n",
    "\n",
    "De lo contrario, puede instalar con pip:\n",
    "\n",
    "\n",
    "```\n",
    "pip install polars\n",
    "```\n",
    "\n",
    "> **Nota**: Todos los binarios están preconstruidos para Python v3.6+."
   ]
  },
  {
   "cell_type": "markdown",
   "id": "396d8deb",
   "metadata": {},
   "source": [
    "# Rendimiento\n",
    "*Polars* es muy rápido y, de hecho, es una de las mejores soluciones disponibles. Tomemos como referencia [db-benchmark](https://h2oai.github.io/db-benchmark/) de h2oai. Esta página tiene como objetivo comparar varias herramientas similares a bases de datos populares en la ciencia de datos de código abierto. Se ejecuta regularmente con las últimas versiones de estos paquetes y se actualiza automáticamente.\n",
    "\n",
    "También se incluye la sintaxis que se cronometra junto con el tiempo. De esta manera, puede ver de inmediato si está realizando estas tareas o no, y si las diferencias de tiempo le importan o no. Una diferencia de 10x puede ser irrelevante si eso es solo 1s frente a 0,1s en el tamaño de sus datos.\n",
    "\n",
    "A modo de ejemplo, veamos algunos ejemplos de *performances* de distintas librerías para ejecutar distintos tipos de tareas sobre datasets con distintos tamaños. Para el caso de tareas básicas sobre un dataset de **50 GB**, *Polars* supera a librerías espacializadas en distribución de Dataframes como *Spark* (143 segundos vs 568 segundos). Por otro lado, librerías conocidas en Python como *Pandas* o *Dask* se tiene el problema de **out of memory**.\n",
    "\n",
    "![](../images/polars/db-benchmark.png)"
   ]
  },
  {
   "cell_type": "markdown",
   "id": "80b88a0c",
   "metadata": {},
   "source": [
    "# Expresiones en Polars\n",
    "\n",
    "Polars tiene un poderoso concepto llamado expresiones. Las expresiones polares se pueden usar en varios contextos y son un mapeo funcional de `Fn(Series) -> Series`, lo que significa que tienen `Series` como entrada y `Series` como salida. Al observar esta definición funcional, podemos ver que la salida de un `Expr` también puede servir como entrada de un `Expr`.\n",
    "\n",
    "Eso puede sonar un poco extraño, así que vamos a dar un ejemplo.\n",
    "\n",
    "La siguiente es una expresión:\n",
    "\n",
    "```python\n",
    "pl.col(\"foo\").sort().head(2)\n",
    "```\n",
    "\n",
    "El fragmento anterior dice seleccionar la columna `\"foo\"`, luego ordenar esta columna y luego tomar los primeros 2 valores de la salida ordenada. El poder de las expresiones es que cada expresión produce una nueva expresión y que se pueden canalizar juntas. Puede ejecutar una expresión pasándola en uno de los contextos de ejecución polares. Aquí ejecutamos dos expresiones ejecutando `df.select`:\n",
    "\n",
    "```python\n",
    "df.select([\n",
    "     pl.col(\"foo\").sort().head(2),\n",
    "     pl.col(\"barra\").filter(pl.col(\"foo\") == 1).sum()\n",
    "])\n",
    "```\n",
    "\n",
    "Todas las expresiones se ejecutan en paralelo. (Tenga en cuenta que dentro de una expresión puede haber más paralelización)."
   ]
  },
  {
   "cell_type": "markdown",
   "id": "678ba0a2",
   "metadata": {},
   "source": [
    "## Expresiones\n",
    "\n",
    "En esta sección veremos algunos ejemplos, pero primero vamos a crear un conjunto de datos:"
   ]
  },
  {
   "cell_type": "code",
   "execution_count": 1,
   "id": "6e17c2a9",
   "metadata": {},
   "outputs": [],
   "source": [
    "import polars as pl\n",
    "import numpy as np"
   ]
  },
  {
   "cell_type": "code",
   "execution_count": 2,
   "id": "75967d0a",
   "metadata": {},
   "outputs": [
    {
     "name": "stdout",
     "output_type": "stream",
     "text": [
      "shape: (5, 4)\n",
      "┌──────┬───────┬──────────┬────────┐\n",
      "│ nrs  ┆ names ┆ random   ┆ groups │\n",
      "│ ---  ┆ ---   ┆ ---      ┆ ---    │\n",
      "│ i64  ┆ str   ┆ f64      ┆ str    │\n",
      "╞══════╪═══════╪══════════╪════════╡\n",
      "│ 1    ┆ foo   ┆ 0.154163 ┆ A      │\n",
      "├╌╌╌╌╌╌┼╌╌╌╌╌╌╌┼╌╌╌╌╌╌╌╌╌╌┼╌╌╌╌╌╌╌╌┤\n",
      "│ 2    ┆ ham   ┆ 0.74     ┆ A      │\n",
      "├╌╌╌╌╌╌┼╌╌╌╌╌╌╌┼╌╌╌╌╌╌╌╌╌╌┼╌╌╌╌╌╌╌╌┤\n",
      "│ 3    ┆ spam  ┆ 0.263315 ┆ B      │\n",
      "├╌╌╌╌╌╌┼╌╌╌╌╌╌╌┼╌╌╌╌╌╌╌╌╌╌┼╌╌╌╌╌╌╌╌┤\n",
      "│ null ┆ egg   ┆ 0.533739 ┆ C      │\n",
      "├╌╌╌╌╌╌┼╌╌╌╌╌╌╌┼╌╌╌╌╌╌╌╌╌╌┼╌╌╌╌╌╌╌╌┤\n",
      "│ 5    ┆ null  ┆ 0.014575 ┆ B      │\n",
      "└──────┴───────┴──────────┴────────┘\n"
     ]
    }
   ],
   "source": [
    "np.random.seed(12)\n",
    "\n",
    "df = pl.DataFrame(\n",
    "    {\n",
    "        \"nrs\": [1, 2, 3, None, 5],\n",
    "        \"names\": [\"foo\", \"ham\", \"spam\", \"egg\", None],\n",
    "        \"random\": np.random.rand(5),\n",
    "        \"groups\": [\"A\", \"A\", \"B\", \"C\", \"B\"],\n",
    "    }\n",
    ")\n",
    "print(df)"
   ]
  },
  {
   "cell_type": "markdown",
   "id": "491e4196",
   "metadata": {},
   "source": [
    "Puedes hacer mucho con las expresiones, veamos algunos ejemplos:"
   ]
  },
  {
   "cell_type": "markdown",
   "id": "740aa766",
   "metadata": {},
   "source": [
    "### Contar valores únicos\n",
    "\n",
    "Podemos contar los valores únicos en una columna. Tenga en cuenta que estamos creando el mismo resultado de diferentes maneras. Para no tener nombres de columna duplicados en el DataFrame, usamos una expresión de `alias`, que cambia el nombre de una expresión."
   ]
  },
  {
   "cell_type": "code",
   "execution_count": 3,
   "id": "0e0c0c86",
   "metadata": {},
   "outputs": [
    {
     "name": "stdout",
     "output_type": "stream",
     "text": [
      "shape: (1, 2)\n",
      "┌────────────────┬────────────────┐\n",
      "│ unique_names_1 ┆ unique_names_2 │\n",
      "│ ---            ┆ ---            │\n",
      "│ u32            ┆ u32            │\n",
      "╞════════════════╪════════════════╡\n",
      "│ 5              ┆ 5              │\n",
      "└────────────────┴────────────────┘\n"
     ]
    }
   ],
   "source": [
    "out = df.select(\n",
    "    [\n",
    "        pl.col(\"names\").n_unique().alias(\"unique_names_1\"),\n",
    "        pl.col(\"names\").unique().count().alias(\"unique_names_2\"),\n",
    "    ]\n",
    ")\n",
    "print(out)"
   ]
  },
  {
   "cell_type": "markdown",
   "id": "9c342435",
   "metadata": {},
   "source": [
    "### Varias agregaciones\n",
    "Podemos hacer varias agregaciones. A continuación mostramos algunas de ellas, pero hay más, como `median`, `mean`, `first`, etc."
   ]
  },
  {
   "cell_type": "code",
   "execution_count": 4,
   "id": "c233bfd8",
   "metadata": {},
   "outputs": [
    {
     "name": "stdout",
     "output_type": "stream",
     "text": [
      "shape: (1, 6)\n",
      "┌──────────┬──────────┬──────┬───────────┬──────────┬──────────┐\n",
      "│ sum      ┆ min      ┆ max  ┆ other_max ┆ std dev  ┆ variance │\n",
      "│ ---      ┆ ---      ┆ ---  ┆ ---       ┆ ---      ┆ ---      │\n",
      "│ f64      ┆ f64      ┆ f64  ┆ f64       ┆ f64      ┆ f64      │\n",
      "╞══════════╪══════════╪══════╪═══════════╪══════════╪══════════╡\n",
      "│ 1.705842 ┆ 0.014575 ┆ 0.74 ┆ 0.74      ┆ 0.293209 ┆ 0.085971 │\n",
      "└──────────┴──────────┴──────┴───────────┴──────────┴──────────┘\n"
     ]
    }
   ],
   "source": [
    "out = df.select(\n",
    "    [\n",
    "        pl.sum(\"random\").alias(\"sum\"),\n",
    "        pl.min(\"random\").alias(\"min\"),\n",
    "        pl.max(\"random\").alias(\"max\"),\n",
    "        pl.col(\"random\").max().alias(\"other_max\"),\n",
    "        pl.std(\"random\").alias(\"std dev\"),\n",
    "        pl.var(\"random\").alias(\"variance\"),\n",
    "    ]\n",
    ")\n",
    "print(out)"
   ]
  },
  {
   "cell_type": "markdown",
   "id": "47cce9f6",
   "metadata": {},
   "source": [
    "### Filtro y condicionales\n",
    "También podemos hacer cosas bastante complejas. En el siguiente fragmento, contamos todos los nombres que terminan con la cadena `\"am\"`."
   ]
  },
  {
   "cell_type": "code",
   "execution_count": 5,
   "id": "d1a40571",
   "metadata": {},
   "outputs": [
    {
     "name": "stdout",
     "output_type": "stream",
     "text": [
      "shape: (1, 1)\n",
      "┌───────┐\n",
      "│ names │\n",
      "│ ---   │\n",
      "│ u32   │\n",
      "╞═══════╡\n",
      "│ 2     │\n",
      "└───────┘\n"
     ]
    }
   ],
   "source": [
    "out = df.select(\n",
    "    [\n",
    "        pl.col(\"names\").filter(pl.col(\"names\").str.contains(r\"am$\")).count(),\n",
    "    ]\n",
    ")\n",
    "print(out)"
   ]
  },
  {
   "cell_type": "markdown",
   "id": "5713ff9f",
   "metadata": {},
   "source": [
    "### Funciones binarias y modificación\n",
    "\n",
    "En el ejemplo a continuación, usamos un condicional para crear una nueva expresión `when -> then -> otherwise`. \n",
    "\n",
    "La función `when()` requiere una expresión de predicado (y, por lo tanto, conduce a una `serie booleana`), luego espera una expresión que se usará en caso de que el predicado se evalúe como verdadero y, de lo contrario, espera una expresión que se usará en caso de que el predicado se evalúe. \n",
    "\n",
    "Tenga en cuenta que puede pasar cualquier expresión, o simplemente expresiones base como `pl.col(\"foo\")`, `pl.lit(3)`, `pl.lit(\"bar\")`, etc.\n",
    "\n",
    "Finalmente, multiplicamos esto con el resultado de una expresión de suma."
   ]
  },
  {
   "cell_type": "code",
   "execution_count": 6,
   "id": "bbb6a491",
   "metadata": {},
   "outputs": [
    {
     "name": "stdout",
     "output_type": "stream",
     "text": [
      "shape: (5, 1)\n",
      "┌──────────┐\n",
      "│ literal  │\n",
      "│ ---      │\n",
      "│ f64      │\n",
      "╞══════════╡\n",
      "│ 1.695791 │\n",
      "├╌╌╌╌╌╌╌╌╌╌┤\n",
      "│ 0.0      │\n",
      "├╌╌╌╌╌╌╌╌╌╌┤\n",
      "│ 2.896465 │\n",
      "├╌╌╌╌╌╌╌╌╌╌┤\n",
      "│ 0.0      │\n",
      "├╌╌╌╌╌╌╌╌╌╌┤\n",
      "│ 0.160325 │\n",
      "└──────────┘\n"
     ]
    }
   ],
   "source": [
    "out = df.select(\n",
    "    [\n",
    "        pl.when(pl.col(\"random\") > 0.5).then(0).otherwise(pl.col(\"random\")) * pl.sum(\"nrs\"),\n",
    "    ]\n",
    ")\n",
    "print(out)"
   ]
  },
  {
   "cell_type": "markdown",
   "id": "71bc5b88",
   "metadata": {},
   "source": [
    "### Expresiones de ventana\n",
    "\n",
    "Una expresión polar también puede hacer un `GROUPBY`, `AGGREGATION` y `JOIN` implícitos en una sola expresión. \n",
    "\n",
    "En los ejemplos a continuación, hacemos un `GROUPBY` sobre `\"groups\"` y `AGREGATE SUM` de `\"random\"`, y en la siguiente expresión `GROUPBY OVER` `\"names\"` y `AGREGATE` una lista de `\"random\"`. Estas funciones de ventana se pueden combinar con otras expresiones y son una forma eficaz de determinar estadísticas de grupo. Vea más expresiones en el siguiente [link](https://pola-rs.github.io/polars/py-polars/html/reference/expression.html#aggregation)."
   ]
  },
  {
   "cell_type": "code",
   "execution_count": 7,
   "id": "6448e1e2",
   "metadata": {},
   "outputs": [
    {
     "name": "stdout",
     "output_type": "stream",
     "text": [
      "shape: (5, 6)\n",
      "┌──────┬───────┬──────────┬────────┬────────────────────┬─────────────┐\n",
      "│ nrs  ┆ names ┆ random   ┆ groups ┆ sum[random]/groups ┆ random/name │\n",
      "│ ---  ┆ ---   ┆ ---      ┆ ---    ┆ ---                ┆ ---         │\n",
      "│ i64  ┆ str   ┆ f64      ┆ str    ┆ f64                ┆ list [f64]  │\n",
      "╞══════╪═══════╪══════════╪════════╪════════════════════╪═════════════╡\n",
      "│ 1    ┆ foo   ┆ 0.154163 ┆ A      ┆ 0.894213           ┆ [0.154163]  │\n",
      "├╌╌╌╌╌╌┼╌╌╌╌╌╌╌┼╌╌╌╌╌╌╌╌╌╌┼╌╌╌╌╌╌╌╌┼╌╌╌╌╌╌╌╌╌╌╌╌╌╌╌╌╌╌╌╌┼╌╌╌╌╌╌╌╌╌╌╌╌╌┤\n",
      "│ 2    ┆ ham   ┆ 0.74     ┆ A      ┆ 0.894213           ┆ [0.74]      │\n",
      "├╌╌╌╌╌╌┼╌╌╌╌╌╌╌┼╌╌╌╌╌╌╌╌╌╌┼╌╌╌╌╌╌╌╌┼╌╌╌╌╌╌╌╌╌╌╌╌╌╌╌╌╌╌╌╌┼╌╌╌╌╌╌╌╌╌╌╌╌╌┤\n",
      "│ 3    ┆ spam  ┆ 0.263315 ┆ B      ┆ 0.2778             ┆ [0.263315]  │\n",
      "├╌╌╌╌╌╌┼╌╌╌╌╌╌╌┼╌╌╌╌╌╌╌╌╌╌┼╌╌╌╌╌╌╌╌┼╌╌╌╌╌╌╌╌╌╌╌╌╌╌╌╌╌╌╌╌┼╌╌╌╌╌╌╌╌╌╌╌╌╌┤\n",
      "│ null ┆ egg   ┆ 0.533739 ┆ C      ┆ 0.533739           ┆ [0.533739]  │\n",
      "├╌╌╌╌╌╌┼╌╌╌╌╌╌╌┼╌╌╌╌╌╌╌╌╌╌┼╌╌╌╌╌╌╌╌┼╌╌╌╌╌╌╌╌╌╌╌╌╌╌╌╌╌╌╌╌┼╌╌╌╌╌╌╌╌╌╌╌╌╌┤\n",
      "│ 5    ┆ null  ┆ 0.014575 ┆ B      ┆ 0.2778             ┆ [0.014575]  │\n",
      "└──────┴───────┴──────────┴────────┴────────────────────┴─────────────┘\n"
     ]
    }
   ],
   "source": [
    "out = df[\n",
    "    [\n",
    "        pl.col(\"*\"),  # select all\n",
    "        pl.col(\"random\").sum().over(\"groups\").alias(\"sum[random]/groups\"),\n",
    "        pl.col(\"random\").list().over(\"names\").alias(\"random/name\"),\n",
    "    ]\n",
    "]\n",
    "print(out)"
   ]
  },
  {
   "cell_type": "markdown",
   "id": "3098268d",
   "metadata": {},
   "source": [
    "## GroupBy\n",
    "\n",
    "### Un enfoque multiproceso\n",
    "\n",
    "Una de las formas más eficientes de procesar datos tabulares es paralelizar su procesamiento a través del enfoque \"dividir-aplicar-combinar\". Esta operación es el núcleo de la implementación del agrupamiento de *Polars*, lo que le permite lograr operaciones ultrarrápidas. Más específicamente, las fases de \"división\" y \"aplicación\" se ejecutan de forma multiproceso.\n",
    "\n",
    "Una operación de agrupación simple se toma a continuación como ejemplo para ilustrar este enfoque:\n",
    "\n",
    "![](../images/polars/polar_split.PNG)"
   ]
  },
  {
   "cell_type": "markdown",
   "id": "1d024acc",
   "metadata": {},
   "source": [
    "Para las operaciones hash realizadas durante la fase de \"división\", Polars utiliza un enfoque sin bloqueo de subprocesos múltiples que se ilustra en el siguiente esquema:\n",
    "\n",
    "![](../images/polars/polar_multi.PNG)"
   ]
  },
  {
   "cell_type": "markdown",
   "id": "1cdbb577",
   "metadata": {},
   "source": [
    "¡Esta paralelización permite que las operaciones de agrupación y unión (por ejemplo) sean increíblemente rápidas!"
   ]
  },
  {
   "cell_type": "markdown",
   "id": "e8a3be4f",
   "metadata": {},
   "source": [
    "### ¡No mates la paralelización!\n",
    "\n",
    "Todos hemos escuchado que *Python* es lento y \"no escala\". Además de la sobrecarga de ejecutar el código de bytes \"lento\", Python debe permanecer dentro de las restricciones del  `Global interpreter lock (GIL) `. Esto significa que si se usa la operación `lambda` o una función de Python personalizada para aplicar durante una fase de paralelización, la velocidad de *Polars* se limita al ejecutar el código de *Python*, lo que evita que varios subprocesos ejecuten la función.\n",
    "\n",
    "Todo esto se siente terriblemente limitante, especialmente porque a menudo necesitamos esos `lambda` en un paso  `.groupby()`, por ejemplo. Este enfoque aún es compatible con *Polars*, pero teniendo en cuenta el código de bytes Y el precio GIL deben pagarse.\n",
    "\n",
    "Para mitigar esto, *Polars* implementa una poderosa sintaxis definida no solo en su `lazy`, sino también en su uso `eager`."
   ]
  },
  {
   "cell_type": "markdown",
   "id": "2cf34585",
   "metadata": {},
   "source": [
    "### Expresiones polares\n",
    "En la introducción de la página anterior, discutimos que el uso de funciones personalizadas de Python eliminaba la paralelización y que podemos usar las expresiones de la API diferida para mitigar esto. Echemos un vistazo a lo que eso significa.\n",
    "\n",
    "Comencemos con el conjunto de datos simple del [congreso de EE. UU.](https://github.com/unitedstates/congress-legislators)"
   ]
  },
  {
   "cell_type": "code",
   "execution_count": 8,
   "id": "fe37f0e3",
   "metadata": {},
   "outputs": [
    {
     "name": "stdout",
     "output_type": "stream",
     "text": [
      "shape: (5, 34)\n",
      "┌───────────┬────────────┬─────────────┬────────┬─────┬────────────────┬────────────────────┬──────────┬────────────────┐\n",
      "│ last_name ┆ first_name ┆ middle_name ┆ suffix ┆ ... ┆ ballotpedia_id ┆ washington_post_id ┆ icpsr_id ┆ wikipedia_id   │\n",
      "│ ---       ┆ ---        ┆ ---         ┆ ---    ┆     ┆ ---            ┆ ---                ┆ ---      ┆ ---            │\n",
      "│ str       ┆ str        ┆ str         ┆ str    ┆     ┆ str            ┆ str                ┆ i64      ┆ str            │\n",
      "╞═══════════╪════════════╪═════════════╪════════╪═════╪════════════════╪════════════════════╪══════════╪════════════════╡\n",
      "│ Brown     ┆ Sherrod    ┆ null        ┆ null   ┆ ... ┆ Sherrod Brown  ┆ null               ┆ 29389    ┆ Sherrod Brown  │\n",
      "├╌╌╌╌╌╌╌╌╌╌╌┼╌╌╌╌╌╌╌╌╌╌╌╌┼╌╌╌╌╌╌╌╌╌╌╌╌╌┼╌╌╌╌╌╌╌╌┼╌╌╌╌╌┼╌╌╌╌╌╌╌╌╌╌╌╌╌╌╌╌┼╌╌╌╌╌╌╌╌╌╌╌╌╌╌╌╌╌╌╌╌┼╌╌╌╌╌╌╌╌╌╌┼╌╌╌╌╌╌╌╌╌╌╌╌╌╌╌╌┤\n",
      "│ Cantwell  ┆ Maria      ┆ null        ┆ null   ┆ ... ┆ Maria Cantwell ┆ null               ┆ 39310    ┆ Maria Cantwell │\n",
      "├╌╌╌╌╌╌╌╌╌╌╌┼╌╌╌╌╌╌╌╌╌╌╌╌┼╌╌╌╌╌╌╌╌╌╌╌╌╌┼╌╌╌╌╌╌╌╌┼╌╌╌╌╌┼╌╌╌╌╌╌╌╌╌╌╌╌╌╌╌╌┼╌╌╌╌╌╌╌╌╌╌╌╌╌╌╌╌╌╌╌╌┼╌╌╌╌╌╌╌╌╌╌┼╌╌╌╌╌╌╌╌╌╌╌╌╌╌╌╌┤\n",
      "│ Cardin    ┆ Benjamin   ┆ L.          ┆ null   ┆ ... ┆ Ben Cardin     ┆ null               ┆ 15408    ┆ Ben Cardin     │\n",
      "├╌╌╌╌╌╌╌╌╌╌╌┼╌╌╌╌╌╌╌╌╌╌╌╌┼╌╌╌╌╌╌╌╌╌╌╌╌╌┼╌╌╌╌╌╌╌╌┼╌╌╌╌╌┼╌╌╌╌╌╌╌╌╌╌╌╌╌╌╌╌┼╌╌╌╌╌╌╌╌╌╌╌╌╌╌╌╌╌╌╌╌┼╌╌╌╌╌╌╌╌╌╌┼╌╌╌╌╌╌╌╌╌╌╌╌╌╌╌╌┤\n",
      "│ Carper    ┆ Thomas     ┆ Richard     ┆ null   ┆ ... ┆ Tom Carper     ┆ null               ┆ 15015    ┆ Tom Carper     │\n",
      "├╌╌╌╌╌╌╌╌╌╌╌┼╌╌╌╌╌╌╌╌╌╌╌╌┼╌╌╌╌╌╌╌╌╌╌╌╌╌┼╌╌╌╌╌╌╌╌┼╌╌╌╌╌┼╌╌╌╌╌╌╌╌╌╌╌╌╌╌╌╌┼╌╌╌╌╌╌╌╌╌╌╌╌╌╌╌╌╌╌╌╌┼╌╌╌╌╌╌╌╌╌╌┼╌╌╌╌╌╌╌╌╌╌╌╌╌╌╌╌┤\n",
      "│ Casey     ┆ Robert     ┆ P.          ┆ Jr.    ┆ ... ┆ Bob Casey, Jr. ┆ null               ┆ 40703    ┆ Bob Casey Jr.  │\n",
      "└───────────┴────────────┴─────────────┴────────┴─────┴────────────────┴────────────────────┴──────────┴────────────────┘\n"
     ]
    }
   ],
   "source": [
    "import polars as pl\n",
    "\n",
    "dataset = pl.read_csv(\"legislators-current.csv\")\n",
    "dataset = dataset.with_column(pl.col(\"birthday\").str.strptime(pl.Date))\n",
    "print(dataset.head())"
   ]
  },
  {
   "cell_type": "markdown",
   "id": "a7b011fa",
   "metadata": {},
   "source": [
    "### Agregaciones básicas\n",
    "Puede combinar fácilmente diferentes agregaciones agregando varias expresiones en una lista. No hay un límite superior en el número de agregaciones que puede hacer y puede hacer cualquier combinación que desee. En el fragmento a continuación, hacemos las siguientes agregaciones:\n",
    "\n",
    "Por grupo `\"first_name\"`:\n",
    "\n",
    "* cuente el número de filas en el grupo:\n",
    "    * forma abreviada: `pl.count(\"party\")`\n",
    "    * forma completa: `pl.col(\"party\").count()`\n",
    "* agregue el grupo de valores de género a una lista:\n",
    "    * forma completa: `pl.col(\"gender\").list()`\n",
    "* obtenga el primer valor de la columna `\"last_name\"` en el grupo:\n",
    "    * forma abreviada: `pl.primero(\"last_name\")`\n",
    "    * forma completa: `pl.col(\"last_name\").first()`\n",
    "\n",
    "Además de la agregación, clasificamos inmediatamente el resultado y lo limitamos a los 5 principales para que tengamos un buen resumen general."
   ]
  },
  {
   "cell_type": "code",
   "execution_count": 9,
   "id": "8099128c",
   "metadata": {},
   "outputs": [
    {
     "name": "stdout",
     "output_type": "stream",
     "text": [
      "shape: (5, 4)\n",
      "┌────────────┬───────┬─────────────────────┬───────────┐\n",
      "│ first_name ┆ count ┆ gender              ┆ last_name │\n",
      "│ ---        ┆ ---   ┆ ---                 ┆ ---       │\n",
      "│ str        ┆ u32   ┆ list [str]          ┆ str       │\n",
      "╞════════════╪═══════╪═════════════════════╪═══════════╡\n",
      "│ John       ┆ 19    ┆ [\"M\", \"M\", ... \"M\"] ┆ Barrasso  │\n",
      "├╌╌╌╌╌╌╌╌╌╌╌╌┼╌╌╌╌╌╌╌┼╌╌╌╌╌╌╌╌╌╌╌╌╌╌╌╌╌╌╌╌╌┼╌╌╌╌╌╌╌╌╌╌╌┤\n",
      "│ Mike       ┆ 13    ┆ [\"M\", \"M\", ... \"M\"] ┆ Kelly     │\n",
      "├╌╌╌╌╌╌╌╌╌╌╌╌┼╌╌╌╌╌╌╌┼╌╌╌╌╌╌╌╌╌╌╌╌╌╌╌╌╌╌╌╌╌┼╌╌╌╌╌╌╌╌╌╌╌┤\n",
      "│ Michael    ┆ 11    ┆ [\"M\", \"M\", ... \"M\"] ┆ Bennet    │\n",
      "├╌╌╌╌╌╌╌╌╌╌╌╌┼╌╌╌╌╌╌╌┼╌╌╌╌╌╌╌╌╌╌╌╌╌╌╌╌╌╌╌╌╌┼╌╌╌╌╌╌╌╌╌╌╌┤\n",
      "│ David      ┆ 11    ┆ [\"M\", \"M\", ... \"M\"] ┆ Cicilline │\n",
      "├╌╌╌╌╌╌╌╌╌╌╌╌┼╌╌╌╌╌╌╌┼╌╌╌╌╌╌╌╌╌╌╌╌╌╌╌╌╌╌╌╌╌┼╌╌╌╌╌╌╌╌╌╌╌┤\n",
      "│ James      ┆ 9     ┆ [\"M\", \"M\", ... \"M\"] ┆ Inhofe    │\n",
      "└────────────┴───────┴─────────────────────┴───────────┘\n"
     ]
    }
   ],
   "source": [
    "q = (\n",
    "    dataset.lazy()\n",
    "    .groupby(\"first_name\")\n",
    "    .agg(\n",
    "        [\n",
    "            pl.count(),\n",
    "            pl.col(\"gender\").list(),\n",
    "            pl.first(\"last_name\"),\n",
    "        ]\n",
    "    )\n",
    "    .sort(\"count\", reverse=True)\n",
    "    .limit(5)\n",
    ")\n",
    "\n",
    "df = q.collect()\n",
    "print(df)"
   ]
  },
  {
   "cell_type": "markdown",
   "id": "a1db0ac2",
   "metadata": {},
   "source": [
    "### Condicionales\n",
    "Ok, eso fue bastante fácil, ¿verdad? Subamos un nivel. Digamos que queremos saber cuántos delegados de un \"estado\" (`state`) son administración \"Democrat\" o \"Republican\". Podríamos consultarlo directamente en la agregación sin la necesidad de `lambda` o arreglar el DataFrame."
   ]
  },
  {
   "cell_type": "code",
   "execution_count": 10,
   "id": "82682208",
   "metadata": {},
   "outputs": [
    {
     "name": "stdout",
     "output_type": "stream",
     "text": [
      "shape: (5, 3)\n",
      "┌───────┬──────┬──────┐\n",
      "│ state ┆ demo ┆ repu │\n",
      "│ ---   ┆ ---  ┆ ---  │\n",
      "│ str   ┆ u32  ┆ u32  │\n",
      "╞═══════╪══════╪══════╡\n",
      "│ CA    ┆ 44   ┆ 10   │\n",
      "├╌╌╌╌╌╌╌┼╌╌╌╌╌╌┼╌╌╌╌╌╌┤\n",
      "│ NY    ┆ 21   ┆ 8    │\n",
      "├╌╌╌╌╌╌╌┼╌╌╌╌╌╌┼╌╌╌╌╌╌┤\n",
      "│ IL    ┆ 15   ┆ 5    │\n",
      "├╌╌╌╌╌╌╌┼╌╌╌╌╌╌┼╌╌╌╌╌╌┤\n",
      "│ TX    ┆ 13   ┆ 25   │\n",
      "├╌╌╌╌╌╌╌┼╌╌╌╌╌╌┼╌╌╌╌╌╌┤\n",
      "│ NJ    ┆ 12   ┆ 2    │\n",
      "└───────┴──────┴──────┘\n"
     ]
    }
   ],
   "source": [
    "q = (\n",
    "    dataset.lazy()\n",
    "    .groupby(\"state\")\n",
    "    .agg(\n",
    "        [\n",
    "            (pl.col(\"party\") == \"Democrat\").sum().alias(\"demo\"),\n",
    "            (pl.col(\"party\") == \"Republican\").sum().alias(\"repu\"),\n",
    "        ]\n",
    "    )\n",
    "    .sort(\"demo\", reverse=True)\n",
    "    .limit(5)\n",
    ")\n",
    "\n",
    "df = q.collect()\n",
    "print(df)"
   ]
  },
  {
   "cell_type": "markdown",
   "id": "f0c66dbe",
   "metadata": {},
   "source": [
    "Por supuesto, también se podría hacer algo similar con un `GROUPBY` anidado, pero eso no me permitiría mostrar estas características agradables. 😉"
   ]
  },
  {
   "cell_type": "code",
   "execution_count": 11,
   "id": "e8f0edb6",
   "metadata": {},
   "outputs": [
    {
     "name": "stdout",
     "output_type": "stream",
     "text": [
      "shape: (5, 3)\n",
      "┌───────┬────────────┬───────┐\n",
      "│ state ┆ party      ┆ count │\n",
      "│ ---   ┆ ---        ┆ ---   │\n",
      "│ str   ┆ str        ┆ u32   │\n",
      "╞═══════╪════════════╪═══════╡\n",
      "│ CA    ┆ Democrat   ┆ 44    │\n",
      "├╌╌╌╌╌╌╌┼╌╌╌╌╌╌╌╌╌╌╌╌┼╌╌╌╌╌╌╌┤\n",
      "│ TX    ┆ Republican ┆ 25    │\n",
      "├╌╌╌╌╌╌╌┼╌╌╌╌╌╌╌╌╌╌╌╌┼╌╌╌╌╌╌╌┤\n",
      "│ NY    ┆ Democrat   ┆ 21    │\n",
      "├╌╌╌╌╌╌╌┼╌╌╌╌╌╌╌╌╌╌╌╌┼╌╌╌╌╌╌╌┤\n",
      "│ FL    ┆ Republican ┆ 18    │\n",
      "├╌╌╌╌╌╌╌┼╌╌╌╌╌╌╌╌╌╌╌╌┼╌╌╌╌╌╌╌┤\n",
      "│ IL    ┆ Democrat   ┆ 15    │\n",
      "└───────┴────────────┴───────┘\n"
     ]
    }
   ],
   "source": [
    "q = (\n",
    "    dataset.lazy()\n",
    "    .groupby([\"state\", \"party\"])\n",
    "    .agg([pl.count(\"party\").alias(\"count\")])\n",
    "    .filter((pl.col(\"party\") == \"Democrat\") | (pl.col(\"party\") == \"Republican\"))\n",
    "    .sort(\"count\", reverse=True)\n",
    "    .limit(5)\n",
    ")\n",
    "\n",
    "df = q.collect()\n",
    "print(df)"
   ]
  },
  {
   "cell_type": "markdown",
   "id": "bfa2069e",
   "metadata": {},
   "source": [
    "### Filtración\n",
    "También podemos filtrar los grupos. Digamos que queremos calcular una media por grupo, pero no queremos incluir todos los valores de ese grupo y tampoco queremos filtrar las filas del `DataFrame` (porque necesitamos esas filas para otra agregación).\n",
    "\n",
    "En el siguiente ejemplo, mostramos cómo se puede hacer eso. Tenga en cuenta que podemos hacer funciones de *Python* para mayor claridad. Estas funciones no nos cuestan nada. Esto se debe a que solo creamos `Polars expression`, no aplicamos una función personalizada sobre `Series` durante el tiempo de ejecución de la consulta."
   ]
  },
  {
   "cell_type": "code",
   "execution_count": 12,
   "id": "7e93996a",
   "metadata": {},
   "outputs": [],
   "source": [
    "from datetime import date\n",
    "\n",
    "def compute_age() -> pl.Expr:\n",
    "    return date(2021, 1, 1).year - pl.col(\"birthday\").dt.year()\n",
    "\n",
    "\n",
    "def avg_birthday(gender: str) -> pl.Expr:\n",
    "    return compute_age().filter(pl.col(\"gender\") == gender).mean().alias(f\"avg {gender} birthday\")"
   ]
  },
  {
   "cell_type": "code",
   "execution_count": 13,
   "id": "9105f7e9",
   "metadata": {},
   "outputs": [
    {
     "name": "stdout",
     "output_type": "stream",
     "text": [
      "shape: (5, 5)\n",
      "┌───────┬────────────────┬────────────────┬────────┬──────────┐\n",
      "│ state ┆ avg M birthday ┆ avg F birthday ┆ # male ┆ # female │\n",
      "│ ---   ┆ ---            ┆ ---            ┆ ---    ┆ ---      │\n",
      "│ str   ┆ f64            ┆ f64            ┆ u32    ┆ u32      │\n",
      "╞═══════╪════════════════╪════════════════╪════════╪══════════╡\n",
      "│ MS    ┆ 60.0           ┆ 62.0           ┆ 5      ┆ 1        │\n",
      "├╌╌╌╌╌╌╌┼╌╌╌╌╌╌╌╌╌╌╌╌╌╌╌╌┼╌╌╌╌╌╌╌╌╌╌╌╌╌╌╌╌┼╌╌╌╌╌╌╌╌┼╌╌╌╌╌╌╌╌╌╌┤\n",
      "│ NV    ┆ 55.5           ┆ 61.75          ┆ 2      ┆ 4        │\n",
      "├╌╌╌╌╌╌╌┼╌╌╌╌╌╌╌╌╌╌╌╌╌╌╌╌┼╌╌╌╌╌╌╌╌╌╌╌╌╌╌╌╌┼╌╌╌╌╌╌╌╌┼╌╌╌╌╌╌╌╌╌╌┤\n",
      "│ KS    ┆ 54.2           ┆ 41.0           ┆ 5      ┆ 1        │\n",
      "├╌╌╌╌╌╌╌┼╌╌╌╌╌╌╌╌╌╌╌╌╌╌╌╌┼╌╌╌╌╌╌╌╌╌╌╌╌╌╌╌╌┼╌╌╌╌╌╌╌╌┼╌╌╌╌╌╌╌╌╌╌┤\n",
      "│ IN    ┆ 55.0           ┆ 50.5           ┆ 9      ┆ 2        │\n",
      "├╌╌╌╌╌╌╌┼╌╌╌╌╌╌╌╌╌╌╌╌╌╌╌╌┼╌╌╌╌╌╌╌╌╌╌╌╌╌╌╌╌┼╌╌╌╌╌╌╌╌┼╌╌╌╌╌╌╌╌╌╌┤\n",
      "│ IL    ┆ 60.923077      ┆ 58.428571      ┆ 13     ┆ 7        │\n",
      "└───────┴────────────────┴────────────────┴────────┴──────────┘\n"
     ]
    }
   ],
   "source": [
    "q = (\n",
    "    dataset.lazy()\n",
    "    .groupby([\"state\"])\n",
    "    .agg(\n",
    "        [\n",
    "            avg_birthday(\"M\"),\n",
    "            avg_birthday(\"F\"),\n",
    "            (pl.col(\"gender\") == \"M\").sum().alias(\"# male\"),\n",
    "            (pl.col(\"gender\") == \"F\").sum().alias(\"# female\"),\n",
    "        ]\n",
    "    )\n",
    "    .limit(5)\n",
    ")\n",
    "\n",
    "df = q.collect()\n",
    "print(df)"
   ]
  },
  {
   "cell_type": "markdown",
   "id": "3a1fead9",
   "metadata": {},
   "source": [
    "### Sorting\n",
    "A menudo veo que se ordena un DataFrame con el único propósito de ordenar durante la operación `GROUPBY`. Digamos que queremos obtener los nombres de los políticos más antiguos y más jóvenes (no es que todavía estén vivos) por estado, podríamos `ORDENAR` y `AGRUPAR`."
   ]
  },
  {
   "cell_type": "code",
   "execution_count": 14,
   "id": "6ed24a06",
   "metadata": {},
   "outputs": [
    {
     "name": "stdout",
     "output_type": "stream",
     "text": [
      "shape: (5, 3)\n",
      "┌───────┬──────────────────────────┬──────────────────────────┐\n",
      "│ state ┆ youngest                 ┆ oldest                   │\n",
      "│ ---   ┆ ---                      ┆ ---                      │\n",
      "│ str   ┆ str                      ┆ str                      │\n",
      "╞═══════╪══════════════════════════╪══════════════════════════╡\n",
      "│ PR    ┆ Jenniffer González-Colón ┆ Jenniffer González-Colón │\n",
      "├╌╌╌╌╌╌╌┼╌╌╌╌╌╌╌╌╌╌╌╌╌╌╌╌╌╌╌╌╌╌╌╌╌╌┼╌╌╌╌╌╌╌╌╌╌╌╌╌╌╌╌╌╌╌╌╌╌╌╌╌╌┤\n",
      "│ ND    ┆ John Hoeven              ┆ Kelly Armstrong          │\n",
      "├╌╌╌╌╌╌╌┼╌╌╌╌╌╌╌╌╌╌╌╌╌╌╌╌╌╌╌╌╌╌╌╌╌╌┼╌╌╌╌╌╌╌╌╌╌╌╌╌╌╌╌╌╌╌╌╌╌╌╌╌╌┤\n",
      "│ KY    ┆ Harold Rogers            ┆ Garland Barr             │\n",
      "├╌╌╌╌╌╌╌┼╌╌╌╌╌╌╌╌╌╌╌╌╌╌╌╌╌╌╌╌╌╌╌╌╌╌┼╌╌╌╌╌╌╌╌╌╌╌╌╌╌╌╌╌╌╌╌╌╌╌╌╌╌┤\n",
      "│ NM    ┆ Teresa Leger Fernandez   ┆ Melanie Stansbury        │\n",
      "├╌╌╌╌╌╌╌┼╌╌╌╌╌╌╌╌╌╌╌╌╌╌╌╌╌╌╌╌╌╌╌╌╌╌┼╌╌╌╌╌╌╌╌╌╌╌╌╌╌╌╌╌╌╌╌╌╌╌╌╌╌┤\n",
      "│ OR    ┆ Peter DeFazio            ┆ Jeff Merkley             │\n",
      "└───────┴──────────────────────────┴──────────────────────────┘\n"
     ]
    }
   ],
   "source": [
    "def get_person() -> pl.Expr:\n",
    "    return pl.col(\"first_name\") + pl.lit(\" \") + pl.col(\"last_name\")\n",
    "\n",
    "\n",
    "q = (\n",
    "    dataset.lazy()\n",
    "    .sort(\"birthday\")\n",
    "    .groupby([\"state\"])\n",
    "    .agg(\n",
    "        [\n",
    "            get_person().first().alias(\"youngest\"),\n",
    "            get_person().last().alias(\"oldest\"),\n",
    "        ]\n",
    "    )\n",
    "    .limit(5)\n",
    ")\n",
    "\n",
    "df = q.collect()\n",
    "\n",
    "print(df)"
   ]
  },
  {
   "cell_type": "markdown",
   "id": "c272ba99",
   "metadata": {},
   "source": [
    "# Referencias\n",
    "\n",
    "* [Polars - User Guide](https://pola-rs.github.io/polars-book/user-guide/introduction.html)\n",
    "* [Polars - Github](https://github.com/pola-rs/polars)"
   ]
  }
 ],
 "metadata": {
  "kernelspec": {
   "display_name": "Python 3 (ipykernel)",
   "language": "python",
   "name": "python3"
  },
  "language_info": {
   "codemirror_mode": {
    "name": "ipython",
    "version": 3
   },
   "file_extension": ".py",
   "mimetype": "text/x-python",
   "name": "python",
   "nbconvert_exporter": "python",
   "pygments_lexer": "ipython3",
   "version": "3.8.10"
  }
 },
 "nbformat": 4,
 "nbformat_minor": 5
}
