{
 "cells": [
  {
   "cell_type": "markdown",
   "id": "938640e1",
   "metadata": {},
   "source": [
    "# Polars\n",
    "> DataFrames increíblemente rápidos en Rust, Python y Node.js.\n",
    "\n",
    "- toc: true \n",
    "- badges: false\n",
    "- comments: true\n",
    "- categories: [python]\n",
    "- image: images/polars.PNG"
   ]
  },
  {
   "cell_type": "markdown",
   "id": "6e316a83",
   "metadata": {},
   "source": [
    "# Introducción\n",
    "\n",
    "[Polars](https://github.com/pola-rs/polars) es una librería de DataFrames increíblemente rápida implementada en [Rust](https://github.com/rust-lang/rust) utilizando [Arrow Columnar Format](https://arrow.apache.org/docs/format/Columnar.html) de Apache como modelo de memoria.\n",
    "\n",
    "\n",
    "* Lazy | eager execution\n",
    "* Multi-threaded\n",
    "* SIMD (Single Instruction, Multiple Data)\n",
    "* Query optimization\n",
    "* Powerful expression API\n",
    "* Rust | Python | ...\n",
    "\n",
    "Esta sección tiene como objetivos presentarle *Polars* a través de ejemplos y comparándolo con otras soluciones.\n",
    "\n",
    "> **Nota**: Si usted no esta familiarizado con la manipulación de datos en Python, se recomienda partir leyendo sobre la librería de [Pandas](https://pandas.pydata.org/docs/). También, se deja como referencia el curso de [Manipulación de Datos](https://gitlab.com/FAAM/python_data_manipulation)."
   ]
  },
  {
   "cell_type": "markdown",
   "id": "34cc7c63",
   "metadata": {},
   "source": [
    "# Primeros Pasos\n",
    "\n",
    "## Instalación\n",
    "\n",
    "Para instalar **Polars**, necesitará usar la línea de comando. Si ha instalado Anaconda, puede usar:\n",
    "\n",
    "```\n",
    "conda install -c conda-forge polars\n",
    "```\n",
    "\n",
    "De lo contrario, puede instalar con pip:\n",
    "\n",
    "\n",
    "```\n",
    "pip install polars\n",
    "```\n",
    "\n",
    "> **Nota**: Todos los binarios están preconstruidos para Python v3.6+.\n",
    "\n",
    "\n",
    "# Rendimiento\n",
    "*Polars* es muy rápido y, de hecho, es una de las mejores soluciones disponibles. Tomemos como referencia [db-benchmark](https://h2oai.github.io/db-benchmark/) de h2oai. Esta página tiene como objetivo comparar varias herramientas similares a bases de datos populares en la ciencia de datos de código abierto. Se ejecuta regularmente con las últimas versiones de estos paquetes y se actualiza automáticamente.\n",
    "\n",
    "También se incluye la sintaxis que se cronometra junto con el tiempo. De esta manera, puede ver de inmediato si está realizando estas tareas o no, y si las diferencias de tiempo le importan o no. Una diferencia de 10x puede ser irrelevante si eso es solo 1s frente a 0,1s en el tamaño de sus datos.\n",
    "\n",
    "A modo de ejemplo, veamos algunos ejemplos de *performances* de distintas librerías para ejecutar distintos tipos de tareas sobre datasets con distintos tamaños. Para el caso de tareas básicas sobre un dataset de **50 GB**, *Polars* supera a librerías espacializadas en distribución de Dataframes como *Spark* (143 segundos vs 568 segundos). Por otro lado, librerías conocidas en Python como *Pandas* o *Dask* se tiene el problema de **out of memory**.\n",
    "\n",
    "![](../images/polars/db-benchmark.png)"
   ]
  },
  {
   "cell_type": "markdown",
   "id": "e2fd0395",
   "metadata": {},
   "source": [
    "# Expresiones en Polars\n",
    "\n",
    "Polars tiene un poderoso concepto llamado expresiones. Las expresiones polares se pueden usar en varios contextos y son un mapeo funcional de `Fn(Series) -> Series`, lo que significa que tienen `Series` como entrada y `Series` como salida. Al observar esta definición funcional, podemos ver que la salida de un `Expr` también puede servir como entrada de un `Expr`.\n",
    "\n",
    "Eso puede sonar un poco extraño, así que vamos a dar un ejemplo.\n",
    "\n",
    "La siguiente es una expresión:\n",
    "\n",
    "```python\n",
    "pl.col(\"foo\").sort().head(2)\n",
    "```\n",
    "\n",
    "El fragmento anterior dice seleccionar la columna \"foo\", luego ordenar esta columna y luego tomar los primeros 2 valores de la salida ordenada. El poder de las expresiones es que cada expresión produce una nueva expresión y que se pueden canalizar juntas. Puede ejecutar una expresión pasándola en uno de los contextos de ejecución polares. Aquí ejecutamos dos expresiones ejecutando df.select:\n",
    "\n",
    "```python\n",
    "df.select([\n",
    "     pl.col(\"foo\").sort().head(2),\n",
    "     pl.col(\"barra\").filter(pl.col(\"foo\") == 1).sum()\n",
    "])\n",
    "```\n",
    "\n",
    "Todas las expresiones se ejecutan en paralelo. (Tenga en cuenta que dentro de una expresión puede haber más paralelización).\n",
    "\n",
    "## Expresiones\n",
    "\n",
    "En esta sección veremos algunos ejemplos, pero primero vamos a crear un conjunto de datos:"
   ]
  },
  {
   "cell_type": "code",
   "execution_count": 2,
   "id": "f6ebd95e",
   "metadata": {},
   "outputs": [],
   "source": [
    "import polars as pl\n",
    "import numpy as np"
   ]
  },
  {
   "cell_type": "code",
   "execution_count": 3,
   "id": "a2392437",
   "metadata": {},
   "outputs": [
    {
     "name": "stdout",
     "output_type": "stream",
     "text": [
      "shape: (5, 4)\n",
      "┌──────┬───────┬──────────┬────────┐\n",
      "│ nrs  ┆ names ┆ random   ┆ groups │\n",
      "│ ---  ┆ ---   ┆ ---      ┆ ---    │\n",
      "│ i64  ┆ str   ┆ f64      ┆ str    │\n",
      "╞══════╪═══════╪══════════╪════════╡\n",
      "│ 1    ┆ foo   ┆ 0.154163 ┆ A      │\n",
      "├╌╌╌╌╌╌┼╌╌╌╌╌╌╌┼╌╌╌╌╌╌╌╌╌╌┼╌╌╌╌╌╌╌╌┤\n",
      "│ 2    ┆ ham   ┆ 0.74     ┆ A      │\n",
      "├╌╌╌╌╌╌┼╌╌╌╌╌╌╌┼╌╌╌╌╌╌╌╌╌╌┼╌╌╌╌╌╌╌╌┤\n",
      "│ 3    ┆ spam  ┆ 0.263315 ┆ B      │\n",
      "├╌╌╌╌╌╌┼╌╌╌╌╌╌╌┼╌╌╌╌╌╌╌╌╌╌┼╌╌╌╌╌╌╌╌┤\n",
      "│ null ┆ egg   ┆ 0.533739 ┆ C      │\n",
      "├╌╌╌╌╌╌┼╌╌╌╌╌╌╌┼╌╌╌╌╌╌╌╌╌╌┼╌╌╌╌╌╌╌╌┤\n",
      "│ 5    ┆ null  ┆ 0.014575 ┆ B      │\n",
      "└──────┴───────┴──────────┴────────┘\n"
     ]
    }
   ],
   "source": [
    "np.random.seed(12)\n",
    "\n",
    "df = pl.DataFrame(\n",
    "    {\n",
    "        \"nrs\": [1, 2, 3, None, 5],\n",
    "        \"names\": [\"foo\", \"ham\", \"spam\", \"egg\", None],\n",
    "        \"random\": np.random.rand(5),\n",
    "        \"groups\": [\"A\", \"A\", \"B\", \"C\", \"B\"],\n",
    "    }\n",
    ")\n",
    "print(df)"
   ]
  },
  {
   "cell_type": "markdown",
   "id": "4dbc054b",
   "metadata": {},
   "source": [
    "Puedes hacer mucho con las expresiones. Son tan expresivos que a veces tienes varias formas de obtener los mismos resultados. Para tener una idea de ellos, veamos algunos ejemplos."
   ]
  },
  {
   "cell_type": "code",
   "execution_count": null,
   "id": "08aca56f",
   "metadata": {},
   "outputs": [],
   "source": []
  }
 ],
 "metadata": {
  "kernelspec": {
   "display_name": "Python 3 (ipykernel)",
   "language": "python",
   "name": "python3"
  },
  "language_info": {
   "codemirror_mode": {
    "name": "ipython",
    "version": 3
   },
   "file_extension": ".py",
   "mimetype": "text/x-python",
   "name": "python",
   "nbconvert_exporter": "python",
   "pygments_lexer": "ipython3",
   "version": "3.8.10"
  }
 },
 "nbformat": 4,
 "nbformat_minor": 5
}
