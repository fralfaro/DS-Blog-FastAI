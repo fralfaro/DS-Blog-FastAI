{
 "cells": [
  {
   "cell_type": "markdown",
   "id": "938640e1",
   "metadata": {},
   "source": [
    "# Polars\n",
    "> DataFrames increíblemente rápidos en Rust, Python y Node.js.\n",
    "\n",
    "- toc: true \n",
    "- badges: false\n",
    "- comments: true\n",
    "- categories: [python]\n",
    "- image: images/polars.png"
   ]
  },
  {
   "cell_type": "markdown",
   "id": "6e316a83",
   "metadata": {},
   "source": [
    "# Introducción\n",
    "\n",
    "[Polars](https://github.com/pola-rs/polars) es una librería de DataFrames increíblemente rápida implementada en [Rust](https://github.com/rust-lang/rust) utilizando [Arrow Columnar Format](https://arrow.apache.org/docs/format/Columnar.html) de Apache como modelo de memoria.\n",
    "\n",
    "\n",
    "* Lazy | eager execution\n",
    "* Multi-threaded\n",
    "* SIMD (Single Instruction, Multiple Data)\n",
    "* Query optimization\n",
    "* Powerful expression API\n",
    "* Rust | Python | ...\n",
    "\n",
    "Esta sección tiene como objetivos presentarle *Polars* a través de ejemplos y comparándolo con otras soluciones.\n",
    "\n",
    "> **Nota**: Si usted no esta familiarizado con la manipulación de datos en Python, se recomienda partir leyendo sobre la librería de [Pandas](https://pandas.pydata.org/docs/). También, se deja como referencia el curso de [Manipulación de Datos](https://gitlab.com/FAAM/python_data_manipulation)."
   ]
  },
  {
   "cell_type": "markdown",
   "id": "6e6e22a2",
   "metadata": {},
   "source": [
    "# Primeros Pasos\n",
    "\n",
    "## Instalación\n",
    "\n",
    "Para instalar **Polars**, necesitará usar la línea de comando. Si ha instalado Anaconda, puede usar:\n",
    "\n",
    "```\n",
    "conda install -c conda-forge polars\n",
    "```\n",
    "\n",
    "De lo contrario, puede instalar con pip:\n",
    "\n",
    "\n",
    "```\n",
    "pip install polars\n",
    "```\n",
    "\n",
    "> **Nota**: No interactuarás directamente con **RISE**. En su lugar, podrá acceder a él a través de Jupyter Notebooks.\n",
    "\n",
    "\n",
    "# Rendimiento\n",
    "*Polars* es muy rápido y, de hecho, es una de las mejores soluciones disponibles. Tomemos como referencia [db-benchmark](https://h2oai.github.io/db-benchmark/) de h2oai. Esta página tiene como objetivo comparar varias herramientas similares a bases de datos populares en la ciencia de datos de código abierto. Se ejecuta regularmente con las últimas versiones de estos paquetes y se actualiza automáticamente.\n",
    "\n",
    "También se incluye la sintaxis que se cronometra junto con el tiempo. De esta manera, puede ver de inmediato si está realizando estas tareas o no, y si las diferencias de tiempo le importan o no. Una diferencia de 10x puede ser irrelevante si eso es solo 1s frente a 0,1s en el tamaño de sus datos.\n",
    "\n",
    "A modo de ejemplo, veamos el *performances* de distintas librerías para ejecutar un *groupby* sobre un dataset de tamaño **50 gb**. Se observa que *Polars* supera a librerías espacializadas en distribución de Datframes como *Spark*(143 segundos vs 568 segundos). Por otro lado, librerías conocidas en Python como *Pandas* o *Dask* se tiene el problema de **out of memory**.\n",
    "\n",
    "![](../images/polars/img_01.PNG)"
   ]
  }
 ],
 "metadata": {
  "kernelspec": {
   "display_name": "Python 3 (ipykernel)",
   "language": "python",
   "name": "python3"
  },
  "language_info": {
   "codemirror_mode": {
    "name": "ipython",
    "version": 3
   },
   "file_extension": ".py",
   "mimetype": "text/x-python",
   "name": "python",
   "nbconvert_exporter": "python",
   "pygments_lexer": "ipython3",
   "version": "3.8.10"
  }
 },
 "nbformat": 4,
 "nbformat_minor": 5
}
