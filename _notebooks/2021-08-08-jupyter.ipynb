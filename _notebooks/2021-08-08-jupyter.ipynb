{
 "cells": [
  {
   "cell_type": "markdown",
   "id": "d38a2ac2",
   "metadata": {},
   "source": [
    "# Jupyter Noteboook\n",
    "> Framework para Data Scientist.\n",
    "\n",
    "- toc: true \n",
    "- badges: false\n",
    "- comments: true\n",
    "- categories: [jupyter]\n",
    "- image: images/jupyter.png"
   ]
  },
  {
   "cell_type": "markdown",
   "id": "7a021332",
   "metadata": {},
   "source": [
    "# Introducción\n",
    "\n",
    "[Jupyter Notebook](https://jupyter.org/), es un entorno de trabajo interactivo que permite desarrollar código en Python (por defecto, aunque permite otros lenguajes) de manera dinámica, a la vez que integrar en un mismo documento tanto bloques de código como texto, gráficas o imágenes. Es un SaaS utilizado ampliamente en análisis numérico, estadística y machine learning, entre otros campos de la informática y las matemáticas.\n",
    "\n",
    "Por otro lado, [JupyterLab](https://jupyterlab.readthedocs.io/en/stable/) es similar a Jupyter Notebook en cuanto a sus funcionalidade, pero tiene un interfaz más interesante para los usuarios. Eventualmente Jupyter Lab reemplazará a Jupyter Notebok.\n",
    "\n",
    "Nos centraremos en comprender aspectos básicos de cómo trabajar un archivo en jupyter notebook (extensión `.ipynb`)."
   ]
  },
  {
   "cell_type": "markdown",
   "id": "3bdc9535",
   "metadata": {},
   "source": [
    "# Primeros Pasos\n",
    "\n",
    "## Instalación\n",
    "\n",
    "Para instalar **RISE**, necesitará usar la línea de comando. Si ha instalado Anaconda, puede usar:\n",
    "\n",
    "```\n",
    "conda install -c conda-forge notebook\n",
    "```\n",
    "\n",
    "De lo contrario, puede instalar con pip:\n",
    "\n",
    "\n",
    "```\n",
    "pip install notebook\n",
    "```\n",
    "\n",
    "> **Nota**: SI desea instalar JupyterLab, simplemente reemplaza `notebook` por `jupyterlab`.\n",
    "\n"
   ]
  },
  {
   "cell_type": "markdown",
   "id": "70777f79",
   "metadata": {},
   "source": [
    "# Primeros pasos\n",
    "\n",
    "## Toolbox\n",
    "\n",
    "Jupyter notebook nos ofrece el siguiente toolbox:\n",
    "\n",
    "![](../images/jupyter/toolbar.png)\n",
    "\n",
    "* **File**: En él, puede crear un nuevo cuaderno o abrir uno preexistente. Aquí es también a donde iría para cambiar el nombre de un Cuaderno. Creo que el elemento de menú más interesante es la opción Guardar y Checkpoint. Esto le permite crear puntos de control a los que puede retroceder si lo necesita.\n",
    "\n",
    "\n",
    "* **Edit**: Aquí puede cortar, copiar y pegar celdas. Aquí también es donde irías si quisieras eliminar, dividir o fusionar una celda. Puede reordenar celdas aquí también.\n",
    "\n",
    "\n",
    "* **View**: es útil para alternar la visibilidad del encabezado y la barra de herramientas. También puede activar o desactivar los números de línea dentro de las celdas. Aquí también es donde irías si quieres meterte con la barra de herramientas de la celda.\n",
    "\n",
    "\n",
    "* **Insert**: es solo para insertar celdas encima o debajo de la celda seleccionada actualmente.\n",
    "\n",
    "\n",
    "* **Cell**: le permite ejecutar una celda, un grupo de celdas o todas las celdas. También puede ir aquí para cambiar el tipo de celda, aunque personalmente considero que la barra de herramientas es más intuitiva para eso.\n",
    "\n",
    "\n",
    "* **Kernel**: es para trabajar con el kernel que se ejecuta en segundo plano. Aquí puede reiniciar el kernel, volver a conectarlo, apagarlo o incluso cambiar el kernel que está utilizando su computadora portátil.\n",
    "\n",
    "\n",
    "* **Widgets**: es para guardar y borrar el estado del widget. Los widgets son básicamente widgets de JavaScript que puede agregar a sus celdas para crear contenido dinámico utilizando Python (u otro Kernel).\n",
    "\n",
    "\n",
    "* **Help**: es donde debe aprender sobre los atajos de teclado del Notebook, un recorrido por la interfaz de usuario y mucho material de referencia.\n",
    "\n"
   ]
  },
  {
   "cell_type": "markdown",
   "id": "cbf4a60a",
   "metadata": {},
   "source": [
    "## Markdown\n",
    "\n",
    "![](../images/jupyter/markdown.png)\n",
    "\n",
    "Jupyter Notebook permite que escribamos texto formateado, es decir, texto con cursiva, negritas, títulos de distintos tamaños, etc., de forma simple. Para ello *Jupyter* nos permite usar *Markdown*, que es un lenguaje de marcado (markup) muy popular. \n",
    "\n",
    "Los lenguajes de markup son lenguajes ideados para procesar texto, algunos de los más conocidos son [HTML](https://es.wikipedia.org/wiki/HTML) y $\\LaTeX$. *Markdown* tiene como objetivo ser un lenguaje de sintaxis minimalista, simple de aprender y usar; de esa forma uno puede dar formato al texto pero sin perder demasiado tiempo en los detalles.\n",
    "\n",
    "La cantidad de [tutoriales](https://joedicastro.com/pages/markdown.html) en la red sobre *Markdown* es inmenso, por lo que nos centraremos en indicar las opciones que más se utilizan.\n",
    "\n",
    "* **Texto en negrita/cursiva**: El texto en negrita se indica entre dos pares de asteriscos. De este modo `**palabra**` aparecerá como **palabra**. Por otro lado, el texto en cursiva se indica entre dos asteriscos simples; es decir `*palabra*` aparecerá como *palabra*.\n",
    "\n",
    "\n",
    "* **Listas**: Las listas en *Markdown* se realizan indicando un asterisco o un número seguido de un punto si se desean listas numeradas. *Markdown* organiza automáticamente los items asignándoles el número correcto.\n",
    "\n",
    "\n",
    "* **Inclusión de imágenes**: La sintaxis para incluir imágenes en Markdown es `![nombre alternativo](dirección de la imagen)` en donde el nombre alternativo aparecerá en caso de que no se pueda cargar la imágen y la dirección puede referirse a una imagen local o un enlace en Internet.\n",
    "\n",
    "\n",
    "* **Inclusión de código HTML**: El lenguaje *Markdown* es un subconjunto del lenguaje HTML y en donde se necesite un mayor control del formato, se puede incluir directamente el código HTML.\n",
    "\n",
    "\n",
    "* **Enlaces**: Las celdas de texto pueden contener enlaces, tanto a otras partes del documento, como a páginas en internet u otros archivos locales. Su sintaxis es `[texto](dirección del enlace)`.\n",
    "\n",
    "\n",
    "* **Fórmulas matemáticas**: Gracias al uso de *MathJax*, se puede incluir código en $\\LaTeX$ para mostrar todo tipo de fórmulas y expresiones matemáticas. Las fórmulas dentro de una línea de texto se escriben entre símbolos de dólar `$...$`, mientras que las expresiones separadas del texto utilizan símbolos de dólar dobles `$$...$$`. Los siguientes son ejemplos de fórmulas matemáticas escritas en $\\LaTeX$:"
   ]
  },
  {
   "cell_type": "markdown",
   "id": "b583e917",
   "metadata": {},
   "source": [
    "$$p(x) = 3x^2 + 5y^2 + x^2y^2$$\n",
    "\n",
    "$$e^{\\pi i} - 1 = 0$$\n",
    "\n",
    "$$\\lim_{x \\rightarrow \\infty} 3x+1$$\n",
    "\n",
    "$$\\sum_{n=1}^\\infty\\frac{1}{n^2}$$\n",
    "\n",
    "$$\\int_0^\\infty\\frac{\\sin x}{x}\\,\\mathrm{d}x=\\frac{\\pi}{2}$$"
   ]
  },
  {
   "cell_type": "markdown",
   "id": "1782d971",
   "metadata": {},
   "source": [
    "## Código\n",
    "\n",
    "Jupyter Notebook permite que escribamos código dependiendo del **kernel** que estemos trabajando. Por defecto, es el kernel de Python. Veamos unos ejemplos sencillos de código:"
   ]
  },
  {
   "cell_type": "code",
   "execution_count": 2,
   "id": "f97b87d2",
   "metadata": {},
   "outputs": [
    {
     "name": "stdout",
     "output_type": "stream",
     "text": [
      "La raiz cuadra de 16 es 4.0\n"
     ]
    }
   ],
   "source": [
    "import math\n",
    "n = 16\n",
    "print(f\"La raiz cuadra de {n} es {math.sqrt(n)}\")"
   ]
  }
 ],
 "metadata": {
  "kernelspec": {
   "display_name": "Python 3 (ipykernel)",
   "language": "python",
   "name": "python3"
  },
  "language_info": {
   "codemirror_mode": {
    "name": "ipython",
    "version": 3
   },
   "file_extension": ".py",
   "mimetype": "text/x-python",
   "name": "python",
   "nbconvert_exporter": "python",
   "pygments_lexer": "ipython3",
   "version": "3.8.10"
  }
 },
 "nbformat": 4,
 "nbformat_minor": 5
}
