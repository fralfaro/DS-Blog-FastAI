{
 "cells": [
  {
   "cell_type": "markdown",
   "id": "d38a2ac2",
   "metadata": {},
   "source": [
    "# Jupyter Noteboook\n",
    "> Framework para Data Scientist.\n",
    "\n",
    "- toc: true \n",
    "- badges: false\n",
    "- comments: true\n",
    "- categories: [jupyter]\n",
    "- image: images/jupyter.png"
   ]
  },
  {
   "cell_type": "markdown",
   "id": "7a021332",
   "metadata": {},
   "source": [
    "# Introducción\n",
    "\n",
    "[Jupyter Notebook](https://jupyter.org/), en adelante Jupyter, es un entorno de trabajo interactivo que permite desarrollar código en Python (por defecto, aunque permite otros lenguajes) de manera dinámica, a la vez que integrar en un mismo documento tanto bloques de código como texto, gráficas o imágenes. Es un SaaS utilizado ampliamente en análisis numérico, estadística y machine learning, entre otros campos de la informática y las matemáticas.\n",
    "\n"
   ]
  }
 ],
 "metadata": {
  "kernelspec": {
   "display_name": "Python 3 (ipykernel)",
   "language": "python",
   "name": "python3"
  },
  "language_info": {
   "codemirror_mode": {
    "name": "ipython",
    "version": 3
   },
   "file_extension": ".py",
   "mimetype": "text/x-python",
   "name": "python",
   "nbconvert_exporter": "python",
   "pygments_lexer": "ipython3",
   "version": "3.8.10"
  }
 },
 "nbformat": 4,
 "nbformat_minor": 5
}
