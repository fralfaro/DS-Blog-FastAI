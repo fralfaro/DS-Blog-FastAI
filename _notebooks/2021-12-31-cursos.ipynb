{
 "cells": [
  {
   "cell_type": "markdown",
   "metadata": {},
   "source": [
    "# Courses\n",
    "\n",
    "> Blog associated with each of the courses taken (university/personal).\n",
    "\n",
    "- toc: true \n",
    "- badges: false\n",
    "- comments: true\n",
    "- categories: [markdown]\n",
    "- image: images/course.png"
   ]
  },
  {
   "cell_type": "markdown",
   "metadata": {},
   "source": [
    "# **University**  \n",
    "\n",
    "## MAT281\n",
    "\n",
    "- **Course**: MAT281\n",
    "- **Description**: Applications of Mathematics in Engineering\n",
    "- **Blog**: [2019](https://fralfaro.github.io/ds_blog/jupyter/2021/12/31/mat281.html), [2020](https://fralfaro.github.io/ds_blog/jupyter/2021/12/31/mat281.html), [2021](https://fralfaro.github.io/ds_blog/jupyter/2021/12/31/mat281.html)\n",
    "\n",
    "\n",
    "  \n",
    "## Previous Courses\n",
    "\n",
    "- MAT021 - Calculus and Algebra I (UTFSM)\n",
    "- MAT022 - Calculus and Algebra II (UTFSM)\n",
    "\n",
    "# **Personal**  \n",
    "\n",
    "## Basic Tools\n",
    "\n",
    "- **Course**: Basic Tools\n",
    "- **Description**: Basic tools for Data Scientists\n",
    "- **Blog**: [here](https://fralfaro.github.io/ds_blog/jupyter/2021/12/31/mat281.html)\n",
    "\n",
    "## Python Introduction\n",
    "\n",
    "- **Course**: Python Introduction \n",
    "- **Description**: Basic concepts about Python\n",
    "- **Blog**: [here](https://fralfaro.github.io/ds_blog/jupyter/2021/12/31/mat281.html)\n",
    "\n",
    "\n",
    "## Data Structures and Algorithms\n",
    "\n",
    "- **Course**: Data Structures and Algorithms\n",
    "- **Description**: Data structures and algorithms with Python\n",
    "- **Blog**: [here](https://fralfaro.github.io/ds_blog/jupyter/2021/12/31/mat281.html)\n",
    "\n",
    "\n",
    "## Data Manipulation\n",
    "\n",
    "- **Course**: Data Manipulation\n",
    "- **Description**: Basic concepts about data manipulation wih Python (Numpy, Panda, Matplotlib)\n",
    "- **Blog**: [here](https://fralfaro.github.io/ds_blog/jupyter/2021/12/31/mat281.html)\n",
    "\n",
    "## Machine Learning\n",
    "\n",
    "- **Course**: Machine Learning \n",
    "- **Description**: Basic concepts about Machine Learning (numpy, pandas, scikit-learn)\n",
    "- **Blog**: [here](https://fralfaro.github.io/ds_blog/jupyter/2021/12/31/mat281.html)\n",
    "\n",
    "## Deep Learning\n",
    "\n",
    "- **Course**: Deep Learning \n",
    "- **Description**: Basic concepts about Deep Learning with Tensorflow and Keras\n",
    "- **Blog**: [here](https://fralfaro.github.io/ds_blog/jupyter/2021/12/31/mat281.html)\n",
    "\n",
    "## Big Data\n",
    "\n",
    "- **Course**: Big Data\n",
    "- **Description**: Basic concepts about Big Data with Pyspark\n",
    "- **Blog**: [here](https://fralfaro.github.io/ds_blog/jupyter/2021/12/31/mat281.html)\n",
    "\n",
    "## Software Design I\n",
    "\n",
    "- **Course**: Software Design I\n",
    "- **Description**: Basic concepts about software design (version control, testing, and automatic build management)\n",
    "- **Blog**: [here](https://fralfaro.github.io/ds_blog/jupyter/2021/12/31/mat281.html)\n",
    "\n",
    "## Software Design II\n",
    "\n",
    "- **Course**: Software Design II\n",
    "- **Description**: Advanced concepts about software design (version control, testing, and automatic build management)\n",
    "- **Blog**: [here](https://fralfaro.github.io/ds_blog/jupyter/2021/12/31/mat281.html)\n"
   ]
  }
 ],
 "metadata": {
  "kernelspec": {
   "display_name": "Python 3 (ipykernel)",
   "language": "python",
   "name": "python3"
  },
  "language_info": {
   "codemirror_mode": {
    "name": "ipython",
    "version": 3
   },
   "file_extension": ".py",
   "mimetype": "text/x-python",
   "name": "python",
   "nbconvert_exporter": "python",
   "pygments_lexer": "ipython3",
   "version": "3.8.10"
  },
  "varInspector": {
   "cols": {
    "lenName": 16,
    "lenType": 16,
    "lenVar": 40
   },
   "kernels_config": {
    "python": {
     "delete_cmd_postfix": "",
     "delete_cmd_prefix": "del ",
     "library": "var_list.py",
     "varRefreshCmd": "print(var_dic_list())"
    },
    "r": {
     "delete_cmd_postfix": ") ",
     "delete_cmd_prefix": "rm(",
     "library": "var_list.r",
     "varRefreshCmd": "cat(var_dic_list()) "
    }
   },
   "types_to_exclude": [
    "module",
    "function",
    "builtin_function_or_method",
    "instance",
    "_Feature"
   ],
   "window_display": false
  }
 },
 "nbformat": 4,
 "nbformat_minor": 4
}
