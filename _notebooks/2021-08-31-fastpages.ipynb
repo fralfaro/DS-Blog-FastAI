{
 "cells": [
  {
   "cell_type": "markdown",
   "id": "da34e662",
   "metadata": {},
   "source": [
    "# Introducing fastpages\n",
    "> An easy to use blogging platform with extra features for <a href=\"https://jupyter.org/\">Jupyter Notebooks</a>.\n",
    "\n",
    "- toc: true \n",
    "- badges: true\n",
    "- comments: true\n",
    "- sticky_rank: 1\n",
    "- author: Jeremy Howard & Hamel Husain\n",
    "- image: images/fastpages.png\n",
    "- categories: [fastpages, jupyter]"
   ]
  },
  {
   "cell_type": "markdown",
   "id": "916cd3db",
   "metadata": {},
   "source": [
    "# Introducción\n",
    "\n",
    "![](https://github.com/fastai/fastpages/raw/master/images/diagram.png \"https://github.com/fastai/fastpages\")\n",
    "\n",
    "\n",
    "[Fastpages](https://github.com/fastai/fastpages) es una plataforma que te permite crear y alojar un blog de forma gratuita, sin anuncios y con muchas funciones útiles, como:\n",
    "\n",
    "* Cree publicaciones que contengan código, salidas de código (que pueden ser interactivas), texto formateado, etc. directamente desde [Jupyter Notebooks](https://jupyter.org/). Las publicaciones en notebooks admiten funciones como:\n",
    "    * Las visualizaciones interactivas realizadas con Altair siguen siendo interactivas.\n",
    "    * Ocultar o mostrar la entrada y salida de la celda.\n",
    "    * Celdas de código contraíbles que están abiertas o cerradas de forma predeterminada.\n",
    "    * Defina el título, el resumen y otros metadatos a través de celdas de rebajas especiales\n",
    "    * Posibilidad de agregar enlaces a Colab y GitHub automáticamente.\n",
    "* Cree publicaciones, incluido el formato y las imágenes, directamente desde documentos de Microsoft Word.\n",
    "* Cree y edite publicaciones de [Markdown](https://guides.github.com/features/mastering-markdown/) completamente en línea usando el editor de Markdown incorporado de GitHub.\n",
    "* Inserta tarjetas de Twitter y videos de YouTube.\n",
    "* Categorización de publicaciones de blog por etiquetas proporcionadas por el usuario para mayor visibilidad.\n",
    "\n",
    "\n",
    "En esta sección se enseñará los pasos básicos para poder crear su propio blog con fastpages."
   ]
  },
  {
   "cell_type": "markdown",
   "id": "e73a4bdf",
   "metadata": {},
   "source": [
    "# Primeros pasos\n",
    "\n",
    "## Configurando Fastpages\n",
    "\n",
    "¡El proceso de configuración de páginas rápidas también está automatizado con [GitHub Actions](https://github.com/features/actions)! Al crear un repositorio a partir de la plantilla de páginas rápidas, se abrirá automáticamente una solicitud de extracción (después de ~ 30 segundos) configurando su blog para que pueda comenzar a funcionar. La solicitud de extracción automatizada lo recibirá con instrucciones como esta:\n",
    "![Imgur](https://i.imgur.com/JhkIip8.png)"
   ]
  },
  {
   "cell_type": "markdown",
   "id": "e22bdb6a",
   "metadata": {},
   "source": [
    "¡Todo lo que tienes que hacer es seguir estas instrucciones (en el PR que recibes) y tu nuevo sitio de blogs estará en funcionamiento!\n",
    "\n",
    "## Jupyter Notebooks y Fastpages\n",
    "En esta parte, se muestran características especiales que fastpages proporciona para los notebooks. También puede escribir las publicaciones de su blog con documentos de Word o makdown.\n",
    "\n",
    "### Opciones a través de FrontMatter¶\n",
    "La primera celda de su Jupyter Notebook o markdown contiene información preliminar. El tema principal son los metadatos que pueden activar/desactivar opciones en su Notebook. Tiene el formato siguiente:\n",
    "\n",
    "```\n",
    "# Title\n",
    "> Awesome summary\n",
    "\n",
    "- toc: true\n",
    "- branch: master\n",
    "- badges: true\n",
    "- comments: true\n",
    "- author: Hamel Husain & Jeremy Howard\n",
    "- categories: [fastpages, jupyter]\n",
    "```"
   ]
  },
  {
   "cell_type": "markdown",
   "id": "18069dc0",
   "metadata": {},
   "source": [
    "**Todas las configuraciones anteriores están habilitadas en esta publicación, ¡para que pueda ver cómo se ven!**\n",
    "\n",
    "- El campo de resumen (precedido por `>`) se mostrará debajo de su título y también lo utilizarán las redes sociales para mostrar la descripción de su página.\n",
    "- `toc`: establecer esto en` true` generará automáticamente una tabla de contenido\n",
    "- `badges`: establecer esto en` true` mostrará los enlaces de Google Colab y GitHub en la publicación de su blog.\n",
    "- `comments`: establecer esto en` true` habilitará los comentarios. Consulte [estas instrucciones](https://github.com/fastai/fastpages#enabling-comments) para obtener más detalles.\n",
    "- `autor` esto mostrará los nombres de los autores.\n",
    "- `categories` permitirá que su publicación sea categorizada en una página de \"Etiquetas\", donde los lectores pueden navegar por su publicación por categorías.\n",
    "\n",
    "\n",
    "_Markdown Front Matters tiene un formato similar al de los notebooks. Las diferencias entre los dos se pueden [ver en las páginas rápidas README](https://github.com/fastai/fastpages#front-matter-related-options) ._"
   ]
  },
  {
   "cell_type": "markdown",
   "id": "ad326a49",
   "metadata": {},
   "source": [
    "### Code Folding\n",
    "\n",
    "coloque una marca `# collapse-hide` en la parte superior de cualquier celda si desea **ocultar** esa celda de forma predeterminada, pero déle al lector la opción de mostrarla:"
   ]
  },
  {
   "cell_type": "code",
   "execution_count": null,
   "id": "9cea4325",
   "metadata": {},
   "outputs": [],
   "source": [
    "#hide\n",
    "!pip install pandas altair"
   ]
  },
  {
   "cell_type": "code",
   "execution_count": null,
   "id": "89c4169f",
   "metadata": {},
   "outputs": [],
   "source": [
    "#collapse-hide\n",
    "import pandas as pd\n",
    "import altair as alt"
   ]
  },
  {
   "cell_type": "markdown",
   "id": "4b89a4c5",
   "metadata": {},
   "source": [
    "coloque una marca `# collapse-show` en la parte superior de cualquier celda si desea **mostrar** esa celda de forma predeterminada, pero déle al lector la opción de ocultarla:"
   ]
  },
  {
   "cell_type": "code",
   "execution_count": null,
   "id": "3a868d96",
   "metadata": {},
   "outputs": [],
   "source": [
    "#collapse-show\n",
    "cars = 'https://vega.github.io/vega-datasets/data/cars.json'\n",
    "movies = 'https://vega.github.io/vega-datasets/data/movies.json'\n",
    "sp500 = 'https://vega.github.io/vega-datasets/data/sp500.csv'\n",
    "stocks = 'https://vega.github.io/vega-datasets/data/stocks.csv'\n",
    "flights = 'https://vega.github.io/vega-datasets/data/flights-5k.json'"
   ]
  },
  {
   "cell_type": "markdown",
   "id": "e12e54b1",
   "metadata": {},
   "source": [
    "Si desea ocultar las celdas por completo (no solo contraerlas), [lea estas instrucciones](https://github.com/fastai/fastpages#hide-inputoutput-cells)."
   ]
  },
  {
   "cell_type": "code",
   "execution_count": null,
   "id": "6001ad80",
   "metadata": {},
   "outputs": [],
   "source": [
    "# hide\n",
    "df = pd.read_json(movies) # load movies data\n",
    "df.columns = [x.replace(' ', '_') for x in df.columns.values]\n",
    "genres = df['Major_Genre'].unique() # get unique field values\n",
    "genres = list(filter(lambda d: d is not None, genres)) # filter out None values\n",
    "genres.sort() # sort alphabetically"
   ]
  },
  {
   "cell_type": "markdown",
   "id": "a89829a6",
   "metadata": {},
   "source": [
    "### Gráficos interactivos con Altair\n",
    "\n",
    "¡Las visualizaciones interactivas realizadas con [Altair](https://altair-viz.github.io/) siguen siendo interactivas!\n",
    "\n",
    "Dejamos esta celda de abajo sin ocultar para que pueda disfrutar de una vista previa del resaltado de sintaxis en páginas rápidas, que utiliza el [tema de Drácula](https://draculatheme.com/)."
   ]
  },
  {
   "cell_type": "code",
   "execution_count": null,
   "id": "fe7c35a6",
   "metadata": {},
   "outputs": [],
   "source": [
    "# select a point for which to provide details-on-demand\n",
    "label = alt.selection_single(\n",
    "    encodings=['x'], # limit selection to x-axis value\n",
    "    on='mouseover',  # select on mouseover events\n",
    "    nearest=True,    # select data point nearest the cursor\n",
    "    empty='none'     # empty selection includes no data points\n",
    ")\n",
    "\n",
    "# define our base line chart of stock prices\n",
    "base = alt.Chart().mark_line().encode(\n",
    "    alt.X('date:T'),\n",
    "    alt.Y('price:Q', scale=alt.Scale(type='log')),\n",
    "    alt.Color('symbol:N')\n",
    ")\n",
    "\n",
    "alt.layer(\n",
    "    base, # base line chart\n",
    "    \n",
    "    # add a rule mark to serve as a guide line\n",
    "    alt.Chart().mark_rule(color='#aaa').encode(\n",
    "        x='date:T'\n",
    "    ).transform_filter(label),\n",
    "    \n",
    "    # add circle marks for selected time points, hide unselected points\n",
    "    base.mark_circle().encode(\n",
    "        opacity=alt.condition(label, alt.value(1), alt.value(0))\n",
    "    ).add_selection(label),\n",
    "\n",
    "    # add white stroked text to provide a legible background for labels\n",
    "    base.mark_text(align='left', dx=5, dy=-5, stroke='white', strokeWidth=2).encode(\n",
    "        text='price:Q'\n",
    "    ).transform_filter(label),\n",
    "\n",
    "    # add text labels for stock prices\n",
    "    base.mark_text(align='left', dx=5, dy=-5).encode(\n",
    "        text='price:Q'\n",
    "    ).transform_filter(label),\n",
    "    \n",
    "    data=stocks\n",
    ").properties(\n",
    "    width=500,\n",
    "    height=400\n",
    ")"
   ]
  }
 ],
 "metadata": {
  "kernelspec": {
   "display_name": "Python 3 (ipykernel)",
   "language": "python",
   "name": "python3"
  },
  "language_info": {
   "codemirror_mode": {
    "name": "ipython",
    "version": 3
   },
   "file_extension": ".py",
   "mimetype": "text/x-python",
   "name": "python",
   "nbconvert_exporter": "python",
   "pygments_lexer": "ipython3",
   "version": "3.8.10"
  }
 },
 "nbformat": 4,
 "nbformat_minor": 5
}
