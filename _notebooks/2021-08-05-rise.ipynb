{
 "cells": [
  {
   "cell_type": "markdown",
   "metadata": {
    "slideshow": {
     "slide_type": "slide"
    }
   },
   "source": [
    "# RISE\n",
    "> Presentaciones interactivas usando jupyter notebook.\n",
    "\n",
    "- toc: true \n",
    "- badges: false\n",
    "- comments: true\n",
    "- categories: [jupyter]\n",
    "- image: images/rise.png"
   ]
  },
  {
   "cell_type": "markdown",
   "metadata": {
    "slideshow": {
     "slide_type": "slide"
    }
   },
   "source": [
    "# Introducción\n",
    "\n",
    "[RISE](https://rise.readthedocs.io/en/stable/) es una extensión a los jupyter notebooks que permite transformar tus notebooks en presentaciones interactivas. \n",
    "\n",
    "Toda las celdas pueden editarse y ejecutarse directamente, **durante** la presentación. Esto es práctico si necesitas corregir un error en una celda de texto. Más importante aún, puedes ejecutar código directamente en el kernel. En una misma diapositiva puedes tener múltiples celdas y elegir cuál ejecutar, o corregir el texto y volver a ejecutar.\n",
    "\n",
    "![](../images/rise/rise.gif)"
   ]
  },
  {
   "cell_type": "markdown",
   "metadata": {
    "slideshow": {
     "slide_type": "slide"
    }
   },
   "source": [
    "Algunas características importantes del uso de RISE:\n",
    "\n",
    "* Simplifica la generación de material.\n",
    "* Se mantiene un archivo y no varios archivos para hablar de lo mismo.\n",
    "* Es fácil de corregir, no se necesita mucho esfuerzo (similar a una PPT)."
   ]
  },
  {
   "cell_type": "markdown",
   "metadata": {},
   "source": [
    "En esta sesión, se muestra un ejemplo de cómo crear una presentación con RISE.\n",
    "\n",
    "> **Nota**: Puede encontrar este ejemplo en el siguiente [repositorio](https://gitlab.com/FAAM/rise_example)."
   ]
  },
  {
   "cell_type": "markdown",
   "metadata": {
    "slideshow": {
     "slide_type": "slide"
    }
   },
   "source": [
    "# Primeros Pasos\n",
    "\n",
    "## Instalación\n",
    "\n",
    "Para instalar **RISE**, necesitará usar la línea de comando. Si ha instalado Anaconda, puede usar:\n",
    "\n",
    "```\n",
    "conda install -c conda-forge rise\n",
    "```"
   ]
  },
  {
   "cell_type": "markdown",
   "metadata": {
    "slideshow": {
     "slide_type": "slide"
    }
   },
   "source": [
    "De lo contrario, puede instalar con pip:\n",
    "\n",
    "\n",
    "```\n",
    "pip install RISE\n",
    "```\n",
    "\n",
    "> **Nota**: No interactuarás directamente con **RISE**. En su lugar, podrá acceder a él a través de Jupyter Notebooks.\n"
   ]
  },
  {
   "cell_type": "markdown",
   "metadata": {
    "slideshow": {
     "slide_type": "slide"
    }
   },
   "source": [
    "## Habilitación del modo de presentación\n",
    "\n",
    "Para crear una presentación, deberá iniciar Jupyter Notebooks y abrir un nuevo notebook (tenga en cuenta que debe hacer esto después de haber instalado **RISE**). Una vez que tenga un Jupyter Notebook nuevo, deberá habilitar la presentación de diapositivas. Puede hacer esto haciendo lo siguiente:"
   ]
  },
  {
   "cell_type": "markdown",
   "metadata": {
    "slideshow": {
     "slide_type": "slide"
    }
   },
   "source": [
    "* Haga clic en \"Ver\" en la barra de herramientas de Jupyter\n",
    "* Coloca el cursor sobre \"Barra de herramientas de celda\" en el menú \"Ver\"\n",
    "* Haga clic en \"Presentación de diapositivas\" en el menú \"Barra de herramientas de celda\""
   ]
  },
  {
   "cell_type": "markdown",
   "metadata": {
    "slideshow": {
     "slide_type": "slide"
    }
   },
   "source": [
    "![](../images/rise/1.png)"
   ]
  },
  {
   "cell_type": "markdown",
   "metadata": {
    "slideshow": {
     "slide_type": "slide"
    }
   },
   "source": [
    "## Creando las diapositivas con celdas\n",
    "\n",
    "En este punto, debería tener una barra de herramientas de celda con un menú desplegable en el lado derecho:\n",
    "![](../images/rise/2.png)"
   ]
  },
  {
   "cell_type": "markdown",
   "metadata": {
    "slideshow": {
     "slide_type": "slide"
    }
   },
   "source": [
    "Debería ver seis opciones aquí. Este menú desplegable y sus opciones determinan cómo encaja cada celda en la presentación. Las opciones y sus descripciones se encuentran a continuación:"
   ]
  },
  {
   "cell_type": "markdown",
   "metadata": {
    "slideshow": {
     "slide_type": "slide"
    }
   },
   "source": [
    "* **slide**: indica que la celda seleccionada debe ser el comienzo de una nueva diapositiva.\n",
    "* **sub-slide -**: indica que la celda seleccionada debe ser el comienzo de una nueva sub-diapositiva, que aparece en un nuevo marco debajo de la diapositiva anterior.\n",
    "* **fragment**: indica que la celda seleccionada debe aparecer como una compilación de la diapositiva anterior.\n",
    "* **skip**: indica que la celda seleccionada debe omitirse y no ser parte de la presentación de diapositivas.\n",
    "* **notes**: indica que la celda seleccionada debe ser solo notas del presentador.\n",
    "* **- -**: indica que la celda seleccionada debe seguir el comportamiento de la celda anterior, lo cual es útil cuando una celda de rebaja y una celda de código deben aparecer simultáneamente."
   ]
  },
  {
   "cell_type": "markdown",
   "metadata": {
    "slideshow": {
     "slide_type": "slide"
    }
   },
   "source": [
    "Cada una de estas opciones puede incluir código Python o código Markdown/HTML/LaTeX como un Jupyter Notebook tradicional."
   ]
  },
  {
   "cell_type": "markdown",
   "metadata": {
    "slideshow": {
     "slide_type": "slide"
    }
   },
   "source": [
    "## Ver la presentación de diapositivas\n",
    "Una vez que se han utilizado las celdas para crear material para la presentación, la presentación se puede ver directamente desde el notebook.\n",
    "\n",
    "Hay dos opciones para ver la presentación de diapositivas:"
   ]
  },
  {
   "cell_type": "markdown",
   "metadata": {
    "slideshow": {
     "slide_type": "slide"
    }
   },
   "source": [
    "* Usar el acceso directo OPTION + R shortcut (ALT + R on Windows) para ingresar y salir del modo de presentación desde dentro de la computadora portátil\n",
    "* Al hacer clic en el botón \"Modo de presentación\" de la computadora portátil, esto solo aparecerá si ha instalado **RISE**."
   ]
  },
  {
   "cell_type": "markdown",
   "metadata": {
    "slideshow": {
     "slide_type": "slide"
    }
   },
   "source": [
    "![](../images/rise/3.png)"
   ]
  },
  {
   "cell_type": "markdown",
   "metadata": {
    "slideshow": {
     "slide_type": "slide"
    }
   },
   "source": [
    "Después de ingresar al modo de presentación, debería ver una pantalla similar a esta:"
   ]
  },
  {
   "cell_type": "markdown",
   "metadata": {
    "slideshow": {
     "slide_type": "slide"
    }
   },
   "source": [
    "![](../images/rise/5.png)"
   ]
  },
  {
   "cell_type": "markdown",
   "metadata": {
    "slideshow": {
     "slide_type": "slide"
    }
   },
   "source": [
    "## Cambio de diapositivas\n",
    "\n",
    "Si bien puede ser tentador usar las teclas **<-** y **->** para cambiar las diapositivas en la presentación, esto no funcionará por completo: omitirá las celdas marcadas como **sub-slides**. En su lugar, se debe usar ESPACIO para mover la presentación de diapositivas hacia adelante y MAYÚS + ESPACIO para mover la presentación de diapositivas hacia atrás."
   ]
  },
  {
   "cell_type": "markdown",
   "metadata": {
    "slideshow": {
     "slide_type": "slide"
    }
   },
   "source": [
    "Hay muchos otros atajos de teclado a los que se puede acceder dentro de la presentación haciendo clic en el signo de interrogación (**?**) en la esquina inferior izquierda."
   ]
  },
  {
   "cell_type": "markdown",
   "metadata": {
    "slideshow": {
     "slide_type": "slide"
    }
   },
   "source": [
    "## Ejecución de código y edición sobre la marcha\n",
    "\n",
    "Una de las mejores cosas de **RISE** es que funciona en una sesión de Python en vivo, lo que significa que puede editar y ejecutar código mientras se ejecuta la presentación."
   ]
  },
  {
   "cell_type": "markdown",
   "metadata": {
    "slideshow": {
     "slide_type": "slide"
    }
   },
   "source": [
    "![](../images/rise/6.gif)"
   ]
  },
  {
   "cell_type": "markdown",
   "metadata": {
    "slideshow": {
     "slide_type": "slide"
    }
   },
   "source": [
    "## Exportar presentación\n",
    "\n",
    "Puedes exportar tu presentación desplegando la opción: `File -> Download as`. \n",
    "\n",
    "> **Nota**: Para poder descargar en formato `.pdf`, necesita tener instalado `pandoc`."
   ]
  },
  {
   "cell_type": "markdown",
   "metadata": {
    "slideshow": {
     "slide_type": "slide"
    }
   },
   "source": [
    "![](../images/rise/descarga.png)"
   ]
  },
  {
   "cell_type": "markdown",
   "metadata": {
    "slideshow": {
     "slide_type": "slide"
    }
   },
   "source": [
    "# Referencias\n",
    "\n",
    "\n",
    "* [RISE - Documentation](https://rise.readthedocs.io/en/stable/)\n",
    "* [Creating Interactive Slideshows in Jupyter Notebooks](https://www.markroepke.me/posts/2019/05/23/creating-interactive-slideshows-in-jupyter.html)\n"
   ]
  }
 ],
 "metadata": {
  "kernelspec": {
   "display_name": "Python 3 (ipykernel)",
   "language": "python",
   "name": "python3"
  },
  "language_info": {
   "codemirror_mode": {
    "name": "ipython",
    "version": 3
   },
   "file_extension": ".py",
   "mimetype": "text/x-python",
   "name": "python",
   "nbconvert_exporter": "python",
   "pygments_lexer": "ipython3",
   "version": "3.8.10"
  },
  "nbTranslate": {
   "displayLangs": [
    "*"
   ],
   "hotkey": "alt-t",
   "langInMainMenu": true,
   "sourceLang": "en",
   "targetLang": "fr",
   "useGoogleTranslate": true
  },
  "rise": {
   "_backimage": "path/to/mybackimage.png",
   "_footer": "<h3>NAME, DATE</h3>",
   "_header": "<h1>PRESENTATION NAME // EVENTs</h1>",
   "_theme_options": [
    "black",
    "white",
    "league",
    "beige",
    "sky",
    "night",
    "serif"
   ],
   "_transition_options": [
    "none",
    "fade",
    "slide",
    "convex",
    "concave",
    "zoom"
   ],
   "autolauch": false,
   "enable_chalkboard": true,
   "theme": "serif",
   "transition": "slide"
  },
  "varInspector": {
   "cols": {
    "lenName": 16,
    "lenType": 16,
    "lenVar": 40
   },
   "kernels_config": {
    "python": {
     "delete_cmd_postfix": "",
     "delete_cmd_prefix": "del ",
     "library": "var_list.py",
     "varRefreshCmd": "print(var_dic_list())"
    },
    "r": {
     "delete_cmd_postfix": ") ",
     "delete_cmd_prefix": "rm(",
     "library": "var_list.r",
     "varRefreshCmd": "cat(var_dic_list()) "
    }
   },
   "types_to_exclude": [
    "module",
    "function",
    "builtin_function_or_method",
    "instance",
    "_Feature"
   ],
   "window_display": false
  }
 },
 "nbformat": 4,
 "nbformat_minor": 4
}
