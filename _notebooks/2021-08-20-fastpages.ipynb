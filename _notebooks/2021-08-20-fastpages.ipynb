{
 "cells": [
  {
   "cell_type": "markdown",
   "id": "b1db8bb2",
   "metadata": {},
   "source": [
    "# Fastpages\n",
    "> Una plataforma de blogs para Jupyter Notebooks.\n",
    "\n",
    "- toc: true \n",
    "- badges: true\n",
    "- comments: true\n",
    "- sticky_rank: 1\n",
    "- author: Jeremy Howard & Hamel Husain\n",
    "- image: images/fastpages.png\n",
    "- categories: [jupyter]"
   ]
  },
  {
   "cell_type": "markdown",
   "id": "3363ec63",
   "metadata": {},
   "source": [
    "# Introducción\n",
    "\n",
    "![](https://github.com/fastai/fastpages/raw/master/images/diagram.png \"https://github.com/fastai/fastpages\")\n",
    "\n",
    "\n",
    "[Fastpages](https://github.com/fastai/fastpages) es una plataforma que te permite crear y alojar un blog de forma gratuita, sin anuncios y con muchas funciones útiles, como:\n",
    "\n",
    "* Cree publicaciones que contengan código, salidas de código (que pueden ser interactivas), texto formateado, etc. directamente desde [Jupyter Notebooks](https://jupyter.org/). Las publicaciones en notebooks admiten funciones como:\n",
    "    * Las visualizaciones interactivas realizadas con Altair siguen siendo interactivas.\n",
    "    * Ocultar o mostrar la entrada y salida de la celda.\n",
    "    * Celdas de código contraíbles que están abiertas o cerradas de forma predeterminada.\n",
    "    * Defina el título, el resumen y otros metadatos a través de celdas de rebajas especiales\n",
    "    * Posibilidad de agregar enlaces a Colab y GitHub automáticamente.\n",
    "* Cree publicaciones, incluido el formato y las imágenes, directamente desde documentos de Microsoft Word.\n",
    "* Cree y edite publicaciones de [Markdown](https://guides.github.com/features/mastering-markdown/) completamente en línea usando el editor de Markdown incorporado de GitHub.\n",
    "* Inserta tarjetas de Twitter y videos de YouTube.\n",
    "* Categorización de publicaciones de blog por etiquetas proporcionadas por el usuario para mayor visibilidad.\n",
    "\n",
    "\n",
    "En esta sección se enseñará los pasos básicos para poder crear su propio blog con fastpages."
   ]
  },
  {
   "cell_type": "markdown",
   "id": "ad7c9247",
   "metadata": {},
   "source": [
    "# Primeros pasos\n",
    "\n",
    "## Configurando Fastpages\n",
    "\n",
    "¡El proceso de configuración de páginas rápidas también está automatizado con [GitHub Actions](https://github.com/features/actions)! Al crear un repositorio a partir de la plantilla de páginas rápidas, se abrirá automáticamente una solicitud de extracción (después de ~ 30 segundos) configurando su blog para que pueda comenzar a funcionar. La solicitud de extracción automatizada lo recibirá con instrucciones como esta:\n",
    "![Imgur](https://i.imgur.com/JhkIip8.png)"
   ]
  },
  {
   "cell_type": "markdown",
   "id": "7b729d5f",
   "metadata": {},
   "source": [
    "¡Todo lo que tienes que hacer es seguir estas instrucciones (en el PR que recibes) y tu nuevo sitio de blogs estará en funcionamiento!\n",
    "\n",
    "> Note: Si tienes dudas con la instalación, te recomiendo ver el siguiente [video](https://youtu.be/sepml4GLLSM?t=402). "
   ]
  },
  {
   "cell_type": "markdown",
   "id": "23b1300f",
   "metadata": {},
   "source": [
    "## Estructura de Fastpages\n",
    "\n",
    "El repositorio de fastpages esta compuesto de la siguiente forma:\n",
    "\n",
    "```\n",
    "├── .github\n",
    "├── _action_files\n",
    "├── _fastpages_docs\n",
    "├── images\n",
    "├── _includes\n",
    "├── _layouts\n",
    "├── _notebooks\n",
    "├── _pages\n",
    "├── _plugins\n",
    "├── _posts\n",
    "├── _sass\n",
    "└── _word\n",
    "└── .devcontainer.json\n",
    "└── Makefile\n",
    "└── index.html\n",
    "└── Gemfile\n",
    "└── _config.yml\n",
    "└── LICENSE\n",
    "└── docker-compose.yml\n",
    "└── Gemfile.lock\n",
    "└── README.md\n",
    "└── .gitattributes\n",
    "└── .gitignore\n",
    "```\n",
    "\n",
    "De momento nos vamos a centrar en algunos de estos archivos:\n",
    "\n",
    "* `_config.yml`: es el archivo que funciona como el motor del proyecto. En ente archivo, podemos poner el nombre a nuestro blog, el logo, información personal (github, linkedin, etc), entre otras cosas.\n",
    "\n",
    "* `index.html`: Corresponde a la primera página cuando se despliega nuestro blog. por lo que es importante escribir algún mensaje para especificar la motivación de hacer un blog.\n",
    "\n",
    "* `/_notebooks`: Lugar donde se deben guardar los notebooks (`.ipynb`) con la convención de nomenclatura **YYYY-MM-DD-*.ipynb**.\n",
    "\n",
    "* `/_posts`: Lugar donde se deben guardar los archivos markdown (`.md`) con la convención de nomenclatura **YYYY-MM-DD-*.md**.\n",
    "\n",
    "* `/_word`: Lugar donde se deben guardar los archivos word (`.docx`) con la convención de nomenclatura **YYYY-MM-DD-*.docx**.\n"
   ]
  },
  {
   "cell_type": "markdown",
   "id": "a6ca039f",
   "metadata": {},
   "source": [
    "> Note: fastpages usa [nbdev](https://nbdev.fast.ai/index.html) para impulsar el proceso de conversión de Jupyter Notebooks en publicaciones de blog. Cuando guardas un notebook en la carpeta `/_notebooks` de tu repositorio, GitHub Actions aplica `nbdev` a esos notebooks automáticamente. El mismo proceso ocurre cuando guarda documentos de Word o markdown en el directorio `_word` o` _posts`, respectivamente."
   ]
  },
  {
   "cell_type": "markdown",
   "id": "f7633690",
   "metadata": {},
   "source": [
    "## Jupyter Notebooks y Fastpages\n",
    "En esta parte, se muestran características especiales que fastpages proporciona para los notebooks. También puede escribir las publicaciones de su blog con documentos de Word o makdown.\n",
    "\n",
    "### Opciones a través de FrontMatter\n",
    "La primera celda de su Jupyter Notebook o markdown contiene información preliminar. El tema principal son los metadatos que pueden activar/desactivar opciones en su Notebook. Tiene el formato siguiente:\n",
    "\n",
    "```\n",
    "# Title\n",
    "> Awesome summary\n",
    "\n",
    "- toc: true\n",
    "- branch: master\n",
    "- badges: true\n",
    "- comments: true\n",
    "- author: Hamel Husain & Jeremy Howard\n",
    "- categories: [fastpages, jupyter]\n",
    "```"
   ]
  },
  {
   "cell_type": "markdown",
   "id": "eba3b8d1",
   "metadata": {},
   "source": [
    "**Todas las configuraciones anteriores están habilitadas en esta publicación, ¡para que pueda ver cómo se ven!**\n",
    "\n",
    "- El campo de resumen (precedido por `>`) se mostrará debajo de su título y también lo utilizarán las redes sociales para mostrar la descripción de su página.\n",
    "- `toc`: establecer esto en `true` generará automáticamente una tabla de contenido\n",
    "- `badges`: establecer esto en `true` mostrará los enlaces de Google Colab y GitHub en la publicación de su blog.\n",
    "- `comments`: establecer esto en `true` habilitará los comentarios. Consulte [estas instrucciones](https://github.com/fastai/fastpages#enabling-comments) para obtener más detalles.\n",
    "- `autor`: esto mostrará los nombres de los autores.\n",
    "- `categories`: permitirá que su publicación sea categorizada en una página de \"Etiquetas\", donde los lectores pueden navegar por su publicación por categorías.\n",
    "\n",
    "\n",
    "_Markdown Front Matters tiene un formato similar al de los notebooks. Las diferencias entre los dos se puede ver en el siguiente [link](https://github.com/fastai/fastpages#front-matter-related-options)._"
   ]
  },
  {
   "cell_type": "markdown",
   "id": "e4851da7",
   "metadata": {},
   "source": [
    "### Code Folding\n",
    "\n",
    "coloque una marca `# collapse-hide` en la parte superior de cualquier celda si desea **ocultar** esa celda de forma predeterminada, pero déle al lector la opción de mostrarla:"
   ]
  },
  {
   "cell_type": "code",
   "execution_count": 1,
   "id": "681e4293",
   "metadata": {},
   "outputs": [
    {
     "name": "stdout",
     "output_type": "stream",
     "text": [
      "Requirement already satisfied: pandas in /home/fralfaro/.cache/pypoetry/virtualenvs/rise-example-Z8sxMVFk-py3.8/lib/python3.8/site-packages (1.3.1)\n",
      "Requirement already satisfied: altair in /home/fralfaro/.cache/pypoetry/virtualenvs/rise-example-Z8sxMVFk-py3.8/lib/python3.8/site-packages (4.1.0)\n",
      "Requirement already satisfied: pytz>=2017.3 in /home/fralfaro/.cache/pypoetry/virtualenvs/rise-example-Z8sxMVFk-py3.8/lib/python3.8/site-packages (from pandas) (2021.1)\n",
      "Requirement already satisfied: numpy>=1.17.3 in /home/fralfaro/.cache/pypoetry/virtualenvs/rise-example-Z8sxMVFk-py3.8/lib/python3.8/site-packages (from pandas) (1.21.1)\n",
      "Requirement already satisfied: python-dateutil>=2.7.3 in /home/fralfaro/.cache/pypoetry/virtualenvs/rise-example-Z8sxMVFk-py3.8/lib/python3.8/site-packages (from pandas) (2.8.2)\n",
      "Requirement already satisfied: six>=1.5 in /home/fralfaro/.cache/pypoetry/virtualenvs/rise-example-Z8sxMVFk-py3.8/lib/python3.8/site-packages (from python-dateutil>=2.7.3->pandas) (1.16.0)\n",
      "Requirement already satisfied: jinja2 in /home/fralfaro/.cache/pypoetry/virtualenvs/rise-example-Z8sxMVFk-py3.8/lib/python3.8/site-packages (from altair) (3.0.1)\n",
      "Requirement already satisfied: toolz in /home/fralfaro/.cache/pypoetry/virtualenvs/rise-example-Z8sxMVFk-py3.8/lib/python3.8/site-packages (from altair) (0.11.1)\n",
      "Requirement already satisfied: entrypoints in /home/fralfaro/.cache/pypoetry/virtualenvs/rise-example-Z8sxMVFk-py3.8/lib/python3.8/site-packages (from altair) (0.3)\n",
      "Requirement already satisfied: jsonschema in /home/fralfaro/.cache/pypoetry/virtualenvs/rise-example-Z8sxMVFk-py3.8/lib/python3.8/site-packages (from altair) (3.2.0)\n",
      "Requirement already satisfied: MarkupSafe>=2.0 in /home/fralfaro/.cache/pypoetry/virtualenvs/rise-example-Z8sxMVFk-py3.8/lib/python3.8/site-packages (from jinja2->altair) (2.0.1)\n",
      "Requirement already satisfied: attrs>=17.4.0 in /home/fralfaro/.cache/pypoetry/virtualenvs/rise-example-Z8sxMVFk-py3.8/lib/python3.8/site-packages (from jsonschema->altair) (21.2.0)\n",
      "Requirement already satisfied: setuptools in /home/fralfaro/.cache/pypoetry/virtualenvs/rise-example-Z8sxMVFk-py3.8/lib/python3.8/site-packages (from jsonschema->altair) (57.1.0)\n",
      "Requirement already satisfied: pyrsistent>=0.14.0 in /home/fralfaro/.cache/pypoetry/virtualenvs/rise-example-Z8sxMVFk-py3.8/lib/python3.8/site-packages (from jsonschema->altair) (0.18.0)\n",
      "\u001b[33mWARNING: You are using pip version 21.1.3; however, version 21.2.2 is available.\n",
      "You should consider upgrading via the '/home/fralfaro/.cache/pypoetry/virtualenvs/rise-example-Z8sxMVFk-py3.8/bin/python -m pip install --upgrade pip' command.\u001b[0m\n"
     ]
    }
   ],
   "source": [
    "#hide\n",
    "!pip install pandas altair"
   ]
  },
  {
   "cell_type": "code",
   "execution_count": 2,
   "id": "5c77c9e6",
   "metadata": {},
   "outputs": [],
   "source": [
    "#collapse-hide\n",
    "import pandas as pd\n",
    "import altair as alt"
   ]
  },
  {
   "cell_type": "markdown",
   "id": "26b5f4cb",
   "metadata": {},
   "source": [
    "coloque una marca `# collapse-show` en la parte superior de cualquier celda si desea **mostrar** esa celda de forma predeterminada, pero déle al lector la opción de ocultarla:"
   ]
  },
  {
   "cell_type": "code",
   "execution_count": 3,
   "id": "f8c5f9e9",
   "metadata": {},
   "outputs": [],
   "source": [
    "#collapse-show\n",
    "cars = 'https://vega.github.io/vega-datasets/data/cars.json'\n",
    "movies = 'https://vega.github.io/vega-datasets/data/movies.json'\n",
    "sp500 = 'https://vega.github.io/vega-datasets/data/sp500.csv'\n",
    "stocks = 'https://vega.github.io/vega-datasets/data/stocks.csv'\n",
    "flights = 'https://vega.github.io/vega-datasets/data/flights-5k.json'"
   ]
  },
  {
   "cell_type": "markdown",
   "id": "4356d881",
   "metadata": {},
   "source": [
    "Si desea ocultar las celdas por completo (no solo contraerlas), [lea estas instrucciones](https://github.com/fastai/fastpages#hide-inputoutput-cells)."
   ]
  },
  {
   "cell_type": "code",
   "execution_count": 4,
   "id": "22c48ffa",
   "metadata": {},
   "outputs": [],
   "source": [
    "# hide\n",
    "df = pd.read_json(movies) # load movies data\n",
    "df.columns = [x.replace(' ', '_') for x in df.columns.values]\n",
    "genres = df['Major_Genre'].unique() # get unique field values\n",
    "genres = list(filter(lambda d: d is not None, genres)) # filter out None values\n",
    "genres.sort() # sort alphabetically"
   ]
  },
  {
   "cell_type": "markdown",
   "id": "47fc9c84",
   "metadata": {},
   "source": [
    "### Tablas de datos\n",
    "\n",
    "Puede mostrar tablas de la forma habitual en su blog:"
   ]
  },
  {
   "cell_type": "code",
   "execution_count": 5,
   "id": "88109383",
   "metadata": {},
   "outputs": [
    {
     "data": {
      "text/html": [
       "<div>\n",
       "<style scoped>\n",
       "    .dataframe tbody tr th:only-of-type {\n",
       "        vertical-align: middle;\n",
       "    }\n",
       "\n",
       "    .dataframe tbody tr th {\n",
       "        vertical-align: top;\n",
       "    }\n",
       "\n",
       "    .dataframe thead th {\n",
       "        text-align: right;\n",
       "    }\n",
       "</style>\n",
       "<table border=\"1\" class=\"dataframe\">\n",
       "  <thead>\n",
       "    <tr style=\"text-align: right;\">\n",
       "      <th></th>\n",
       "      <th>Title</th>\n",
       "      <th>Worldwide_Gross</th>\n",
       "      <th>Production_Budget</th>\n",
       "      <th>IMDB_Rating</th>\n",
       "    </tr>\n",
       "  </thead>\n",
       "  <tbody>\n",
       "    <tr>\n",
       "      <th>0</th>\n",
       "      <td>The Land Girls</td>\n",
       "      <td>146083.0</td>\n",
       "      <td>8000000.0</td>\n",
       "      <td>6.1</td>\n",
       "    </tr>\n",
       "    <tr>\n",
       "      <th>1</th>\n",
       "      <td>First Love, Last Rites</td>\n",
       "      <td>10876.0</td>\n",
       "      <td>300000.0</td>\n",
       "      <td>6.9</td>\n",
       "    </tr>\n",
       "    <tr>\n",
       "      <th>2</th>\n",
       "      <td>I Married a Strange Person</td>\n",
       "      <td>203134.0</td>\n",
       "      <td>250000.0</td>\n",
       "      <td>6.8</td>\n",
       "    </tr>\n",
       "    <tr>\n",
       "      <th>3</th>\n",
       "      <td>Let's Talk About Sex</td>\n",
       "      <td>373615.0</td>\n",
       "      <td>300000.0</td>\n",
       "      <td>NaN</td>\n",
       "    </tr>\n",
       "    <tr>\n",
       "      <th>4</th>\n",
       "      <td>Slam</td>\n",
       "      <td>1087521.0</td>\n",
       "      <td>1000000.0</td>\n",
       "      <td>3.4</td>\n",
       "    </tr>\n",
       "  </tbody>\n",
       "</table>\n",
       "</div>"
      ],
      "text/plain": [
       "                        Title  Worldwide_Gross  Production_Budget  IMDB_Rating\n",
       "0              The Land Girls         146083.0          8000000.0          6.1\n",
       "1      First Love, Last Rites          10876.0           300000.0          6.9\n",
       "2  I Married a Strange Person         203134.0           250000.0          6.8\n",
       "3        Let's Talk About Sex         373615.0           300000.0          NaN\n",
       "4                        Slam        1087521.0          1000000.0          3.4"
      ]
     },
     "execution_count": 5,
     "metadata": {},
     "output_type": "execute_result"
    }
   ],
   "source": [
    "# display table with pandas\n",
    "df[['Title', 'Worldwide_Gross', \n",
    "    'Production_Budget', 'IMDB_Rating']].head()"
   ]
  },
  {
   "cell_type": "markdown",
   "id": "3c1e286b",
   "metadata": {},
   "source": [
    "### Gráficos interactivos con Altair\n",
    "\n",
    "¡Las visualizaciones interactivas realizadas con [Altair](https://altair-viz.github.io/) siguen siendo interactivas!\n",
    "\n",
    "Dejamos esta celda de abajo sin ocultar para que pueda disfrutar de una vista previa del resaltado de sintaxis en páginas rápidas, que utiliza el [tema de drácula](https://draculatheme.com/)."
   ]
  },
  {
   "cell_type": "code",
   "execution_count": 6,
   "id": "10a2bf8d",
   "metadata": {},
   "outputs": [
    {
     "data": {
      "text/html": [
       "\n",
       "<div id=\"altair-viz-1593074be1ea49828044818ee55ec6a8\"></div>\n",
       "<script type=\"text/javascript\">\n",
       "  (function(spec, embedOpt){\n",
       "    let outputDiv = document.currentScript.previousElementSibling;\n",
       "    if (outputDiv.id !== \"altair-viz-1593074be1ea49828044818ee55ec6a8\") {\n",
       "      outputDiv = document.getElementById(\"altair-viz-1593074be1ea49828044818ee55ec6a8\");\n",
       "    }\n",
       "    const paths = {\n",
       "      \"vega\": \"https://cdn.jsdelivr.net/npm//vega@5?noext\",\n",
       "      \"vega-lib\": \"https://cdn.jsdelivr.net/npm//vega-lib?noext\",\n",
       "      \"vega-lite\": \"https://cdn.jsdelivr.net/npm//vega-lite@4.8.1?noext\",\n",
       "      \"vega-embed\": \"https://cdn.jsdelivr.net/npm//vega-embed@6?noext\",\n",
       "    };\n",
       "\n",
       "    function loadScript(lib) {\n",
       "      return new Promise(function(resolve, reject) {\n",
       "        var s = document.createElement('script');\n",
       "        s.src = paths[lib];\n",
       "        s.async = true;\n",
       "        s.onload = () => resolve(paths[lib]);\n",
       "        s.onerror = () => reject(`Error loading script: ${paths[lib]}`);\n",
       "        document.getElementsByTagName(\"head\")[0].appendChild(s);\n",
       "      });\n",
       "    }\n",
       "\n",
       "    function showError(err) {\n",
       "      outputDiv.innerHTML = `<div class=\"error\" style=\"color:red;\">${err}</div>`;\n",
       "      throw err;\n",
       "    }\n",
       "\n",
       "    function displayChart(vegaEmbed) {\n",
       "      vegaEmbed(outputDiv, spec, embedOpt)\n",
       "        .catch(err => showError(`Javascript Error: ${err.message}<br>This usually means there's a typo in your chart specification. See the javascript console for the full traceback.`));\n",
       "    }\n",
       "\n",
       "    if(typeof define === \"function\" && define.amd) {\n",
       "      requirejs.config({paths});\n",
       "      require([\"vega-embed\"], displayChart, err => showError(`Error loading script: ${err.message}`));\n",
       "    } else if (typeof vegaEmbed === \"function\") {\n",
       "      displayChart(vegaEmbed);\n",
       "    } else {\n",
       "      loadScript(\"vega\")\n",
       "        .then(() => loadScript(\"vega-lite\"))\n",
       "        .then(() => loadScript(\"vega-embed\"))\n",
       "        .catch(showError)\n",
       "        .then(() => displayChart(vegaEmbed));\n",
       "    }\n",
       "  })({\"config\": {\"view\": {\"continuousWidth\": 400, \"continuousHeight\": 300}}, \"layer\": [{\"mark\": \"line\", \"encoding\": {\"color\": {\"type\": \"nominal\", \"field\": \"symbol\"}, \"x\": {\"type\": \"temporal\", \"field\": \"date\"}, \"y\": {\"type\": \"quantitative\", \"field\": \"price\", \"scale\": {\"type\": \"log\"}}}}, {\"mark\": {\"type\": \"rule\", \"color\": \"#aaa\"}, \"encoding\": {\"x\": {\"type\": \"temporal\", \"field\": \"date\"}}, \"transform\": [{\"filter\": {\"selection\": \"selector001\"}}]}, {\"mark\": \"circle\", \"encoding\": {\"color\": {\"type\": \"nominal\", \"field\": \"symbol\"}, \"opacity\": {\"condition\": {\"value\": 1, \"selection\": \"selector001\"}, \"value\": 0}, \"x\": {\"type\": \"temporal\", \"field\": \"date\"}, \"y\": {\"type\": \"quantitative\", \"field\": \"price\", \"scale\": {\"type\": \"log\"}}}, \"selection\": {\"selector001\": {\"type\": \"single\", \"encodings\": [\"x\"], \"on\": \"mouseover\", \"nearest\": true, \"empty\": \"none\"}}}, {\"mark\": {\"type\": \"text\", \"align\": \"left\", \"dx\": 5, \"dy\": -5, \"stroke\": \"white\", \"strokeWidth\": 2}, \"encoding\": {\"color\": {\"type\": \"nominal\", \"field\": \"symbol\"}, \"text\": {\"type\": \"quantitative\", \"field\": \"price\"}, \"x\": {\"type\": \"temporal\", \"field\": \"date\"}, \"y\": {\"type\": \"quantitative\", \"field\": \"price\", \"scale\": {\"type\": \"log\"}}}, \"transform\": [{\"filter\": {\"selection\": \"selector001\"}}]}, {\"mark\": {\"type\": \"text\", \"align\": \"left\", \"dx\": 5, \"dy\": -5}, \"encoding\": {\"color\": {\"type\": \"nominal\", \"field\": \"symbol\"}, \"text\": {\"type\": \"quantitative\", \"field\": \"price\"}, \"x\": {\"type\": \"temporal\", \"field\": \"date\"}, \"y\": {\"type\": \"quantitative\", \"field\": \"price\", \"scale\": {\"type\": \"log\"}}}, \"transform\": [{\"filter\": {\"selection\": \"selector001\"}}]}], \"data\": {\"url\": \"https://vega.github.io/vega-datasets/data/stocks.csv\"}, \"height\": 400, \"width\": 500, \"$schema\": \"https://vega.github.io/schema/vega-lite/v4.8.1.json\"}, {\"mode\": \"vega-lite\"});\n",
       "</script>"
      ],
      "text/plain": [
       "alt.LayerChart(...)"
      ]
     },
     "execution_count": 6,
     "metadata": {},
     "output_type": "execute_result"
    }
   ],
   "source": [
    "#collapse-hide\n",
    "# select a point for which to provide details-on-demand\n",
    "label = alt.selection_single(\n",
    "    encodings=['x'], # limit selection to x-axis value\n",
    "    on='mouseover',  # select on mouseover events\n",
    "    nearest=True,    # select data point nearest the cursor\n",
    "    empty='none'     # empty selection includes no data points\n",
    ")\n",
    "\n",
    "# define our base line chart of stock prices\n",
    "base = alt.Chart().mark_line().encode(\n",
    "    alt.X('date:T'),\n",
    "    alt.Y('price:Q', scale=alt.Scale(type='log')),\n",
    "    alt.Color('symbol:N')\n",
    ")\n",
    "\n",
    "alt.layer(\n",
    "    base, # base line chart\n",
    "    \n",
    "    # add a rule mark to serve as a guide line\n",
    "    alt.Chart().mark_rule(color='#aaa').encode(\n",
    "        x='date:T'\n",
    "    ).transform_filter(label),\n",
    "    \n",
    "    # add circle marks for selected time points, hide unselected points\n",
    "    base.mark_circle().encode(\n",
    "        opacity=alt.condition(label, alt.value(1), alt.value(0))\n",
    "    ).add_selection(label),\n",
    "\n",
    "    # add white stroked text to provide a legible background for labels\n",
    "    base.mark_text(align='left', dx=5, dy=-5, stroke='white', strokeWidth=2).encode(\n",
    "        text='price:Q'\n",
    "    ).transform_filter(label),\n",
    "\n",
    "    # add text labels for stock prices\n",
    "    base.mark_text(align='left', dx=5, dy=-5).encode(\n",
    "        text='price:Q'\n",
    "    ).transform_filter(label),\n",
    "    \n",
    "    data=stocks\n",
    ").properties(\n",
    "    width=500,\n",
    "    height=400\n",
    ")"
   ]
  },
  {
   "cell_type": "markdown",
   "id": "53f987b9",
   "metadata": {},
   "source": [
    "## Otras características\n",
    "\n",
    "Al escribir `Le doy a esta publicación dos :+1:!` Se mostrará esto:\n",
    "\n",
    "Le doy a esta publicación dos :+1:!"
   ]
  },
  {
   "cell_type": "markdown",
   "id": "19967b67",
   "metadata": {},
   "source": [
    "### Imágenes con  leyenda\n",
    "Puede incluir imágenes de rebajas con leyenda (`caption`) como este:\n",
    "\n",
    "\n",
    "```\n",
    "![](https://www.fast.ai/images/fastai_paper/show_batch.png \"Credit: https://www.fast.ai/2020/02/13/fastai-A-Layered-API-for-Deep-Learning/\")\n",
    "```\n",
    "\n",
    "\n",
    "![](https://www.fast.ai/images/fastai_paper/show_batch.png \"Credit: https://www.fast.ai/2020/02/13/fastai-A-Layered-API-for-Deep-Learning/\")\n",
    "\n",
    "Por supuesto, la leyenda es opcional."
   ]
  },
  {
   "cell_type": "markdown",
   "id": "ca82aace",
   "metadata": {},
   "source": [
    "### Tweetcards\n",
    "\n",
    "Si escribe `> twitter: https://twitter.com/jakevdp/status/1204765621767901185?s=20` mostrará esto:\n",
    "\n",
    "\n",
    "> twitter: https://twitter.com/jakevdp/status/1204765621767901185?s=20"
   ]
  },
  {
   "cell_type": "markdown",
   "id": "49c4f37f",
   "metadata": {},
   "source": [
    "### Youtube Videos\n",
    "\n",
    "\n",
    "Si escribe `> youtube: https://youtu.be/XfoYk_Z5AkI` mostrará esto:\n",
    "\n",
    "\n",
    "> youtube: https://youtu.be/XfoYk_Z5AkI"
   ]
  },
  {
   "cell_type": "markdown",
   "id": "a71ac4b7",
   "metadata": {},
   "source": [
    "### Boxes/Callouts \n",
    "\n",
    "Puedes ejecutar algunas cajas con mensajes de nota, información o warning!. A continuación se muestran algunos ejemplos:"
   ]
  },
  {
   "cell_type": "markdown",
   "id": "6ddca56a",
   "metadata": {},
   "source": [
    "`> Warning: There will be no second warning!`\n",
    "> Warning: There will be no second warning!"
   ]
  },
  {
   "cell_type": "markdown",
   "id": "a35bed08",
   "metadata": {},
   "source": [
    "`> Important: Pay attention! It's important.`\n",
    "\n",
    "> Important: Pay attention! It's important."
   ]
  },
  {
   "cell_type": "markdown",
   "id": "ef77772e",
   "metadata": {},
   "source": [
    "`> Tip: This is my tip.` \n",
    "\n",
    "> Tip: This is my tip."
   ]
  },
  {
   "cell_type": "markdown",
   "id": "078b63bf",
   "metadata": {},
   "source": [
    "`> Note: Take note of this.` \n",
    "\n",
    "> Note: Take note of this."
   ]
  },
  {
   "cell_type": "markdown",
   "id": "8a7b6733",
   "metadata": {},
   "source": [
    "## Referencias\n",
    "\n",
    "* [Repositorio: fastpages](https://github.com/fastai/fastpages)\n",
    "* [nbdev: notebooks a posts](https://github.com/fastai/nbdev)\n",
    "* [Fastai: foro](https://forums.fast.ai/c/fastai-users/nbdev/)\n",
    "\n"
   ]
  }
 ],
 "metadata": {
  "kernelspec": {
   "display_name": "Python 3 (ipykernel)",
   "language": "python",
   "name": "python3"
  },
  "language_info": {
   "codemirror_mode": {
    "name": "ipython",
    "version": 3
   },
   "file_extension": ".py",
   "mimetype": "text/x-python",
   "name": "python",
   "nbconvert_exporter": "python",
   "pygments_lexer": "ipython3",
   "version": "3.8.10"
  }
 },
 "nbformat": 4,
 "nbformat_minor": 5
}
