{
 "cells": [
  {
   "cell_type": "markdown",
   "id": "6fcb61d6",
   "metadata": {},
   "source": [
    "# Buenas Prácticas\n",
    "> Buenas prácticas de codificación en Python.\n",
    "\n",
    "- toc: true \n",
    "- badges: false\n",
    "- comments: true\n",
    "- categories: [jupyter]\n",
    "- image: images/python.png"
   ]
  },
  {
   "cell_type": "markdown",
   "id": "df94aa88",
   "metadata": {},
   "source": [
    "# Introducción\n",
    "\n",
    "Una pregunta que surgue a menudo, cuando uno se encuentra programando es saber cuál es la forma correcta de programar. La respuesta es que **no existe** la forma correcta de programar (ya sea en Python o cualquier otro lenguaje), sin embargo, existen estandares dentro del mundo de la programación, con el fin de hacer el código más legible, sencillo de entender y ayudar a encontrar posibles errores.\n",
    "\n",
    "En esta sección se mostrará algunos conceptos sencillos que te ayudarán a mejorar tus skills en el desarrollo de software (con Python).\n",
    "\n"
   ]
  }
 ],
 "metadata": {
  "kernelspec": {
   "display_name": "Python 3 (ipykernel)",
   "language": "python",
   "name": "python3"
  },
  "language_info": {
   "codemirror_mode": {
    "name": "ipython",
    "version": 3
   },
   "file_extension": ".py",
   "mimetype": "text/x-python",
   "name": "python",
   "nbconvert_exporter": "python",
   "pygments_lexer": "ipython3",
   "version": "3.8.10"
  }
 },
 "nbformat": 4,
 "nbformat_minor": 5
}
