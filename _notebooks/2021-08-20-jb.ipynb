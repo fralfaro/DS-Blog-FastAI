{
 "cells": [
  {
   "cell_type": "markdown",
   "id": "1aff1236",
   "metadata": {},
   "source": [
    "# Jupyter Book\n",
    "> Documentación usando jupyter notebook.\n",
    "\n",
    "- toc: true \n",
    "- badges: false\n",
    "- comments: true\n",
    "- categories: [jupyter]\n",
    "- image: images/jb.png"
   ]
  },
  {
   "cell_type": "markdown",
   "id": "78a9e2f3",
   "metadata": {},
   "source": [
    "# Introducción\n",
    "\n",
    "[Jupyter Book](https://jupyterbook.org/intro.html) es un proyecto de código abierto para crear libros y documentos mediante Jupyter Notebooks y/o Markdown.\n",
    "\n",
    "Algunas características improtante del uso de Jupyter Book:\n",
    "\n",
    "* contenido con calidad de publicación que incluya figuras, símbolos matemáticos, citas y referencias cruzadas!\n",
    "* escribir contenido como Jupyter Notebooks, markdown o reStructuredText\n",
    "* Agregue interactividad a su libro, por ejemplo, alternar la visibilidad de las celdas, conectarse con un servicio en línea como **Binder** e incluir resultados interactivos (por ejemplo, figuras y widgets).\n",
    "* generar una variedad de resultados, incluidos sitios web (HTML, CSS, JS), markdown y PDF.\n",
    "* una interfaz de línea de comandos para crear libros rápidamente, por ejemplo, `jupyter-book build mybook`\n",
    "\n",
    "\n",
    "En esta sesión, se muestra un ejemplo de cómo crear un Jupyter Book desde cero y algunas de las características clave que ofrece Jupyter Book."
   ]
  },
  {
   "cell_type": "markdown",
   "id": "98ba5452",
   "metadata": {},
   "source": [
    "# Primeros pasos\n",
    "\n",
    "## Instalación\n",
    "\n",
    "Para instalar **Jupyter Book**, necesitará usar la línea de comando. Si ha instalado Anaconda, puede usar:\n",
    "\n",
    "```\n",
    "conda install -c conda-forge jupyter-book\n",
    "```\n",
    "\n",
    "De lo contrario, puede instalar con pip:\n",
    "\n",
    "\n",
    "```\n",
    "pip install jupyter-book\n",
    "```\n",
    "\n",
    "\n"
   ]
  },
  {
   "cell_type": "markdown",
   "id": "6f0ddb35",
   "metadata": {},
   "source": [
    "## Crear una estructura de libro\n",
    "\n",
    "Jupyter Book viene con una herramienta que le permite crear y construir libros rápidamente. Para crear el esqueleto del libro, escriba lo siguiente en la línea de comando:\n",
    "\n",
    "```\n",
    "jupyter-book create jupiter\n",
    "```\n",
    "\n",
    "> **Nota**: Aquí llamamos al libro `jupiter`, pero puedes elegir llamar a tu libro como quieras.\n",
    "\n",
    "\n",
    "Ahora tendrás un nuevo directorio llamado `jupiter` (o como quieras llamar a tu libro), con el siguiente contenido:\n",
    "\n",
    "```\n",
    "jupiter\n",
    "  ├── _config.yml\n",
    "  ├── _toc.yml\n",
    "  ├── content.md\n",
    "  ├── intro.md\n",
    "  ├── markdown.md\n",
    "  ├── notebooks.ipynb\n",
    "  ├── references.bib\n",
    "  └── requirements.txt\n",
    "```"
   ]
  }
 ],
 "metadata": {
  "kernelspec": {
   "display_name": "Python 3 (ipykernel)",
   "language": "python",
   "name": "python3"
  },
  "language_info": {
   "codemirror_mode": {
    "name": "ipython",
    "version": 3
   },
   "file_extension": ".py",
   "mimetype": "text/x-python",
   "name": "python",
   "nbconvert_exporter": "python",
   "pygments_lexer": "ipython3",
   "version": "3.8.10"
  }
 },
 "nbformat": 4,
 "nbformat_minor": 5
}
