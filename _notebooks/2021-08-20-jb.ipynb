{
 "cells": [
  {
   "cell_type": "markdown",
   "id": "7cd7e21b",
   "metadata": {},
   "source": [
    "# Jupyter Book\n",
    "> Documentación usando jupyter notebook.\n",
    "\n",
    "- toc: true \n",
    "- badges: false\n",
    "- comments: true\n",
    "- categories: [jupyter]\n",
    "- image: images/jb.png"
   ]
  },
  {
   "cell_type": "markdown",
   "id": "4c6b92f8",
   "metadata": {},
   "source": [
    "# Introducción\n",
    "\n",
    "[Jupyter Book](https://jupyterbook.org/intro.html) es un proyecto de código abierto para crear libros y documentos mediante Jupyter Notebooks y/o Markdown.\n",
    "\n",
    "Algunas características improtante del uso de Jupyter Book:\n",
    "\n",
    "* contenido con calidad de publicación que incluya figuras, símbolos matemáticos, citas y referencias cruzadas!\n",
    "* escribir contenido como Jupyter Notebooks, markdown o reStructuredText\n",
    "* Agregue interactividad a su libro, por ejemplo, alternar la visibilidad de las celdas, conectarse con un servicio en línea como **Binder** e incluir resultados interactivos (por ejemplo, figuras y widgets).\n",
    "* generar una variedad de resultados, incluidos sitios web (HTML, CSS, JS), markdown y PDF.\n",
    "* una interfaz de línea de comandos para crear libros rápidamente, por ejemplo, `jupyter-book build mybook`\n",
    "\n",
    "\n",
    "En esta sesión, se muestra un ejemplo de cómo crear un Jupyter Book desde cero y algunas de las características clave que ofrece Jupyter Book."
   ]
  },
  {
   "cell_type": "markdown",
   "id": "4781ab23",
   "metadata": {},
   "source": [
    "# Primeros pasos\n",
    "\n",
    "## Instalación\n",
    "\n",
    "Para instalar **Jupyter Book**, necesitará usar la línea de comando. Si ha instalado Anaconda, puede usar:\n",
    "\n",
    "```\n",
    "conda install -c conda-forge jupyter-book\n",
    "```\n",
    "\n",
    "De lo contrario, puede instalar con pip:\n",
    "\n",
    "\n",
    "```\n",
    "pip install jupyter-book\n",
    "```\n",
    "\n",
    "\n"
   ]
  },
  {
   "cell_type": "markdown",
   "id": "038cb8f7",
   "metadata": {},
   "source": [
    "## Crear una estructura de libro\n",
    "\n",
    "Jupyter Book viene con una herramienta que le permite crear y construir libros rápidamente. Para crear el esqueleto del libro, escriba lo siguiente en la línea de comando:\n",
    "\n",
    "```\n",
    "jupyter-book create jupiter\n",
    "```\n",
    "\n",
    "> **Nota**: Aquí llamamos al libro `jupiter`, pero puedes elegir llamar a tu libro como quieras.\n",
    "\n",
    "\n",
    "Ahora tendrás un nuevo directorio llamado `jupiter` (o como quieras llamar a tu libro), con el siguiente contenido:\n",
    "\n",
    "```\n",
    "jupiter\n",
    "  ├── _config.yml\n",
    "  ├── _toc.yml\n",
    "  ├── content.md\n",
    "  ├── intro.md\n",
    "  ├── markdown.md\n",
    "  ├── notebooks.ipynb\n",
    "  ├── references.bib\n",
    "  └── requirements.txt\n",
    "```"
   ]
  },
  {
   "cell_type": "markdown",
   "id": "34af07c5",
   "metadata": {},
   "source": [
    "## Re-estructuración del directorio\n",
    "\n",
    "Jupyter Book admite varios tipos de archivos:\n",
    "\n",
    "* Markdown (.md)\n",
    "* notebooks (.ipynb)\n",
    "* etc.\n",
    "\n",
    "Como Markdown y Jupyter Notebooks probablemente serán los tipos de archivo más comunes que usará, se mostrará un ejemplo de ello.\n",
    "\n",
    "Lo primero será eliminar los archivos de inicio en el directorio:\n",
    "\n",
    "* content.md\n",
    "* intro.md\n",
    "* markdown.md\n",
    "* notebooks.ipynb\n",
    "\n",
    "\n",
    "Así que ejecutamos por línea de comando:\n",
    "```\n",
    "rm content.md intro.md markdown.md notebooks.ipynb\n",
    "```"
   ]
  },
  {
   "cell_type": "markdown",
   "id": "12931b67",
   "metadata": {},
   "source": [
    "## Agregar un archivo Markdown\n",
    "\n",
    "Se comienza por agregar un archivo de markdown. Con algún editor a elección (por ejemplo, jupyter notebook o jupyterlab) se crea un nuevo archivo markdown llamado `Introduction.md`.\n",
    "\n",
    "Se usa este archivo como demostración de algunos de los principales tipos de contenido que puede agregar en Jupyter-Book.\n",
    "\n",
    "### Texto \n",
    "\n",
    "Se agrega un texto de Markdown simple a nuestro archivo. Si no está familiarizado con la sintaxis de markdown, consulte [Markdown Cheat Sheet]()https://www.markdownguide.org/cheat-sheet/. Puede copiar y pegar el siguiente contenido directamente en su archivo `Introduction.md`.\n",
    "\n",
    "```\n",
    "# Jupiter Book\n",
    "\n",
    "This book contains information about the planet **Jupiter** - the fifth planet from the sun and the largest planet in the solar system!\n",
    "```"
   ]
  },
  {
   "cell_type": "markdown",
   "id": "5ebbee66",
   "metadata": {},
   "source": [
    "### Figuras\n",
    "\n",
    "Puedes incluir figuras en tu Jupyter Book usando la siguiente sintaxis:\n",
    "```\n",
    "```{figure} my_image.png\n",
    "---\n",
    "height: 150px\n",
    "name: my-image\n",
    "---\n",
    "Here is my image's caption!\n",
    "```\n",
    "```\n",
    "\n",
    "\n",
    "\n"
   ]
  },
  {
   "cell_type": "markdown",
   "id": "61d5a7e5",
   "metadata": {},
   "source": [
    "Si bien la imagen puede estar contenida y referenciada desde el directorio raíz, también se puede incluir imágenes a través de URL. Incluyamos una imagen del planeta Júpiter en nuestro archivo `Introduction.md` usando lo siguiente:\n",
    "```\n",
    "```{figure} https://solarsystem.nasa.gov/system/resources/detail_files/2486_stsci-h-p1936a_1800.jpg\n",
    "---\n",
    "height: 300px\n",
    "name: jupiter-figure\n",
    "---\n",
    "The beautiful planet Jupiter!\n",
    "```\n",
    "\n",
    "\n",
    "La razón por la que le damos un \"nombre\" a nuestra imagen es para que podamos hacer referencia a ella fácilmente con la sintaxis:\n",
    "\n",
    "```\n",
    "{numref}`jupiter-figure`\n",
    "```\n",
    "\n",
    "Se agregará una oración que incluya esta referencia. El archivo completo ahora debería verse así:\n",
    "\n",
    "```\n",
    "# Jupiter Book\n",
    "\n",
    "This book contains information about the planet Jupiter - the fifth planet from the sun and the largest planet in the solar system! {numref}`jupiter-figure` below shows an image of Jupiter captured by the Hubble Space Telescope on June 27, 2019.\n",
    "\n",
    "```{figure} https://solarsystem.nasa.gov/system/resources/detail_files/2486_stsci-h-p1936a_1800.jpg\n",
    "---\n",
    "height: 300px\n",
    "name: jupiter-figure\n",
    "---\n",
    "The beautiful planet Jupiter! Source: [NASA](https://solarsystem.nasa.gov/resources/2486/hubbles-new-portrait-of-jupiter/?category=planets_jupiter).\n",
    "```\n",
    "```"
   ]
  },
  {
   "cell_type": "markdown",
   "id": "45ee92d9",
   "metadata": {},
   "source": [
    "En este punto, probablemente se debería crear nuetro libro para asegurarnos de que tenga el aspecto esperado. Para hacer eso, primero necesitamos modificar nuestro archivo `_toc.yml`. Este archivo contiene la tabla de contenido de nuestro libro. Abra ese archivo ahora y elimine todo lo que hay allí. Luego, simplemente agregue lo siguiente:\n",
    "\n",
    "```\n",
    "- file: introduction\n",
    "```"
   ]
  },
  {
   "cell_type": "markdown",
   "id": "555ebac6",
   "metadata": {},
   "source": [
    "Ahora podemos construir nuestro libro desde la línea de comandos asegurándonos de que estamos en el directorio raíz de nuestro libro y luego usando:\n",
    "\n",
    "```\n",
    "jupyter-book build .\n",
    "```"
   ]
  },
  {
   "cell_type": "code",
   "execution_count": null,
   "id": "38f9e5e3",
   "metadata": {},
   "outputs": [],
   "source": []
  },
  {
   "cell_type": "code",
   "execution_count": null,
   "id": "40a2f341",
   "metadata": {},
   "outputs": [],
   "source": []
  },
  {
   "cell_type": "code",
   "execution_count": null,
   "id": "24cea049",
   "metadata": {},
   "outputs": [],
   "source": []
  }
 ],
 "metadata": {
  "kernelspec": {
   "display_name": "Python 3 (ipykernel)",
   "language": "python",
   "name": "python3"
  },
  "language_info": {
   "codemirror_mode": {
    "name": "ipython",
    "version": 3
   },
   "file_extension": ".py",
   "mimetype": "text/x-python",
   "name": "python",
   "nbconvert_exporter": "python",
   "pygments_lexer": "ipython3",
   "version": "3.8.10"
  }
 },
 "nbformat": 4,
 "nbformat_minor": 5
}
