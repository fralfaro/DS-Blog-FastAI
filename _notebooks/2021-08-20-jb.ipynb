{
 "cells": [
  {
   "cell_type": "markdown",
   "id": "6fcb61d6",
   "metadata": {},
   "source": [
    "# Jupyter Book\n",
    "> Documentación usando jupyter notebook.\n",
    "\n",
    "- toc: true \n",
    "- badges: false\n",
    "- comments: true\n",
    "- categories: [jupyter]\n",
    "- image: images/jb.png"
   ]
  },
  {
   "cell_type": "markdown",
   "id": "df94aa88",
   "metadata": {},
   "source": [
    "# Introducción\n",
    "\n",
    "[Jupyter Book](https://jupyterbook.org/intro.html) es un proyecto de código abierto para crear libros y documentos mediante Jupyter Notebooks y/o Markdown.\n",
    "\n",
    "Algunas características importantes del uso de Jupyter Book:\n",
    "\n",
    "* contenido con calidad de publicación que incluya figuras, símbolos matemáticos, citas y referencias cruzadas!\n",
    "* escribir contenido como Jupyter Notebooks, markdown o reStructuredText\n",
    "* Agregue interactividad a su libro, por ejemplo, alternar la visibilidad de las celdas, conectarse con un servicio en línea como **Binder** e incluir resultados interactivos (por ejemplo, figuras y widgets).\n",
    "* generar una variedad de resultados, incluidos sitios web (HTML, CSS, JS), markdown y PDF.\n",
    "* una interfaz de línea de comandos para crear libros rápidamente, por ejemplo, `jupyter-book build mybook`\n",
    "\n",
    "\n",
    "En esta sesión, se muestra un ejemplo de cómo crear un Jupyter Book desde cero y algunas de las características clave que ofrece Jupyter Book.\n",
    "\n",
    "> **Nota**: Puede encontrar este ejemplo en el siguiente [repositorio](https://faam.gitlab.io/jb_example/jb_example/index.html)."
   ]
  },
  {
   "cell_type": "markdown",
   "id": "222265fc",
   "metadata": {},
   "source": [
    "# Primeros pasos\n",
    "\n",
    "## Instalación\n",
    "\n",
    "Para instalar **Jupyter Book**, necesitará usar la línea de comando. Si ha instalado Anaconda, puede usar:\n",
    "\n",
    "```\n",
    "conda install -c conda-forge jupyter-book\n",
    "```\n",
    "\n",
    "De lo contrario, puede instalar con pip:\n",
    "\n",
    "\n",
    "```\n",
    "pip install jupyter-book\n",
    "```\n",
    "\n",
    "\n"
   ]
  },
  {
   "cell_type": "markdown",
   "id": "51d0c599",
   "metadata": {},
   "source": [
    "## Crear una estructura de libro\n",
    "\n",
    "Jupyter Book viene con una herramienta que le permite crear y construir libros rápidamente. Para crear el esqueleto del libro, escriba lo siguiente en la línea de comando:\n",
    "\n",
    "```\n",
    "jupyter-book create jupiter\n",
    "```\n",
    "\n",
    "> **Nota**: Aquí llamamos al libro `jupiter`, pero puedes elegir llamar a tu libro como quieras.\n",
    "\n",
    "\n",
    "Ahora tendrás un nuevo directorio llamado `jupiter` (o como quieras llamar a tu libro), con el siguiente contenido:\n",
    "\n",
    "```\n",
    "jupiter\n",
    "  ├── _config.yml\n",
    "  ├── _toc.yml\n",
    "  ├── content.md\n",
    "  ├── intro.md\n",
    "  ├── markdown.md\n",
    "  ├── notebooks.ipynb\n",
    "  ├── references.bib\n",
    "  └── requirements.txt\n",
    "```"
   ]
  },
  {
   "cell_type": "markdown",
   "id": "8dd79ac7",
   "metadata": {},
   "source": [
    "## Re-estructuración del directorio\n",
    "\n",
    "Jupyter Book admite varios tipos de archivos:\n",
    "\n",
    "* Markdown (.md)\n",
    "* notebooks (.ipynb)\n",
    "* etc.\n",
    "\n",
    "Como Markdown y Jupyter Notebooks probablemente serán los tipos de archivo más comunes que usará, se mostrará un ejemplo de ello.\n",
    "\n",
    "Lo primero será eliminar los archivos de inicio en el directorio:\n",
    "\n",
    "* content.md\n",
    "* intro.md\n",
    "* markdown.md\n",
    "* notebooks.ipynb\n",
    "\n",
    "\n",
    "Así que ejecutamos por línea de comando:\n",
    "```\n",
    "rm content.md intro.md markdown.md notebooks.ipynb\n",
    "```"
   ]
  },
  {
   "cell_type": "markdown",
   "id": "4ddc598f",
   "metadata": {},
   "source": [
    "## Agregar un archivo Markdown\n",
    "\n",
    "Se comienza por agregar un archivo de markdown. Con algún editor a elección (por ejemplo, jupyter notebook o jupyterlab) se crea un nuevo archivo markdown llamado `Introduction.md`.\n",
    "\n",
    "Se usa este archivo como demostración de algunos de los principales tipos de contenido que puede agregar en Jupyter-Book.\n",
    "\n",
    "### Texto \n",
    "\n",
    "Se agrega un texto de Markdown simple a nuestro archivo. Si no está familiarizado con la sintaxis de markdown, consulte [Markdown Cheat Sheet]()https://www.markdownguide.org/cheat-sheet/. Puede copiar y pegar el siguiente contenido directamente en su archivo `Introduction.md`.\n",
    "\n",
    "```\n",
    "# Jupiter Book\n",
    "\n",
    "This book contains information about the planet **Jupiter** - the fifth planet from the sun and the largest planet in the solar system!\n",
    "```"
   ]
  },
  {
   "cell_type": "markdown",
   "id": "5c8b7b72",
   "metadata": {},
   "source": [
    "### Figuras\n",
    "\n",
    "Puedes incluir figuras en tu Jupyter Book usando la siguiente sintaxis:\n",
    "<pre>\n",
    "```{figure} my_image.png\n",
    "---\n",
    "height: 150px\n",
    "name: my-image\n",
    "---\n",
    "Here is my image's caption!\n",
    "```\n",
    "</pre>\n",
    "\n",
    "\n",
    "\n"
   ]
  },
  {
   "cell_type": "markdown",
   "id": "c7eaed1b",
   "metadata": {},
   "source": [
    "Si bien la imagen puede estar contenida y referenciada desde el directorio raíz, también se puede incluir imágenes a través de URL. Incluyamos una imagen del planeta Júpiter en nuestro archivo `Introduction.md` usando lo siguiente:\n",
    "\n",
    "<pre>\n",
    "```{figure} https://solarsystem.nasa.gov/system/resources/detail_files/2486_stsci-h-p1936a_1800.jpg\n",
    "---\n",
    "height: 300px\n",
    "name: jupiter-figure\n",
    "---\n",
    "The beautiful planet Jupiter!\n",
    "```\n",
    "\n",
    "\n",
    "La razón por la que le damos un \"nombre\" a nuestra imagen es para que podamos hacer referencia a ella fácilmente con la sintaxis:\n",
    "\n",
    "```\n",
    "{numref}`jupiter-figure`\n",
    "</pre>\n",
    "\n",
    "Se agregará una oración que incluya esta referencia. El archivo completo ahora debería verse así:\n",
    "\n",
    "<pre>\n",
    "# Jupiter Book\n",
    "\n",
    "This book contains information about the planet Jupiter - the fifth planet from the sun and the largest planet in the solar system! {numref}`jupiter-figure` below shows an image of Jupiter captured by the Hubble Space Telescope on June 27, 2019.\n",
    "\n",
    "```{figure} https://solarsystem.nasa.gov/system/resources/detail_files/2486_stsci-h-p1936a_1800.jpg\n",
    "---\n",
    "height: 300px\n",
    "name: jupiter-figure\n",
    "---\n",
    "The beautiful planet Jupiter! Source: [NASA](https://solarsystem.nasa.gov/resources/2486/hubbles-new-portrait-of-jupiter/?category=planets_jupiter).\n",
    "```\n",
    "</pre>"
   ]
  },
  {
   "cell_type": "markdown",
   "id": "baf7ca5f",
   "metadata": {},
   "source": [
    "En este punto, probablemente se debería crear nuetro libro para asegurarnos de que tenga el aspecto esperado. Para hacer eso, primero necesitamos modificar nuestro archivo `_toc.yml`. Este archivo contiene la tabla de contenido de nuestro libro. Abra ese archivo ahora y elimine todo lo que hay allí. Luego, simplemente agregue lo siguiente:\n",
    "\n",
    "```\n",
    "- file: introduction\n",
    "```"
   ]
  },
  {
   "cell_type": "markdown",
   "id": "ddf3837c",
   "metadata": {},
   "source": [
    "Ahora podemos construir nuestro libro desde la línea de comandos asegurándonos de que estamos en el directorio raíz de nuestro libro y luego usando:\n",
    "\n",
    "```\n",
    "jupyter-book build .\n",
    "```"
   ]
  },
  {
   "cell_type": "markdown",
   "id": "2649eb46",
   "metadata": {},
   "source": [
    "Una vez finalizada la compilación, tendrá un nuevo subdirectorio llamado`_build/html/` en la raíz de su libro, navegue hasta esa ubicación y abra `_build/html/index.html`. Debería verse algo como esto:\n",
    "\n",
    "![](https://ubc-dsci.github.io/jupyterdays/_images/first-build.png)"
   ]
  },
  {
   "cell_type": "markdown",
   "id": "6557a639",
   "metadata": {},
   "source": [
    "### Equaciones matemáticas\n",
    "\n",
    "Jupyter Book usa [MathJax](https://www.mathjax.org/) para componer matemáticas, lo que le permite agregar matemáticas de estilo LaTeX a su libro. Puede agregar matemáticas en línea, bloques matemáticos y ecuaciones numeradas a su libro Jupyter. Sigamos adelante y creemos un nuevo encabezado en nuestro archivo Introduction.md que incluye algunas matemáticas.\n",
    "\n",
    "Las matemáticas en línea se pueden definir usando `$` de la siguiente manera:"
   ]
  },
  {
   "cell_type": "markdown",
   "id": "10381595",
   "metadata": {},
   "source": [
    "<pre>\n",
    "Jupiter has a mass of:  $m_{j} \\approx 1.9 \\times 10^{27} kg$\n",
    "</pre>\n",
    "\n",
    "Jupiter has a mass of:  $m_{j} \\approx 1.9 \\times 10^{27} kg$"
   ]
  },
  {
   "cell_type": "markdown",
   "id": "f050cee9",
   "metadata": {},
   "source": [
    "Los bloques matemáticos se pueden definir usando la notación `$$`:\n",
    "<pre>\n",
    "$$m_{j} \\approx 1.9 \\times 10^{27} kg$$\n",
    "</pre>\n",
    "\n",
    "\n",
    "$$m_{j} \\approx 1.9 \\times 10^{27} kg$$"
   ]
  },
  {
   "cell_type": "markdown",
   "id": "1c7e38d9",
   "metadata": {},
   "source": [
    "> **Nota**: Si lo prefiere, los bloques matemáticos también se pueden definir con `\\begin{equation}` en lugar de `$$`.\n",
    "\n",
    "Las ecuaciones numeradas se pueden definir así (este es el estilo que te recomiendo que uses con más frecuencia):\n",
    "<pre>\n",
    "```{math}\n",
    ":label: my_label\n",
    "m_{j} \\approx 1.9 \\times 10^{27} kg\n",
    "```\n",
    "</pre>"
   ]
  },
  {
   "cell_type": "markdown",
   "id": "8bf33dfa",
   "metadata": {},
   "source": [
    "Agreguemos más contenido a nuestro libro. Copie y agregue el siguiente texto a su archivo `Introduction.md`:\n",
    "\n",
    "\n",
    "<pre>\n",
    "## The Mass of Jupiter\n",
    "\n",
    "We can estimate the mass of Jupiter from the period and size of an object orbiting it. For example, we can use Jupiter's moon Callisto to estimate it's mass.\n",
    "\n",
    "Callisto's period: $p_{c}=16.7 days$\n",
    "\n",
    "Callisto's orbit radius: $r_{c}=1,900,000 km$\n",
    "\n",
    "Now, using [Kepler's Law](https://solarsystem.nasa.gov/resources/310/orbits-and-keplers-laws/) we can work out the mass of Jupiter.\n",
    "\n",
    "```{math}\n",
    ":label: eq1\n",
    "m_{j} \\approx \\frac{r_{c}}{p_{c}} \\times 7.9 \\times 10^{10}\n",
    "```\n",
    "\n",
    "```{math}\n",
    ":label: eq2\n",
    "m_{j} \\approx 1.9 \\times 10^{27} kg\n",
    "```\n",
    "</pre>"
   ]
  },
  {
   "cell_type": "markdown",
   "id": "7b72504c",
   "metadata": {},
   "source": [
    "A continuación, puede reconstruir su libro (`jupyter-book build .`) y abrir `_build/html/index.html` para asegurarse de que todo se esté procesando como se esperaba."
   ]
  },
  {
   "cell_type": "markdown",
   "id": "9148a32d",
   "metadata": {},
   "source": [
    "### Controlando el diseño de la página\n",
    "Hay varias formas diferentes de controlar el diseño de las páginas de su Jupyter Book. El cambio de diseño que utilizo con más frecuencia es agregar contenido a un margen en la página. Puede agregar un margen usando la siguiente directiva:\n",
    "\n",
    "<pre>\n",
    "```{margin} An optional title\n",
    "Some margin content.\n",
    "```\n",
    "</pre>\n",
    "\n",
    "Agreguemos algo de contenido marginal al libro:\n",
    "\n",
    "\n",
    "<pre>\n",
    "```{margin} Did you know?\n",
    "Jupiter is 11.0x larger than Earth!\n",
    "```\n",
    "</pre>"
   ]
  },
  {
   "cell_type": "markdown",
   "id": "a11d8b98",
   "metadata": {},
   "source": [
    "### Advertencias\n",
    "\n",
    "Hay todo tipo de [advertencias](https://jupyterbook.org/content/content-blocks.html) diferentes que puede usar en Jupyter Book que se enumeran aquí en la documentación de Jupyter Book. Las advertencias se crean con la sintaxis:\n",
    "\n",
    "<pre>\n",
    "```{note}\n",
    "I am a useful note!\n",
    "```\n",
    "</pre>"
   ]
  },
  {
   "cell_type": "markdown",
   "id": "2fb1e4c8",
   "metadata": {},
   "source": [
    "No dude en agregar la siguiente advertencia a `Introduction.md`:\n",
    "\n",
    "<pre>\n",
    "```{hint}\n",
    "NASA provides a lot more information about the physical characteristics of Jupiter [here](https://solarsystem.nasa.gov/planets/jupiter/by-the-numbers/).\n",
    "```\n",
    "</pre>"
   ]
  },
  {
   "cell_type": "markdown",
   "id": "3189dabd",
   "metadata": {},
   "source": [
    "### Citas y bibliografía\n",
    "El último contenido corresponde a referencias y una bibliografía. Puede agregar citas de cualquier trabajo almacenado en el archivo Bibtex `Reference.bib` que se encuentra en el directorio raíz de su libro.\n",
    "\n",
    "Para incluir una cita en su libro, agregue una entrada bibtex a `references.bib`, por ejemplo:\n",
    "\n",
    "```\n",
    "@article{mayor1995jupiter,\n",
    "    title={A Jupiter-mass companion to a solar-type star},\n",
    "    author={Mayor, Michel and Queloz, Didier},\n",
    "    journal={Nature},\n",
    "    volume={378},\n",
    "    number={6555},\n",
    "    pages={355--359},\n",
    "    year={1995},\n",
    "    publisher={Nature Publishing Group}\n",
    "}\n",
    "\n",
    "@article{guillot1999interiors,\n",
    "    title={Interiors of giant planets inside and outside the solar system},\n",
    "    author={Guillot, Tristan},\n",
    "    journal={Science},\n",
    "    volume={286},\n",
    "    number={5437},\n",
    "    pages={72--77},\n",
    "    year={1999},\n",
    "    publisher={American Association for the Advancement of Science}\n",
    "}\n",
    "```"
   ]
  },
  {
   "cell_type": "markdown",
   "id": "91806127",
   "metadata": {},
   "source": [
    "> **Nota:** Consulte la [documentación de BibTex](http://www.bibtex.org/Using/) para obtener información sobre el estilo de referencia de BibTex. Google Scholar facilita la exportación de un formato de cita bibtex."
   ]
  },
  {
   "cell_type": "markdown",
   "id": "812dd8fe",
   "metadata": {},
   "source": [
    "A continuación, puede hacer referencia al trabajo en su libro utilizando la siguiente directiva:\n",
    "\n",
    "```\n",
    "{cite}`mayor1995jupiter`\n",
    "```\n",
    "\n",
    "O para múltiples citas:\n",
    "\n",
    "```\n",
    "{cite}`mayor1995jupiter,guillot1999interiors`\n",
    "```\n",
    "\n",
    "Luego puede crear una bibliografía a partir de `reference.bib` usando:\n",
    "\n",
    "<pre>\n",
    "```{bibliography} references.bib\n",
    "```\n",
    "</pre>\n",
    "\n",
    "Por ejemplo, intente agregar esto a su archivo `Introduction.md`:\n",
    "<pre>\n",
    "There might even be more planets out there with a similar mass to Jupiter {cite}`mayor1995jupiter,guillot1999interiors`!\n",
    "\n",
    "## Bibliography\n",
    "\n",
    "```{bibliography} references.bib\n",
    "```\n",
    "</pre>"
   ]
  },
  {
   "cell_type": "markdown",
   "id": "e060858c",
   "metadata": {},
   "source": [
    "Su archivo final `Introduction.md` debería verse así:\n",
    "\n",
    "\n",
    "<pre>\n",
    "# Jupiter Book\n",
    "\n",
    "This book contains information about the planet Jupiter - the fifth planet from the sun and the largest planet in the solar system! {numref}`jupiter-figure` below shows an image of Jupiter captured by the Hubble Space Telescope on June 27, 2019.\n",
    "\n",
    "```{figure} https://solarsystem.nasa.gov/system/resources/detail_files/2486_stsci-h-p1936a_1800.jpg\n",
    "---\n",
    "height: 300px\n",
    "name: jupiter-figure\n",
    "---\n",
    "The beautiful planet Jupiter! Source: [NASA](https://solarsystem.nasa.gov/resources/2486/hubbles-new-portrait-of-jupiter/?category=planets_jupiter).\n",
    "```\n",
    "\n",
    "## The Mass of Jupiter\n",
    "\n",
    "We can estimate the mass of Jupiter from the period and size of an object orbiting it. For example, we can use Jupiter's moon Callisto to estimate it's mass.\n",
    "\n",
    "Callisto's period: $p_{c}=16.7 days$\n",
    "\n",
    "Callisto's orbit radius: $r_{c}=1,900,000 km$\n",
    "\n",
    "Now, using [Kepler's Law](https://solarsystem.nasa.gov/resources/310/orbits-and-keplers-laws/) we can work out the mass of Jupiter.\n",
    "\n",
    "```{math}\n",
    ":label: eq1\n",
    "m_{j} \\approx \\frac{r_{c}}{p_{c}} \\times 7.9 \\times 10^{10}\n",
    "```\n",
    "\n",
    "```{math}\n",
    ":label: eq2\n",
    "m_{j} \\approx 1.9 \\times 10^{27} kg\n",
    "```\n",
    "\n",
    "```{margin} Did you know?\n",
    "Jupiter is 11.0x larger than Earth!\n",
    "```\n",
    "\n",
    "```{hint}\n",
    "NASA provides a lot more information about the physical characteristics of Jupiter [here](https://solarsystem.nasa.gov/planets/jupiter/by-the-numbers/).\n",
    "```\n",
    "\n",
    "There might even be more planets out there with a similar mass to Jupiter {cite}`mayor1995jupiter,guillot1999interiors`!\n",
    "\n",
    "## Bibliography\n",
    "\n",
    "```{bibliography} references.bib\n",
    "```\n",
    "</pre>\n",
    "\n",
    "Y debería renderizarse así:\n",
    "\n",
    "![](https://ubc-dsci.github.io/jupyterdays/_images/second-build.png)"
   ]
  },
  {
   "cell_type": "markdown",
   "id": "fc45dc54",
   "metadata": {},
   "source": [
    "## Agregar un archivo de contenido de Jupyter Notebook\n",
    "\n",
    "Todos los flujos de trabajo de formato y estilo que vimos en markdown también se aplican a un Jupyter Notebook; simplemente agréguelos a una celda de markdown y listo. \n",
    "\n",
    "Comencemos con lo siguiente:\n",
    "\n",
    "* Cree un nuevo notebook llamado `great_red_spot.ipynb`;\n",
    "* Agregue este archivo a su `_toc.yml`;\n",
    "* Agregue una celda de markdown con el siguiente contenido:\n",
    "\n",
    "<pre>\n",
    "# The Great Red Spot\n",
    "\n",
    "Jupiter’s iconic Great Red Spot (GRS) is actually an enormous storm that is bigger than Earth that has raged for hundreds of years! {numref}`great-red-spot` below shows an image of Jupiter captured by the Hubble Space Telescope on June 27, 2019.\n",
    "\n",
    "```{figure} https://solarsystem.nasa.gov/system/resources/detail_files/626_PIA21775.jpg\n",
    "---\n",
    "height: 300px\n",
    "name: great-red-spot\n",
    "---\n",
    "Jupiter's Great Red Spot! Source: [NASA](https://solarsystem.nasa.gov/resources/626/jupiters-great-red-spot-in-true-color/?category=planets_jupiter).\n",
    "```\n",
    "\n",
    "Jupiter's GRS has been observed to be shrinking for about the last century and a half! [Here](https://github.com/UBC-DSCI/jupyterdays/tree/master/jupyterdays/sessions/beuzen/data) is some data of the length of the GRS spanning the last ~150 years which we can use to investigate this phenomenon.\n",
    "</pre>"
   ]
  },
  {
   "cell_type": "markdown",
   "id": "da3efc5e",
   "metadata": {},
   "source": [
    "¡Ahora intente construir su libro (`jupyter-book build .`) para asegurarse de que todo se vea bien! Usando la barra de contenido del lado izquierdo, navegue a la nueva página “The Great Red Spot”, que debería verse así:\n",
    "\n",
    "![](https://ubc-dsci.github.io/jupyterdays/_images/third-build.png)"
   ]
  },
  {
   "cell_type": "markdown",
   "id": "f6ffebbe",
   "metadata": {},
   "source": [
    "¡Ok genial! Ahora importemos los datos a los que hicimos referencia para que podamos crear algunos gráficos.\n",
    "\n",
    "Cree una nueva celda de código debajo de la celda de rebaja actual y agregue el siguiente código para leer en nuestro conjunto de datos de GRS como un marco de datos de Pandas.\n",
    "\n",
    "```python\n",
    "import pandas as pd\n",
    "pd.options.plotting.backend = \"plotly\"\n",
    "\n",
    "url = \"https://raw.githubusercontent.com/UBC-DSCI/jupyterdays/master/jupyterdays/sessions/beuzen/data/GRS_data.csv\"\n",
    "df = pd.read_csv(url)\n",
    "df['Year'] = df['Year'].astype(int) \n",
    "df.head()\n",
    "```\n",
    "\n",
    "> **Nota**: Estamos imprimiendo la salida en la pantalla con el uso de `df.head()` y esto se mostrará en nuestro Jupyter Book renderizado.\n",
    "\n",
    "Si reconstruye su libro (`jupyter-book build .`) en este punto, verá algo como lo siguiente:\n",
    "\n",
    "![](https://ubc-dsci.github.io/jupyterdays/_images/fourth-build.png)\n"
   ]
  },
  {
   "cell_type": "markdown",
   "id": "980965ea",
   "metadata": {},
   "source": [
    "Ahora, podemos usar estos datos para crear algunos gráficos.\n",
    "\n",
    "Las tramas en su Jupyter Book pueden ser estáticas (por ejemplo, `matplotlib`, `seaborn`) o interactivas (por ejemplo, `altair`, `plotly`, `bokeh`). \n",
    "Para este tutorial, crearemos algunos gráficos de ejemplo usando `Plotly` (a través del backend de Pandas).\n",
    "\n",
    "Primero creemos un diagrama de dispersión simple de nuestros datos. Cree una nueva celda de código en su cuaderno y agregue el siguiente código:"
   ]
  },
  {
   "cell_type": "markdown",
   "id": "02b515a3",
   "metadata": {},
   "source": [
    "```python\n",
    "import plotly.io as pio\n",
    "pio.renderers.default = \"notebook\"\n",
    "fig = df.plot.scatter(x=\"Year\", y=\"GRS Length\", color=\"Recorder\",\n",
    "                      range_x=[1870, 2030], range_y=[10, 40],\n",
    "                      width=650, height=400)\n",
    "fig.update_layout(title={'text': \"Great Red Spot Size\", 'x':0.5, 'y':0.92})\n",
    "fig.update_traces(marker=dict(size=7))\n",
    "```"
   ]
  },
  {
   "cell_type": "markdown",
   "id": "2aefa455",
   "metadata": {},
   "source": [
    "Ya que estamos en eso, creemos también una trama animada. Cree otra celda de código nueva y agregue el siguiente código:\n",
    "```python\n",
    "fig = df.plot.scatter(x=\"Year\", y=\"GRS Length\",\n",
    "                      animation_frame=\"Year\",\n",
    "                      range_x=[1870, 2030], range_y=[10, 40],\n",
    "                      width=600, height=520)\n",
    "fig.update_layout(title={'text': \"Great Red Spot Size Animation\", 'x':0.5, 'y':0.94})\n",
    "fig.layout.updatemenus[0].buttons[0].args[1][\"frame\"][\"duration\"] = 200\n",
    "fig.update_traces(marker=dict(size=10))\n",
    "```\n",
    "\n",
    "> **Nota:** Plotly tiene [diferentes renderizadores](https://plotly.com/python/renderers/) disponibles para generar gráficos. Es posible que deba experimentar con renderizadores para obtener el resultado que desea en su Jupyter Book. He descubierto que `pio.renderers.default = \"notebook\"` funciona con la versión actual de Jupyter Book.\n",
    "\n",
    "¡Ahora, reconstruyamos nuestro libro y echemos un vistazo!\n",
    "\n",
    "![](https://ubc-dsci.github.io/jupyterdays/_images/fifth-build.png)\n"
   ]
  },
  {
   "cell_type": "markdown",
   "id": "9514f43e",
   "metadata": {},
   "source": [
    "Es posible que desee ocultar parte del código en su libro, ¡no hay problema! Eso también se hace fácilmente con Jupyter Book. \n",
    "\n",
    "El que nos interesa aquí es ocultar la entrada de código. Podemos hacerlo fácilmente agregando la etiqueta `hide-input` a la celda que deseamos ocultar. Hay varias formas de agregar etiquetas a la celda en Jupyter Notebooks. En Jupyter Lab, haga clic en el icono de engranaje en la barra lateral izquierda y luego agregue la etiqueta deseada como se muestra a continuación:\n",
    "\n",
    "![](https://ubc-dsci.github.io/jupyterdays/_images/hide-content.png)\n",
    "\n"
   ]
  },
  {
   "cell_type": "markdown",
   "id": "654ea07e",
   "metadata": {},
   "source": [
    "Continúe y agregue las etiquetas `hide-input` a ambas celdas de trazado en su archivo `great_red_spot.ipynb`. Cuando reconstruyas el libro, verás que la entrada del código está oculta (pero se puede alternar con el ícono `+`):\n",
    "\n",
    "![](https://ubc-dsci.github.io/jupyterdays/_images/sixth-build.png)\n",
    "\n",
    "> **Nota**: También puede almacenar el contenido de la libreta como valores, gráficos o marcos de datos en variables que se pueden utilizar en toda su libreta mediante la herramienta `glue`."
   ]
  },
  {
   "cell_type": "code",
   "execution_count": null,
   "id": "147f579c",
   "metadata": {},
   "outputs": [],
   "source": []
  },
  {
   "cell_type": "code",
   "execution_count": null,
   "id": "b63bae92",
   "metadata": {},
   "outputs": [],
   "source": []
  },
  {
   "cell_type": "code",
   "execution_count": null,
   "id": "e1b7e413",
   "metadata": {},
   "outputs": [],
   "source": []
  },
  {
   "cell_type": "code",
   "execution_count": null,
   "id": "afe90c41",
   "metadata": {},
   "outputs": [],
   "source": []
  }
 ],
 "metadata": {
  "kernelspec": {
   "display_name": "Python 3 (ipykernel)",
   "language": "python",
   "name": "python3"
  },
  "language_info": {
   "codemirror_mode": {
    "name": "ipython",
    "version": 3
   },
   "file_extension": ".py",
   "mimetype": "text/x-python",
   "name": "python",
   "nbconvert_exporter": "python",
   "pygments_lexer": "ipython3",
   "version": "3.8.10"
  }
 },
 "nbformat": 4,
 "nbformat_minor": 5
}
