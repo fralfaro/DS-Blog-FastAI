{
 "cells": [
  {
   "cell_type": "markdown",
   "id": "a3093cfa",
   "metadata": {},
   "source": [
    "# Jupyter Book\n",
    "> Documentación usando jupyter notebook.\n",
    "\n",
    "- toc: true \n",
    "- badges: false\n",
    "- comments: true\n",
    "- categories: [jupyter]\n",
    "- image: images/jb.png"
   ]
  },
  {
   "cell_type": "markdown",
   "id": "de6ef567",
   "metadata": {},
   "source": [
    "# Introducción\n",
    "\n",
    "[Jupyter Book](https://jupyterbook.org/intro.html) es un proyecto de código abierto para crear libros y documentos mediante Jupyter Notebooks y/o Markdown.\n",
    "\n",
    "Algunas características improtante del uso de Jupyter Book:\n",
    "\n",
    "* contenido con calidad de publicación que incluya figuras, símbolos matemáticos, citas y referencias cruzadas!\n",
    "* escribir contenido como Jupyter Notebooks, markdown o reStructuredText\n",
    "* Agregue interactividad a su libro, por ejemplo, alternar la visibilidad de las celdas, conectarse con un servicio en línea como **Binder** e incluir resultados interactivos (por ejemplo, figuras y widgets).\n",
    "* generar una variedad de resultados, incluidos sitios web (HTML, CSS, JS), markdown y PDF.\n",
    "* una interfaz de línea de comandos para crear libros rápidamente, por ejemplo, `jupyter-book build mybook`\n",
    "\n",
    "\n",
    "En esta sesión, se muestra un ejemplo de cómo crear un Jupyter Book desde cero y algunas de las características clave que ofrece Jupyter Book."
   ]
  },
  {
   "cell_type": "markdown",
   "id": "d1521e92",
   "metadata": {},
   "source": [
    "# Primeros pasos\n",
    "\n",
    "## Instalación\n",
    "\n",
    "Para instalar **Jupyter Book**, necesitará usar la línea de comando. Si ha instalado Anaconda, puede usar:\n",
    "\n",
    "```\n",
    "conda install -c conda-forge jupyter-book\n",
    "```\n",
    "\n",
    "De lo contrario, puede instalar con pip:\n",
    "\n",
    "\n",
    "```\n",
    "pip install jupyter-book\n",
    "```\n",
    "\n",
    "\n"
   ]
  },
  {
   "cell_type": "markdown",
   "id": "998e5b58",
   "metadata": {},
   "source": [
    "## Crear una estructura de libro\n",
    "\n",
    "Jupyter Book viene con una herramienta que le permite crear y construir libros rápidamente. Para crear el esqueleto del libro, escriba lo siguiente en la línea de comando:\n",
    "\n",
    "```\n",
    "jupyter-book create jupiter\n",
    "```\n",
    "\n",
    "> **Nota**: Aquí llamamos al libro `jupiter`, pero puedes elegir llamar a tu libro como quieras.\n",
    "\n",
    "\n",
    "Ahora tendrás un nuevo directorio llamado `jupiter` (o como quieras llamar a tu libro), con el siguiente contenido:\n",
    "\n",
    "```\n",
    "jupiter\n",
    "  ├── _config.yml\n",
    "  ├── _toc.yml\n",
    "  ├── content.md\n",
    "  ├── intro.md\n",
    "  ├── markdown.md\n",
    "  ├── notebooks.ipynb\n",
    "  ├── references.bib\n",
    "  └── requirements.txt\n",
    "```"
   ]
  },
  {
   "cell_type": "markdown",
   "id": "b2356768",
   "metadata": {},
   "source": [
    "## Re-estructuración del directorio\n",
    "\n",
    "Jupyter Book admite varios tipos de archivos:\n",
    "\n",
    "* Markdown (.md)\n",
    "* notebooks (.ipynb)\n",
    "* etc.\n",
    "\n",
    "Como Markdown y Jupyter Notebooks probablemente serán los tipos de archivo más comunes que usará, se mostrará un ejemplo de ello.\n",
    "\n",
    "Lo primero será eliminar los archivos de inicio en el directorio:\n",
    "\n",
    "* content.md\n",
    "* intro.md\n",
    "* markdown.md\n",
    "* notebooks.ipynb\n",
    "\n",
    "\n",
    "Así que ejecutamos por línea de comando:\n",
    "```\n",
    "rm content.md intro.md markdown.md notebooks.ipynb\n",
    "```"
   ]
  },
  {
   "cell_type": "markdown",
   "id": "91b51fe9",
   "metadata": {},
   "source": [
    "## Agregar un archivo Markdown\n",
    "\n",
    "Se comienza por agregar un archivo de markdown. Con algún editor a elección (por ejemplo, jupyter notebook o jupyterlab) se crea un nuevo archivo markdown llamado `Introduction.md`.\n",
    "\n",
    "Se usa este archivo como demostración de algunos de los principales tipos de contenido que puede agregar en Jupyter-Book.\n",
    "\n",
    "### Texto \n",
    "\n",
    "Se agrega un texto de Markdown simple a nuestro archivo. Si no está familiarizado con la sintaxis de markdown, consulte [Markdown Cheat Sheet]()https://www.markdownguide.org/cheat-sheet/. Puede copiar y pegar el siguiente contenido directamente en su archivo `Introduction.md`.\n",
    "\n",
    "```\n",
    "# Jupiter Book\n",
    "\n",
    "This book contains information about the planet **Jupiter** - the fifth planet from the sun and the largest planet in the solar system!\n",
    "```"
   ]
  },
  {
   "cell_type": "markdown",
   "id": "fa03af3e",
   "metadata": {},
   "source": [
    "### Figuras\n",
    "\n",
    "Puedes incluir figuras en tu Jupyter Book usando la siguiente sintaxis:\n",
    "\n",
    "\n",
    "```markdown\n",
    "\n",
    "```{figure} my_image.png\n",
    "---\n",
    "height: 150px\n",
    "name: my-image\n",
    "---\n",
    "Here is my image's caption!\n",
    "```\n",
    "```\n"
   ]
  }
 ],
 "metadata": {
  "kernelspec": {
   "display_name": "Python 3 (ipykernel)",
   "language": "python",
   "name": "python3"
  },
  "language_info": {
   "codemirror_mode": {
    "name": "ipython",
    "version": 3
   },
   "file_extension": ".py",
   "mimetype": "text/x-python",
   "name": "python",
   "nbconvert_exporter": "python",
   "pygments_lexer": "ipython3",
   "version": "3.8.10"
  }
 },
 "nbformat": 4,
 "nbformat_minor": 5
}
