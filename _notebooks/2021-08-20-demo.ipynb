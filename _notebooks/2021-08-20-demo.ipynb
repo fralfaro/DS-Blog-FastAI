{
 "cells": [
  {
   "cell_type": "markdown",
   "id": "2b3dd0d4",
   "metadata": {},
   "source": [
    "# Demo\n",
    "> Introducción a la metodología TDD.\n",
    "\n",
    "- toc: true \n",
    "- badges: false\n",
    "- comments: true\n",
    "- categories: [jupyter]\n",
    "- image: images/rise.png"
   ]
  },
  {
   "cell_type": "markdown",
   "id": "a945d858",
   "metadata": {},
   "source": [
    "# Introducción\n",
    "\n",
    "[RISE](https://rise.readthedocs.io/en/stable/) es una extensión a los jupyter notebooks que permite transformar tus notebooks en presentaciones interactivas. \n",
    "\n",
    "Toda las celdas pueden editarse y ejecutarse directamente, **durante** la presentación. Esto es práctico si necesitas corregir un error en una celda de texto. Más importante aún, puedes ejecutar código directamente en el kernel. En una misma diapositiva puedes tener múltiples celdas y elegir cuál ejecutar, o corregir el texto y volver a ejecutar.\n",
    "\n",
    "![](../images/rise/rise.gif)"
   ]
  },
  {
   "cell_type": "markdown",
   "id": "bc39dab3",
   "metadata": {},
   "source": [
    "## Conocimiento A priori\n",
    "\n",
    "Crear presentaciones con RISE es sencillo siempre y cuando tengas conocimientos básicos de Python, Jupyter Notebooks y línea de comandos. \n",
    "\n",
    "Además, será útil tener experiencia instalando y trabajando con extensiones de Jupyter Notebooks y paquetes de Python."
   ]
  },
  {
   "cell_type": "markdown",
   "id": "63ccad18",
   "metadata": {},
   "source": [
    "# Primeros Pasos\n",
    "\n",
    "## Instalación\n",
    "\n",
    "Para instalar **RISE**, necesitará usar la línea de comando. Si ha instalado Anaconda, puede usar:\n",
    "\n",
    "```terminal\n",
    "conda install -c conda-forge rise\n",
    "```"
   ]
  },
  {
   "cell_type": "markdown",
   "id": "51510321",
   "metadata": {},
   "source": [
    "De lo contrario, puede instalar con pip:\n",
    "\n",
    "\n",
    "```terminal\n",
    "pip install RISE\n",
    "```\n",
    "\n",
    "> **Nota**: No interactuarás directamente con **RISE**. En su lugar, podrá acceder a él a través de Jupyter Notebooks."
   ]
  }
 ],
 "metadata": {
  "kernelspec": {
   "display_name": "Python 3 (ipykernel)",
   "language": "python",
   "name": "python3"
  },
  "language_info": {
   "codemirror_mode": {
    "name": "ipython",
    "version": 3
   },
   "file_extension": ".py",
   "mimetype": "text/x-python",
   "name": "python",
   "nbconvert_exporter": "python",
   "pygments_lexer": "ipython3",
   "version": "3.8.10"
  }
 },
 "nbformat": 4,
 "nbformat_minor": 5
}
