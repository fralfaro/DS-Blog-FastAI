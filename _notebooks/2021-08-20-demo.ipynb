{
 "cells": [
  {
   "cell_type": "markdown",
   "id": "a4c91c59",
   "metadata": {},
   "source": [
    "# Demo\n",
    "> Introducción a la metodología TDD.\n",
    "\n",
    "- toc: true \n",
    "- badges: false\n",
    "- comments: true\n",
    "- categories: [jupyter]\n",
    "- image: images/rise.png"
   ]
  },
  {
   "cell_type": "markdown",
   "id": "f4c2bc4a",
   "metadata": {},
   "source": [
    "# Introducción\n",
    "\n",
    "[RISE](https://rise.readthedocs.io/en/stable/) es una extensión a los jupyter notebooks que permite transformar tus notebooks en presentaciones interactivas. \n",
    "\n",
    "Toda las celdas pueden editarse y ejecutarse directamente, **durante** la presentación. Esto es práctico si necesitas corregir un error en una celda de texto. Más importante aún, puedes ejecutar código directamente en el kernel. En una misma diapositiva puedes tener múltiples celdas y elegir cuál ejecutar, o corregir el texto y volver a ejecutar.\n",
    "\n",
    "![](../images/rise/rise.gif)"
   ]
  },
  {
   "cell_type": "markdown",
   "id": "a1aae8b6",
   "metadata": {},
   "source": [
    "## Conocimiento A priori\n",
    "\n",
    "Crear presentaciones con RISE es sencillo siempre y cuando tengas conocimientos básicos de Python, Jupyter Notebooks y línea de comandos. \n",
    "\n",
    "Además, será útil tener experiencia instalando y trabajando con extensiones de Jupyter Notebooks y paquetes de Python."
   ]
  },
  {
   "cell_type": "markdown",
   "id": "830eb2d8",
   "metadata": {},
   "source": [
    "# Primeros Pasos\n",
    "\n",
    "## Instalación\n",
    "\n",
    "Para instalar **RISE**, necesitará usar la línea de comando. Si ha instalado Anaconda, puede usar:\n",
    "\n",
    "```terminal\n",
    "conda install -c conda-forge rise\n",
    "```"
   ]
  },
  {
   "cell_type": "markdown",
   "id": "9723fdf7",
   "metadata": {},
   "source": [
    "De lo contrario, puede instalar con pip:\n",
    "\n",
    "\n",
    "```terminal\n",
    "pip install RISE\n",
    "```\n",
    "\n",
    "> **Nota**: No interactuarás directamente con **RISE**. En su lugar, podrá acceder a él a través de Jupyter Notebooks."
   ]
  },
  {
   "cell_type": "markdown",
   "id": "8c96acbc",
   "metadata": {},
   "source": [
    "## Habilitación del modo de presentación\n",
    "\n",
    "Para crear una presentación, deberá iniciar Jupyter Notebooks y abrir un nuevo notebook (tenga en cuenta que debe hacer esto después de haber instalado **RISE**). Una vez que tenga un Jupyter Notebook nuevo, deberá habilitar la presentación de diapositivas. Puede hacer esto haciendo lo siguiente:"
   ]
  },
  {
   "cell_type": "markdown",
   "id": "04676370",
   "metadata": {},
   "source": [
    "* Haga clic en \"Ver\" en la barra de herramientas de Jupyter\n",
    "* Coloca el cursor sobre \"Barra de herramientas de celda\" en el menú \"Ver\"\n",
    "* Haga clic en \"Presentación de diapositivas\" en el menú \"Barra de herramientas de celda\""
   ]
  },
  {
   "cell_type": "markdown",
   "id": "42275d46",
   "metadata": {},
   "source": [
    "![](../images/rise/1.png)"
   ]
  },
  {
   "cell_type": "markdown",
   "id": "460b1d59",
   "metadata": {},
   "source": [
    "## Creando las diapositivas con celdas\n",
    "\n",
    "En este punto, debería tener una barra de herramientas de celda con un menú desplegable en el lado derecho:\n",
    "![](./images/rise/2.png)"
   ]
  }
 ],
 "metadata": {
  "kernelspec": {
   "display_name": "Python 3 (ipykernel)",
   "language": "python",
   "name": "python3"
  },
  "language_info": {
   "codemirror_mode": {
    "name": "ipython",
    "version": 3
   },
   "file_extension": ".py",
   "mimetype": "text/x-python",
   "name": "python",
   "nbconvert_exporter": "python",
   "pygments_lexer": "ipython3",
   "version": "3.8.10"
  }
 },
 "nbformat": 4,
 "nbformat_minor": 5
}
